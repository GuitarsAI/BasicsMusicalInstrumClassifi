{
 "cells": [
  {
   "cell_type": "markdown",
   "metadata": {},
   "source": [
    "# The Very Basics of Musical Instruments Classification using Machine Learning\n",
    "## Short-Time Fourier Transform (STFT) and an Introduction to Convolutional Neural Networks (CNN) using PyTorch\n",
    "\n",
    "<br>\n",
    "\n",
    "<p align=\"left\">\n",
    "<img src=\"./img/businesscard.jpg\" width=\"400px\" alt=\"Business Card\" align=\"left\" >\n",
    "</p>\n",
    "<br>\n",
    "\n"
   ]
  },
  {
   "cell_type": "markdown",
   "metadata": {},
   "source": [
    "Based on the Introduction to Deep Learning for Computer Vision using PyTorch by Kevin McGuinness, DCU\n",
    "https://colab.research.google.com/drive/1gJAAN3UI9005ecVmxPun5ZLCGu4YBtLo"
   ]
  },
  {
   "cell_type": "markdown",
   "metadata": {},
   "source": [
    "## Environments Configuration"
   ]
  },
  {
   "cell_type": "code",
   "execution_count": 1,
   "metadata": {},
   "outputs": [
    {
     "name": "stdout",
     "output_type": "stream",
     "text": [
      "cpu\n",
      "Not inside Google Colab: No module named 'google'. Using standard configurations.\n",
      "processor\t: 0\r\n",
      "vendor_id\t: GenuineIntel\r\n",
      "cpu family\t: 6\r\n",
      "model\t\t: 142\r\n",
      "model name\t: Intel(R) Core(TM) i7-7500U CPU @ 2.70GHz\r\n",
      "stepping\t: 9\r\n",
      "cpu MHz\t\t: 2904.002\r\n",
      "cache size\t: 4096 KB\r\n",
      "physical id\t: 0\r\n",
      "siblings\t: 2\r\n",
      "core id\t\t: 0\r\n",
      "cpu cores\t: 2\r\n",
      "apicid\t\t: 0\r\n",
      "initial apicid\t: 0\r\n",
      "fpu\t\t: yes\r\n",
      "fpu_exception\t: yes\r\n",
      "cpuid level\t: 22\r\n",
      "wp\t\t: yes\r\n",
      "flags\t\t: fpu vme de pse tsc msr pae mce cx8 apic sep mtrr pge mca cmov pat pse36 clflush mmx fxsr sse sse2 ht syscall nx rdtscp lm constant_tsc rep_good nopl xtopology nonstop_tsc cpuid pni pclmulqdq ssse3 cx16 pcid sse4_1 sse4_2 x2apic movbe popcnt aes xsave avx rdrand hypervisor lahf_lm abm 3dnowprefetch invpcid_single pti fsgsbase avx2 invpcid rdseed clflushopt\r\n",
      "bugs\t\t: cpu_meltdown spectre_v1 spectre_v2 spec_store_bypass l1tf\r\n",
      "bogomips\t: 5808.00\r\n",
      "clflush size\t: 64\r\n",
      "cache_alignment\t: 64\r\n",
      "address sizes\t: 39 bits physical, 48 bits virtual\r\n",
      "power management:\r\n",
      "\r\n",
      "processor\t: 1\r\n",
      "vendor_id\t: GenuineIntel\r\n",
      "cpu family\t: 6\r\n",
      "model\t\t: 142\r\n",
      "model name\t: Intel(R) Core(TM) i7-7500U CPU @ 2.70GHz\r\n",
      "stepping\t: 9\r\n",
      "cpu MHz\t\t: 2904.002\r\n",
      "cache size\t: 4096 KB\r\n",
      "physical id\t: 0\r\n",
      "siblings\t: 2\r\n",
      "core id\t\t: 1\r\n",
      "cpu cores\t: 2\r\n",
      "apicid\t\t: 1\r\n",
      "initial apicid\t: 1\r\n",
      "fpu\t\t: yes\r\n",
      "fpu_exception\t: yes\r\n",
      "cpuid level\t: 22\r\n",
      "wp\t\t: yes\r\n",
      "flags\t\t: fpu vme de pse tsc msr pae mce cx8 apic sep mtrr pge mca cmov pat pse36 clflush mmx fxsr sse sse2 ht syscall nx rdtscp lm constant_tsc rep_good nopl xtopology nonstop_tsc cpuid pni pclmulqdq ssse3 cx16 pcid sse4_1 sse4_2 x2apic movbe popcnt aes xsave avx rdrand hypervisor lahf_lm abm 3dnowprefetch invpcid_single pti fsgsbase avx2 invpcid rdseed clflushopt\r\n",
      "bugs\t\t: cpu_meltdown spectre_v1 spectre_v2 spec_store_bypass l1tf\r\n",
      "bogomips\t: 5808.00\r\n",
      "clflush size\t: 64\r\n",
      "cache_alignment\t: 64\r\n",
      "address sizes\t: 39 bits physical, 48 bits virtual\r\n",
      "power management:\r\n",
      "\r\n"
     ]
    }
   ],
   "source": [
    "## Check if inside Google Colab\n",
    "inColab=False\n",
    "## Check CPU or GPU\n",
    "import torch\n",
    "device = torch.device(\"cuda\" if torch.cuda.is_available() else \"cpu\")\n",
    "print(device)\n",
    "\n",
    "try:\n",
    "    import google.colab\n",
    "    from google.colab import widgets\n",
    "    from tensorboardcolab import TensorBoardColab\n",
    "    print(\"Tensorflow Backend only for TensorBoard. Using PyTorch.\")\n",
    "    inColab=True\n",
    "    \n",
    "    # Create Directory for Checkpoints\n",
    "    !mkdir -p checkpoints\n",
    "    \n",
    "    # Install torchaudio\n",
    "    !apt-get update #Update\n",
    "    !apt-get install sox libsox-dev libsox-fmt-all #Install Dependencies\n",
    "    !pip3 install git+git://github.com/pytorch/audio #Install torchaudio\n",
    "    \n",
    "    # Clone Guitars.Ai Basics of Musical Instruments Classification Repository \n",
    "    !git clone https://github.com/GuitarsAI/BasicsMusicalInstrumClassifi\n",
    "    !unzip ./BasicsMusicalInstrumClassifi/audio/*.zip -d ./BasicsMusicalInstrumClassifi/audio\n",
    "    path = \"./BasicsMusicalInstrumClassifi/audio/london_phill_dataset_multi/\"\n",
    "    \n",
    "    # Check for GPU\n",
    "    if device.type == 'cuda':\n",
    "        !nvidia-smi\n",
    "        print(torch.cuda.get_device_name(0))        \n",
    "    else:\n",
    "        print(\"\\nNo GPU Detected. Using CPU. Configure the Runtime for GPU.\\n\".upper())\n",
    "        !cat /proc/cpuinfo\n",
    "    \n",
    "except Exception as e:\n",
    "    if inColab:\n",
    "        print(\"Error in Congiguration.%s\" % e)\n",
    "        stop\n",
    "    \n",
    "    print(\"Not inside Google Colab: %s. Using standard configurations.\" % (e))\n",
    "    # Running in Different Environmet\n",
    "    !cat /proc/cpuinfo\n",
    "    path='./audio/london_phill_dataset_multi/'"
   ]
  },
  {
   "cell_type": "markdown",
   "metadata": {},
   "source": [
    "## Imports"
   ]
  },
  {
   "cell_type": "code",
   "execution_count": 2,
   "metadata": {},
   "outputs": [
    {
     "data": {
      "text/html": [
       "<style>.container { width:80% !important; }</style>"
      ],
      "text/plain": [
       "<IPython.core.display.HTML object>"
      ]
     },
     "metadata": {},
     "output_type": "display_data"
    }
   ],
   "source": [
    "# Imports\n",
    "\n",
    "#General\n",
    "import numpy as np\n",
    "import itertools\n",
    "\n",
    "# System\n",
    "import os, fnmatch\n",
    "\n",
    "# Visualization\n",
    "import matplotlib.pyplot as plt\n",
    "from IPython.core.display import HTML, display, Image\n",
    "import IPython.display as ipd\n",
    "\n",
    "# Machine Learning\n",
    "from sklearn.preprocessing import LabelEncoder, OneHotEncoder, StandardScaler\n",
    "from sklearn.model_selection import StratifiedShuffleSplit\n",
    "from sklearn.metrics import recall_score, precision_score, accuracy_score\n",
    "from sklearn.metrics import confusion_matrix, f1_score, classification_report\n",
    "\n",
    "# Deep Learning\n",
    "import torch\n",
    "from torch.autograd import Variable\n",
    "import torch.nn.functional as F\n",
    "import torch.nn as nn\n",
    "import torch.optim as optim\n",
    "from torch.utils.data import Dataset, DataLoader\n",
    "\n",
    "# Random Seed\n",
    "from numpy.random import seed\n",
    "seed(0)\n",
    "torch.manual_seed(0)\n",
    "\n",
    "# Audio\n",
    "import librosa.display, librosa\n",
    "from librosa.util import normalize as normalize\n",
    "import torchaudio\n",
    "import torchaudio.transforms as transforms\n",
    "\n",
    "# Configure Jupyter Cell Size\n",
    "display(HTML(\"<style>.container { width:80% !important; }</style>\"))"
   ]
  },
  {
   "cell_type": "markdown",
   "metadata": {},
   "source": [
    "## Parameters"
   ]
  },
  {
   "cell_type": "code",
   "execution_count": 3,
   "metadata": {},
   "outputs": [],
   "source": [
    "# Signal Processing Parameters\n",
    "fs = 44100         # Sampling Frequency\n",
    "n_fft = 2048       # Length of the FFT \n",
    "hop_length = 512   # Number of samples in frames\n",
    "duration = 1       # Duration of audio 1s\n",
    "\n",
    "# Machine Learning Parameters\n",
    "testset_size = 0.25   # Percentage of data for Testing\n",
    "batch_size = 1        # How may samples per batch to load\n",
    "num_epochs = 15       # Number of Epochs\n",
    "lr = 0.01             # Learning Rate\n",
    "    "
   ]
  },
  {
   "cell_type": "markdown",
   "metadata": {},
   "source": [
    "## Get Audio Files and Generate Labels"
   ]
  },
  {
   "cell_type": "code",
   "execution_count": 4,
   "metadata": {},
   "outputs": [
    {
     "name": "stdout",
     "output_type": "stream",
     "text": [
      "Get viola_Gs4_025_pianissimo_arco-normal.mp3\n",
      "Get viola_A4_1_fortissimo_snap-pizz.mp3\n",
      "Get viola_A3_1_piano_pizz-normal.mp3\n",
      "Get viola_Gs4_05_pianissimo_arco-normal.mp3\n",
      "Get viola_Gs3_025_fortissimo_arco-normal.mp3\n",
      "Get viola_A3_1_piano_arco-normal.mp3\n",
      "Get viola_A4_025_piano_arco-normal.mp3\n",
      "Get viola_A3_025_mezzo-piano_arco-normal.mp3\n",
      "Get viola_Gs4_15_mezzo-piano_arco-normal.mp3\n",
      "Get viola_A5_1_fortissimo_arco-normal.mp3\n",
      "Get viola_Gs4_1_mezzo-piano_arco-normal.mp3\n",
      "Get viola_Gs5_05_fortissimo_arco-normal.mp3\n",
      "Get viola_Gs5_1_fortissimo_snap-pizz.mp3\n",
      "Get viola_Gs5_025_mezzo-piano_arco-normal.mp3\n",
      "Get viola_A3_1_fortissimo_arco-normal.mp3\n",
      "Get viola_A4_15_fortissimo_arco-normal.mp3\n",
      "Get viola_A4_05_forte_arco-normal.mp3\n",
      "Get viola_A5_1_pianissimo_arco-normal.mp3\n",
      "Get viola_A4_1_piano_arco-normal.mp3\n",
      "Get viola_A3_025_fortissimo_arco-normal.mp3\n",
      "Get viola_Gs6_025_pianissimo_arco-normal.mp3\n",
      "Get viola_Gs6_05_fortissimo_arco-normal.mp3\n",
      "Get viola_Gs6_05_pianissimo_arco-normal.mp3\n",
      "Get viola_Gs4_025_mezzo-piano_arco-normal.mp3\n",
      "Get viola_Gs5_1_fortissimo_arco-normal.mp3\n",
      "Get viola_A3_1_forte_arco-normal.mp3\n",
      "Get viola_Gs3_15_fortissimo_arco-normal.mp3\n",
      "Get viola_Gs4_025_fortissimo_arco-normal.mp3\n",
      "Get viola_Gs6_05_piano_arco-normal.mp3\n",
      "Get viola_Gs4_15_pianissimo_arco-normal.mp3\n",
      "Get viola_A4_05_fortissimo_arco-normal.mp3\n",
      "Get viola_A5_1_mezzo-forte_artificial-harmonic.mp3\n",
      "Get viola_Gs5_05_piano_arco-normal.mp3\n",
      "Get viola_A4_1_mezzo-forte_arco-major-trill.mp3\n",
      "Get viola_Gs3_025_piano_arco-normal.mp3\n",
      "Get viola_Gs4_1_piano_arco-normal.mp3\n",
      "Get viola_Gs5_15_fortissimo_arco-normal.mp3\n",
      "Get viola_A4_05_pianissimo_arco-normal.mp3\n",
      "Get viola_A4_05_piano_arco-normal.mp3\n",
      "Get viola_Ds3_1_piano_pizz-normal.mp3\n",
      "Get viola_A3_1_pianissimo_arco-normal.mp3\n",
      "Get viola_A3_15_fortissimo_arco-normal.mp3\n",
      "Get viola_A5_1_forte_arco-normal.mp3\n",
      "Get viola_Gs3_025_mezzo-piano_arco-normal.mp3\n",
      "Get viola_Gs5_15_pianissimo_arco-normal.mp3\n",
      "Get viola_A3_05_fortissimo_arco-normal.mp3\n",
      "Get viola_Ds3_05_mezzo-piano_arco-normal.mp3\n",
      "Get viola_Gs6_1_pianissimo_arco-normal.mp3\n",
      "Get viola_Gs3_15_pianissimo_arco-normal.mp3\n",
      "Get viola_A3_1_mezzo-forte_molto-vibrato.mp3\n",
      "Get viola_Gs6_025_fortissimo_arco-normal.mp3\n",
      "Get viola_A3_1_fortissimo_pizz-normal.mp3\n",
      "Get viola_Gs6_1_fortissimo_arco-normal.mp3\n",
      "Get viola_A3_15_piano_arco-normal.mp3\n",
      "Get viola_A4_1_mezzo-forte_arco-minor-trill.mp3\n",
      "Get viola_A4_1_fortissimo_arco-normal.mp3\n",
      "Get viola_A3_025_piano_arco-normal.mp3\n",
      "Get viola_A3_05_pianissimo_arco-normal.mp3\n",
      "Get viola_A4_1_piano_pizz-normal.mp3\n",
      "Get viola_A3_1_piano_arco-glissando.mp3\n",
      "Get viola_A4_1_pianissimo_arco-normal.mp3\n",
      "Get viola_Gs6_1_forte_arco-normal.mp3\n",
      "Get viola_Gs5_05_forte_arco-normal.mp3\n",
      "Get viola_A4_1_forte_arco-normal.mp3\n",
      "Get viola_A3_05_piano_arco-normal.mp3\n",
      "Get viola_Gs5_05_pianissimo_arco-normal.mp3\n",
      "Get viola_Gs4_1_fortissimo_arco-normal.mp3\n",
      "Get viola_Gs5_025_fortissimo_arco-normal.mp3\n",
      "Get viola_Gs5_025_pianissimo_arco-normal.mp3\n",
      "Get viola_Gs5_1_piano_arco-normal.mp3\n",
      "Get viola_Gs3_025_pianissimo_arco-normal.mp3\n",
      "Get viola_Gs4_1_pianissimo_arco-normal.mp3\n",
      "Get viola_A4_1_mezzo-piano_non-vibrato.mp3\n",
      "Get viola_Gs4_05_mezzo-piano_arco-normal.mp3\n",
      "Get viola_A4_025_mezzo-piano_arco-normal.mp3\n",
      "Get viola_A4_025_pianissimo_arco-normal.mp3\n",
      "Get viola_A4_15_piano_arco-normal.mp3\n",
      "Get viola_Gs6_05_forte_arco-normal.mp3\n",
      "Get viola_Gs6_15_fortissimo_arco-normal.mp3\n",
      "Get viola_Gs6_025_forte_arco-normal.mp3\n",
      "Get viola_A4_15_pianissimo_arco-normal.mp3\n",
      "Get viola_Gs3_15_piano_arco-normal.mp3\n",
      "Get viola_A3_05_mezzo-piano_arco-normal.mp3\n",
      "Get viola_Gs6_025_mezzo-piano_arco-normal.mp3\n",
      "Get viola_Gs6_15_forte_arco-normal.mp3\n",
      "Get viola_Gs4_15_fortissimo_arco-normal.mp3\n",
      "Get viola_A4_025_fortissimo_arco-normal.mp3\n",
      "Get viola_Ds3_05_fortissimo_arco-normal.mp3\n",
      "Get viola_A4_05_mezzo-piano_arco-normal.mp3\n",
      "Get viola_Gs5_1_pianissimo_arco-normal.mp3\n",
      "Get viola_Gs4_05_fortissimo_arco-normal.mp3\n",
      "Get viola_Gs6_025_piano_arco-normal.mp3\n",
      "Get viola_A4_1_mezzo-forte_molto-vibrato.mp3\n",
      "Get viola_A3_15_forte_arco-normal.mp3\n",
      "Get viola_Gs5_025_forte_arco-normal.mp3\n",
      "Get viola_A3_025_pianissimo_arco-normal.mp3\n",
      "Get viola_Gs4_05_piano_arco-normal.mp3\n",
      "Get viola_A3_1_mezzo-piano_non-vibrato.mp3\n",
      "Get viola_A4_1_piano_arco-glissando.mp3\n",
      "Get viola_Gs5_1_forte_arco-normal.mp3\n",
      "Get saxophone_A4_1_piano_normal.mp3\n",
      "Get saxophone_A4_1_mezzo-forte_normal.mp3\n",
      "Get saxophone_A3_1_piano_normal.mp3\n",
      "Get saxophone_A3_1_fortissimo_normal.mp3\n",
      "Get saxophone_Gs4_025_fortissimo_normal.mp3\n",
      "Get saxophone_A5_05_fortissimo_normal.mp3\n",
      "Get saxophone_Gs3_05_fortissimo_normal.mp3\n",
      "Get saxophone_A3_05_pianissimo_normal.mp3\n",
      "Get saxophone_Gs4_15_forte_normal.mp3\n",
      "Get saxophone_Ds4_05_pianissimo_normal.mp3\n",
      "Get saxophone_A4_05_fortissimo_normal.mp3\n",
      "Get saxophone_Gs3_025_fortissimo_normal.mp3\n",
      "Get saxophone_Gs4_05_piano_normal.mp3\n",
      "Get saxophone_A5_1_forte_normal.mp3\n",
      "Get saxophone_A3_025_fortissimo_normal.mp3\n",
      "Get saxophone_A3_15_fortissimo_normal.mp3\n",
      "Get saxophone_Gs3_05_mezzo-piano_normal.mp3\n",
      "Get saxophone_Ds4_025_fortissimo_normal.mp3\n",
      "Get saxophone_Ds4_05_piano_normal.mp3\n",
      "Get saxophone_A3_025_mezzo-piano_normal.mp3\n",
      "Get saxophone_Gs3_05_piano_normal.mp3\n",
      "Get saxophone_Ds4_025_forte_normal.mp3\n",
      "Get saxophone_A4_15_forte_normal.mp3\n",
      "Get saxophone_Gs5_15_pianissimo_normal.mp3\n",
      "Get saxophone_Gs4_1_pianissimo_normal.mp3\n",
      "Get saxophone_Ds5_1_forte_major-trill.mp3\n",
      "Get saxophone_A3_025_pianissimo_normal.mp3\n",
      "Get saxophone_Gs4_025_forte_normal.mp3\n",
      "Get saxophone_Ds4_15_fortissimo_normal.mp3\n",
      "Get saxophone_Ds4_025_mezzo-forte_normal.mp3\n",
      "Get saxophone_A5_05_forte_normal.mp3\n",
      "Get saxophone_Gs5_15_fortissimo_normal.mp3\n",
      "Get saxophone_Gs3_025_forte_normal.mp3\n",
      "Get saxophone_Gs5_05_pianissimo_normal.mp3\n",
      "Get saxophone_A5_1_pianissimo_normal.mp3\n",
      "Get saxophone_Gs5_05_forte_normal.mp3\n",
      "Get saxophone_Gs4_025_pianissimo_normal.mp3\n",
      "Get saxophone_Gs5_025_forte_normal.mp3\n",
      "Get saxophone_Gs3_1_piano_normal.mp3\n",
      "Get saxophone_Gs4_05_mezzo-forte_normal.mp3\n",
      "Get saxophone_A5_15_pianissimo_normal.mp3\n",
      "Get saxophone_Gs5_1_forte_normal.mp3\n",
      "Get saxophone_Gs4_1_forte_normal.mp3\n",
      "Get saxophone_Gs5_1_fortissimo_normal.mp3\n",
      "Get saxophone_Gs4_025_piano_normal.mp3\n",
      "Get saxophone_Gs4_1_piano_normal.mp3\n",
      "Get saxophone_Gs5_025_fortissimo_normal.mp3\n",
      "Get saxophone_Gs3_1_pianissimo_normal.mp3\n",
      "Get saxophone_Gs4_05_fortissimo_normal.mp3\n",
      "Get saxophone_A4_05_forte_normal.mp3\n",
      "Get saxophone_Gs3_05_pianissimo_normal.mp3\n",
      "Get saxophone_Gs5_15_piano_normal.mp3\n",
      "Get saxophone_A4_025_fortissimo_normal.mp3\n",
      "Get saxophone_A5_1_piano_normal.mp3\n",
      "Get saxophone_Gs5_025_piano_normal.mp3\n",
      "Get saxophone_Gs5_05_fortissimo_normal.mp3\n",
      "Get saxophone_A5_15_forte_normal.mp3\n",
      "Get saxophone_Gs4_05_forte_normal.mp3\n",
      "Get saxophone_Gs5_05_piano_normal.mp3\n",
      "Get saxophone_Gs5_1_piano_normal.mp3\n",
      "Get saxophone_A5_05_piano_normal.mp3\n",
      "Get saxophone_A3_15_pianissimo_normal.mp3\n",
      "Get saxophone_A5_15_fortissimo_normal.mp3\n",
      "Get saxophone_Gs5_1_pianissimo_normal.mp3\n",
      "Get saxophone_Gs4_15_pianissimo_normal.mp3\n",
      "Get saxophone_Ds4_05_pianissimo_subtone.mp3\n",
      "Get saxophone_A5_05_pianissimo_normal.mp3\n",
      "Get saxophone_Ds4_025_pianissimo_normal.mp3\n",
      "Get saxophone_A3_05_fortissimo_normal.mp3\n",
      "Get saxophone_Gs4_15_fortissimo_normal.mp3\n",
      "Get saxophone_A4_05_piano_normal.mp3\n",
      "Get saxophone_A4_15_piano_normal.mp3\n",
      "Get saxophone_Ds4_05_mezzo-forte_normal.mp3\n",
      "Get saxophone_A3_025_forte_normal.mp3\n",
      "Get saxophone_Gs3_05_forte_normal.mp3\n",
      "Get saxophone_A3_1_pianissimo_normal.mp3\n",
      "Get saxophone_A4_025_piano_normal.mp3\n",
      "Get saxophone_A4_1_pianissimo_normal.mp3\n",
      "Get saxophone_A4_1_forte_normal.mp3\n",
      "Get saxophone_Gs3_15_fortissimo_normal.mp3\n",
      "Get saxophone_Ds4_05_mezzo-forte_slap-tongue.mp3\n",
      "Get saxophone_Gs4_1_fortissimo_normal.mp3\n",
      "Get saxophone_Gs5_15_forte_normal.mp3\n",
      "Get saxophone_A4_1_fortissimo_normal.mp3\n",
      "Get saxophone_A4_05_pianissimo_normal.mp3\n",
      "Get saxophone_Ds4_05_fortissimo_normal.mp3\n",
      "Get saxophone_Gs4_15_piano_normal.mp3\n",
      "Get saxophone_Gs3_15_pianissimo_normal.mp3\n",
      "Get saxophone_Ds5_1_forte_minor-trill.mp3\n",
      "Get saxophone_A3_1_forte_normal.mp3\n",
      "Get saxophone_A3_05_piano_normal.mp3\n",
      "Get saxophone_A3_05_forte_normal.mp3\n",
      "Get saxophone_A5_1_fortissimo_normal.mp3\n",
      "Get saxophone_A4_025_forte_normal.mp3\n",
      "Get saxophone_A3_05_mezzo-piano_normal.mp3\n",
      "Get saxophone_A4_15_fortissimo_normal.mp3\n",
      "Get saxophone_Gs3_025_mezzo-piano_normal.mp3\n",
      "Get saxophone_Gs4_025_mezzo-forte_normal.mp3\n",
      "Get saxophone_A3_15_forte_normal.mp3\n",
      "Get saxophone_Gs4_05_pianissimo_normal.mp3\n",
      "Get oboe_Gs6_025_forte_normal.mp3\n",
      "Get oboe_Gs5_05_fortissimo_normal.mp3\n",
      "Get oboe_Gs5_05_forte_normal.mp3\n",
      "Get oboe_A4_025_fortissimo_normal.mp3\n",
      "Get oboe_A5_025_fortissimo_normal.mp3\n",
      "Get oboe_A5_15_forte_normal.mp3\n",
      "Get oboe_Gs5_15_forte_normal.mp3\n",
      "Get oboe_A5_15_fortissimo_normal.mp3\n",
      "Get oboe_Gs6_025_piano_normal.mp3\n",
      "Get oboe_A5_1_forte_minor-trill.mp3\n",
      "Get oboe_Gs6_1_piano_normal.mp3\n",
      "Get oboe_Gs4_025_piano_normal.mp3\n",
      "Get oboe_A4_1_fortissimo_normal.mp3\n",
      "Get oboe_Gs5_1_piano_normal.mp3\n",
      "Get oboe_Gs4_05_fortissimo_normal.mp3\n",
      "Get oboe_A4_15_piano_normal.mp3\n",
      "Get oboe_Gs4_025_forte_normal.mp3\n",
      "Get oboe_Gs6_15_piano_normal.mp3\n",
      "Get oboe_A6_05_piano_normal.mp3\n",
      "Get oboe_Gs6_1_mezzo-forte_normal.mp3\n",
      "Get oboe_Gs6_05_piano_normal.mp3\n",
      "Get oboe_Gs5_15_mezzo-forte_normal.mp3\n",
      "Get oboe_A4_025_forte_normal.mp3\n",
      "Get oboe_A5_05_fortissimo_normal.mp3\n",
      "Get oboe_As3_1_piano_normal.mp3\n",
      "Get oboe_A6_15_piano_normal.mp3\n",
      "Get oboe_A6_025_piano_normal.mp3\n",
      "Get oboe_As3_05_fortissimo_normal.mp3\n",
      "Get oboe_G6_025_forte_normal.mp3\n",
      "Get oboe_A5_05_piano_normal.mp3\n",
      "Get oboe_A4_05_piano_normal.mp3\n",
      "Get oboe_Gs5_025_forte_normal.mp3\n",
      "Get oboe_Ds6_15_forte_normal.mp3\n",
      "Get oboe_A5_05_forte_normal.mp3\n",
      "Get oboe_A5_025_piano_normal.mp3\n",
      "Get oboe_Gs4_15_fortissimo_normal.mp3\n",
      "Get oboe_Gs5_15_fortissimo_normal.mp3\n",
      "Get oboe_A5_025_forte_normal.mp3\n",
      "Get oboe_Gs6_05_forte_normal.mp3\n",
      "Get oboe_G6_025_piano_normal.mp3\n",
      "Get oboe_Gs5_15_piano_normal.mp3\n",
      "Get oboe_A6_1_piano_normal.mp3\n",
      "Get oboe_A4_15_forte_normal.mp3\n",
      "Get oboe_Gs5_1_mezzo-forte_normal.mp3\n",
      "Get oboe_As3_1_mezzo-forte_normal.mp3\n",
      "Get oboe_Gs4_15_mezzo-forte_normal.mp3\n",
      "Get oboe_Gs4_025_fortissimo_normal.mp3\n",
      "Get oboe_A5_15_mezzo-forte_normal.mp3\n",
      "Get oboe_Gs6_025_mezzo-forte_normal.mp3\n",
      "Get oboe_Ds6_05_mezzo-forte_normal.mp3\n",
      "Get oboe_Gs4_1_fortissimo_normal.mp3\n",
      "Get oboe_As3_05_mezzo-forte_normal.mp3\n",
      "Get oboe_Gs5_025_mezzo-forte_normal.mp3\n",
      "Get oboe_Ds6_05_fortissimo_normal.mp3\n",
      "Get oboe_Gs6_15_forte_normal.mp3\n",
      "Get oboe_Gs4_1_forte_normal.mp3\n",
      "Get oboe_A4_1_forte_normal.mp3\n",
      "Get oboe_Gs6_05_mezzo-forte_normal.mp3\n",
      "Get oboe_As3_15_mezzo-forte_normal.mp3\n",
      "Get oboe_Gs4_05_forte_normal.mp3\n",
      "Get oboe_A5_1_forte_major-trill.mp3\n",
      "Get oboe_A4_05_fortissimo_normal.mp3\n",
      "Get oboe_Gs5_05_piano_normal.mp3\n",
      "Get oboe_A5_15_piano_normal.mp3\n",
      "Get oboe_A6_1_forte_minor-trill.mp3\n",
      "Get oboe_Gs4_05_mezzo-forte_normal.mp3\n",
      "Get oboe_Gs4_1_forte_minor-trill.mp3\n",
      "Get oboe_Gs5_1_forte_normal.mp3\n",
      "Get oboe_Gs5_025_fortissimo_normal.mp3\n",
      "Get oboe_Gs5_025_piano_normal.mp3\n",
      "Get oboe_A5_025_mezzo-forte_normal.mp3\n",
      "Get oboe_Gs5_1_fortissimo_normal.mp3\n",
      "Get oboe_A4_05_forte_normal.mp3\n",
      "Get oboe_Gs5_05_mezzo-forte_normal.mp3\n",
      "Get oboe_A5_1_fortissimo_normal.mp3\n",
      "Get oboe_Gs6_15_mezzo-forte_normal.mp3\n",
      "Get oboe_A6_1_forte_major-trill.mp3\n",
      "Get oboe_As3_05_forte_normal.mp3\n",
      "Get oboe_As3_1_forte_normal.mp3\n",
      "Get oboe_Gs6_1_forte_normal.mp3\n",
      "Get oboe_Gs4_1_piano_normal.mp3\n",
      "Get oboe_As3_15_forte_normal.mp3\n",
      "Get oboe_As3_05_piano_normal.mp3\n",
      "Get oboe_A5_1_mezzo-forte_normal.mp3\n",
      "Get oboe_A4_1_piano_normal.mp3\n",
      "Get oboe_Gs4_15_forte_normal.mp3\n",
      "Get oboe_Gs4_05_piano_normal.mp3\n",
      "Get oboe_Gs4_1_forte_major-trill.mp3\n",
      "Get oboe_A4_1_mezzo-forte_normal.mp3\n",
      "Get oboe_A4_025_piano_normal.mp3\n",
      "Get oboe_A5_05_mezzo-forte_normal.mp3\n",
      "Get oboe_A5_1_piano_normal.mp3\n",
      "Get oboe_Gs4_15_piano_normal.mp3\n",
      "Get oboe_As3_15_fortissimo_normal.mp3\n",
      "Get oboe_Gs4_1_mezzo-forte_normal.mp3\n",
      "Get oboe_As3_1_fortissimo_normal.mp3\n",
      "Get oboe_A5_1_forte_normal.mp3\n",
      "Get oboe_G6_025_mezzo-forte_normal.mp3\n",
      "Get oboe_Gs4_025_mezzo-forte_normal.mp3\n",
      "Get oboe_Ds6_05_piano_normal.mp3\n",
      "Get trumpet_B3_025_forte_normal.mp3\n",
      "Get trumpet_Cs4_05_pianissimo_normal.mp3\n",
      "Get trumpet_G3_025_pianissimo_normal.mp3\n",
      "Get trumpet_Gs5_05_mezzo-forte_normal.mp3\n",
      "Get trumpet_E6_1_forte_normal.mp3\n",
      "Get trumpet_Ds4_15_pianissimo_normal.mp3\n",
      "Get trumpet_A3_05_pianissimo_normal.mp3\n",
      "Get trumpet_Ds4_025_pianissimo_normal.mp3\n",
      "Get trumpet_B3_05_forte_normal.mp3\n",
      "Get trumpet_C4_15_pianissimo_normal.mp3\n",
      "Get trumpet_Ds4_05_pianissimo_normal.mp3\n",
      "Get trumpet_F3_05_pianissimo_normal.mp3\n",
      "Get trumpet_As3_1_pianissimo_normal.mp3\n",
      "Get trumpet_D6_05_forte_normal.mp3\n",
      "Get trumpet_Cs6_025_forte_normal.mp3\n",
      "Get trumpet_A3_05_forte_normal.mp3\n",
      "Get trumpet_E4_025_pianissimo_normal.mp3\n",
      "Get trumpet_As3_05_pianissimo_normal.mp3\n",
      "Get trumpet_E3_05_forte_normal.mp3\n",
      "Get trumpet_G5_1_mezzo-forte_normal.mp3\n",
      "Get trumpet_G5_025_mezzo-forte_normal.mp3\n",
      "Get trumpet_B5_025_mezzo-forte_normal.mp3\n",
      "Get trumpet_F3_025_forte_normal.mp3\n",
      "Get trumpet_D4_15_pianissimo_normal.mp3\n",
      "Get trumpet_E4_15_pianissimo_normal.mp3\n",
      "Get trumpet_Cs4_15_pianissimo_normal.mp3\n",
      "Get trumpet_D4_05_pianissimo_normal.mp3\n",
      "Get trumpet_E6_025_forte_normal.mp3\n",
      "Get trumpet_Ds6_025_forte_normal.mp3\n",
      "Get trumpet_E3_025_pianissimo_normal.mp3\n",
      "Get trumpet_B5_025_forte_normal.mp3\n",
      "Get trumpet_C6_025_forte_normal.mp3\n",
      "Get trumpet_D4_05_forte_normal.mp3\n",
      "Get trumpet_As4_025_forte_normal.mp3\n",
      "Get trumpet_F4_025_pianissimo_normal.mp3\n",
      "Get trumpet_A3_15_pianissimo_normal.mp3\n",
      "Get trumpet_Gs3_1_pianissimo_normal.mp3\n",
      "Get trumpet_Gs3_05_pianissimo_normal.mp3\n",
      "Get trumpet_F4_05_pianissimo_normal.mp3\n",
      "Get trumpet_D4_025_forte_normal.mp3\n",
      "Get trumpet_Cs4_1_pianissimo_normal.mp3\n",
      "Get trumpet_C4_025_forte_normal.mp3\n",
      "Get trumpet_C4_1_pianissimo_normal.mp3\n",
      "Get trumpet_A4_05_forte_normal.mp3\n",
      "Get trumpet_G3_15_pianissimo_normal.mp3\n",
      "Get trumpet_Cs4_05_forte_normal.mp3\n",
      "Get trumpet_Gs3_15_pianissimo_normal.mp3\n",
      "Get trumpet_B3_1_pianissimo_normal.mp3\n",
      "Get trumpet_As5_05_forte_normal.mp3\n",
      "Get trumpet_Ds4_1_pianissimo_normal.mp3\n",
      "Get trumpet_Gs3_025_pianissimo_normal.mp3\n",
      "Get trumpet_C4_05_pianissimo_normal.mp3\n",
      "Get trumpet_Ds4_05_forte_normal.mp3\n",
      "Get trumpet_E3_15_pianissimo_normal.mp3\n",
      "Get trumpet_Gs3_05_forte_normal.mp3\n",
      "Get trumpet_As3_15_pianissimo_normal.mp3\n",
      "Get trumpet_B4_025_forte_normal.mp3\n",
      "Get trumpet_As5_05_mezzo-forte_normal.mp3\n",
      "Get trumpet_E4_1_pianissimo_normal.mp3\n",
      "Get trumpet_F3_05_forte_normal.mp3\n",
      "Get trumpet_Gs3_1_forte_normal.mp3\n",
      "Get trumpet_Ds6_05_forte_normal.mp3\n",
      "Get trumpet_D6_025_forte_normal.mp3\n",
      "Get trumpet_Gs5_05_forte_normal.mp3\n",
      "Get trumpet_Gs5_025_forte_normal.mp3\n",
      "Get trumpet_B3_05_pianissimo_normal.mp3\n",
      "Get trumpet_A5_025_mezzo-forte_normal.mp3\n",
      "Get trumpet_Gs4_025_forte_normal.mp3\n",
      "Get trumpet_A4_025_forte_normal.mp3\n",
      "Get trumpet_D4_025_pianissimo_normal.mp3\n",
      "Get trumpet_E4_05_pianissimo_normal.mp3\n",
      "Get trumpet_F3_15_pianissimo_normal.mp3\n",
      "Get trumpet_D5_05_forte_normal.mp3\n",
      "Get trumpet_Ds5_05_forte_normal.mp3\n",
      "Get trumpet_As5_025_forte_normal.mp3\n",
      "Get trumpet_A3_1_pianissimo_normal.mp3\n",
      "Get trumpet_As3_025_forte_normal.mp3\n",
      "Get trumpet_G3_05_pianissimo_normal.mp3\n",
      "Get trumpet_C6_05_forte_normal.mp3\n",
      "Get trumpet_A3_025_pianissimo_normal.mp3\n",
      "Get trumpet_C4_025_pianissimo_normal.mp3\n",
      "Get trumpet_F3_1_forte_normal.mp3\n",
      "Get trumpet_B3_15_pianissimo_normal.mp3\n",
      "Get trumpet_G5_15_mezzo-forte_normal.mp3\n",
      "Get trumpet_A5_025_forte_normal.mp3\n",
      "Get trumpet_Cs4_025_pianissimo_normal.mp3\n",
      "Get trumpet_As3_025_pianissimo_normal.mp3\n",
      "Get trumpet_F3_1_pianissimo_normal.mp3\n",
      "Get trumpet_D4_1_pianissimo_normal.mp3\n",
      "Get trumpet_Gs5_025_mezzo-forte_normal.mp3\n",
      "Get trumpet_G3_1_pianissimo_normal.mp3\n",
      "Get trumpet_E3_05_pianissimo_normal.mp3\n",
      "Get trumpet_A5_05_mezzo-forte_normal.mp3\n",
      "Get trumpet_G5_05_mezzo-forte_normal.mp3\n",
      "Get trumpet_C4_05_forte_normal.mp3\n",
      "Get trumpet_E3_1_pianissimo_normal.mp3\n",
      "Get trumpet_B3_025_pianissimo_normal.mp3\n",
      "Get trumpet_F3_025_pianissimo_normal.mp3\n",
      "Get trumpet_Gs4_05_forte_normal.mp3\n",
      "Get trumpet_E3_1_forte_normal.mp3\n",
      "Get flute_Gs5_1_piano_normal.mp3\n",
      "Get flute_A5_1_piano_normal.mp3\n",
      "Get flute_Gs4_025_mezzo-piano_normal.mp3\n",
      "Get flute_A6_05_pianissimo_normal.mp3\n",
      "Get flute_A5_025_pianissimo_normal.mp3\n",
      "Get flute_A4_15_mezzo-piano_normal.mp3\n",
      "Get flute_A5_05_forte_normal.mp3\n",
      "Get flute_Gs5_15_mezzo-forte_normal.mp3\n",
      "Get flute_Gs5_1_mezzo-forte_normal.mp3\n",
      "Get flute_A5_05_mezzo-piano_normal.mp3\n",
      "Get flute_Gs5_025_mezzo-piano_normal.mp3\n",
      "Get flute_Gs4_05_pianissimo_normal.mp3\n",
      "Get flute_Gs5_15_piano_normal.mp3\n",
      "Get flute_Gs6_1_mezzo-forte_normal.mp3\n",
      "Get flute_Gs6_15_piano_normal.mp3\n",
      "Get flute_Gs5_025_piano_normal.mp3\n",
      "Get flute_A4_025_mezzo-piano_normal.mp3\n",
      "Get flute_A4_05_mezzo-forte_normal.mp3\n",
      "Get flute_Gs6_025_piano_normal.mp3\n",
      "Get flute_Gs4_15_mezzo-forte_normal.mp3\n",
      "Get flute_Gs6_1_forte_normal.mp3\n",
      "Get flute_A6_05_piano_normal.mp3\n",
      "Get flute_Gs4_15_mezzo-piano_normal.mp3\n",
      "Get flute_A5_15_forte_normal.mp3\n",
      "Get flute_A4_025_piano_normal.mp3\n",
      "Get flute_A4_1_mezzo-forte_normal.mp3\n",
      "Get flute_Gs6_15_mezzo-forte_normal.mp3\n",
      "Get flute_A6_15_forte_normal.mp3\n",
      "Get flute_Gs4_025_pianissimo_normal.mp3\n",
      "Get flute_A5_025_forte_normal.mp3\n",
      "Get flute_A5_05_pianissimo_normal.mp3\n",
      "Get flute_Gs5_05_piano_normal.mp3\n",
      "Get flute_A6_1_fortissimo_minor-trill.mp3\n",
      "Get flute_Gs4_05_forte_normal.mp3\n",
      "Get flute_Gs6_1_pianissimo_normal.mp3\n",
      "Get flute_Gs6_025_pianissimo_normal.mp3\n",
      "Get flute_A4_05_mezzo-piano_normal.mp3\n",
      "Get flute_A5_025_piano_normal.mp3\n",
      "Get flute_A6_1_forte_normal.mp3\n",
      "Get flute_Gs4_05_mezzo-forte_normal.mp3\n",
      "Get flute_Gs4_025_forte_normal.mp3\n",
      "Get flute_A5_1_pianissimo_normal.mp3\n",
      "Get flute_A6_1_mezzo-forte_normal.mp3\n",
      "Get flute_Gs4_15_piano_normal.mp3\n",
      "Get flute_Gs5_05_forte_normal.mp3\n",
      "Get flute_Gs5_05_mezzo-forte_normal.mp3\n",
      "Get flute_Gs6_15_forte_normal.mp3\n",
      "Get flute_A4_15_forte_normal.mp3\n",
      "Get flute_A5_15_pianissimo_normal.mp3\n",
      "Get flute_Gs5_15_mezzo-piano_normal.mp3\n",
      "Get flute_A4_15_pianissimo_normal.mp3\n",
      "Get flute_A6_05_forte_normal.mp3\n",
      "Get flute_A4_15_piano_normal.mp3\n",
      "Get flute_A5_15_mezzo-forte_normal.mp3\n",
      "Get flute_A4_1_mezzo-piano_normal.mp3\n",
      "Get flute_A5_15_mezzo-piano_normal.mp3\n",
      "Get flute_A5_1_forte_normal.mp3\n",
      "Get flute_Gs5_1_mezzo-piano_normal.mp3\n",
      "Get flute_Gs5_025_mezzo-forte_normal.mp3\n",
      "Get flute_Gs5_025_pianissimo_normal.mp3\n",
      "Get flute_Gs6_05_mezzo-forte_normal.mp3\n",
      "Get flute_A4_025_pianissimo_normal.mp3\n",
      "Get flute_Gs5_15_forte_normal.mp3\n",
      "Get flute_A5_1_mezzo-forte_normal.mp3\n",
      "Get flute_Gs6_05_piano_normal.mp3\n",
      "Get flute_A4_05_forte_normal.mp3\n",
      "Get flute_A5_15_piano_normal.mp3\n",
      "Get flute_A4_15_mezzo-forte_normal.mp3\n",
      "Get flute_Gs6_025_forte_normal.mp3\n",
      "Get flute_A4_05_pianissimo_normal.mp3\n",
      "Get flute_Gs6_15_pianissimo_normal.mp3\n",
      "Get flute_Gs4_025_piano_normal.mp3\n",
      "Get flute_Gs4_05_mezzo-piano_normal.mp3\n",
      "Get flute_Gs4_025_mezzo-forte_normal.mp3\n",
      "Get flute_Gs6_05_pianissimo_normal.mp3\n",
      "Get flute_A6_1_piano_normal.mp3\n",
      "Get flute_Gs4_15_forte_normal.mp3\n",
      "Get flute_A5_025_mezzo-piano_normal.mp3\n",
      "Get flute_A5_05_piano_normal.mp3\n",
      "Get flute_Gs6_025_mezzo-forte_normal.mp3\n",
      "Get flute_Gs4_05_piano_normal.mp3\n",
      "Get flute_Gs5_1_pianissimo_normal.mp3\n",
      "Get flute_Gs6_1_piano_normal.mp3\n",
      "Get flute_Gs5_05_pianissimo_normal.mp3\n",
      "Get flute_A4_025_forte_normal.mp3\n",
      "Get flute_A4_1_pianissimo_normal.mp3\n",
      "Get flute_A6_1_pianissimo_normal.mp3\n",
      "Get flute_A4_1_forte_normal.mp3\n",
      "Get flute_A5_1_mezzo-piano_normal.mp3\n",
      "Get flute_A4_025_mezzo-forte_normal.mp3\n",
      "Get flute_Gs6_05_forte_normal.mp3\n",
      "Get flute_A5_025_mezzo-forte_normal.mp3\n",
      "Get flute_A4_1_piano_normal.mp3\n",
      "Get flute_A5_05_mezzo-forte_normal.mp3\n",
      "Get flute_A6_05_mezzo-forte_normal.mp3\n",
      "Get flute_Gs5_05_mezzo-piano_normal.mp3\n",
      "Get flute_Gs5_1_forte_normal.mp3\n",
      "Get flute_A4_05_piano_normal.mp3\n",
      "Get flute_Gs5_025_forte_normal.mp3\n",
      "Get flute_Gs4_15_pianissimo_normal.mp3\n",
      "Get cello_Gs5_025_mezzo-piano_arco-normal.mp3\n",
      "Get cello_Gs5_15_forte_arco-normal.mp3\n",
      "Get cello_A2_05_pianissimo_arco-normal.mp3\n",
      "Get cello_Gs4_05_pianissimo_arco-normal.mp3\n",
      "Get cello_A2_1_fortissimo_arco-normal.mp3\n",
      "Get cello_A3_025_pianissimo_arco-normal.mp3\n",
      "Get cello_Gs5_05_forte_arco-normal.mp3\n",
      "Get cello_A3_1_mezzo-piano_non-vibrato.mp3\n",
      "Get cello_A2_1_forte_arco-normal.mp3\n",
      "Get cello_Gs4_15_pianissimo_arco-normal.mp3\n",
      "Get cello_Gs4_025_forte_arco-normal.mp3\n",
      "Get cello_A3_05_fortissimo_arco-normal.mp3\n",
      "Get cello_Gs5_05_fortissimo_arco-normal.mp3\n",
      "Get cello_A3_1_pianissimo_arco-normal.mp3\n",
      "Get cello_A3_05_forte_arco-normal.mp3\n",
      "Get cello_Gs3_1_forte_arco-normal.mp3\n",
      "Get cello_A4_05_mezzo-piano_arco-normal.mp3\n",
      "Get cello_Gs3_1_mezzo-piano_arco-normal.mp3\n",
      "Get cello_Gs3_025_mezzo-piano_arco-normal.mp3\n",
      "Get cello_Gs5_1_forte_arco-normal.mp3\n",
      "Get cello_Gs3_025_fortissimo_arco-normal.mp3\n",
      "Get cello_Gs4_05_forte_arco-normal.mp3\n",
      "Get cello_Gs4_025_fortissimo_arco-normal.mp3\n",
      "Get cello_A3_15_mezzo-piano_arco-normal.mp3\n",
      "Get cello_A3_1_mezzo-piano_arco-normal.mp3\n",
      "Get cello_Gs3_15_fortissimo_arco-normal.mp3\n",
      "Get cello_Gs5_05_pianissimo_arco-normal.mp3\n",
      "Get cello_A4_025_mezzo-piano_arco-normal.mp3\n",
      "Get cello_Gs4_025_mezzo-forte_arco-col-legno-battuto.mp3\n",
      "Get cello_A2_05_fortissimo_arco-normal.mp3\n",
      "Get cello_Gs3_025_forte_arco-normal.mp3\n",
      "Get cello_Gs4_1_fortissimo_arco-normal.mp3\n",
      "Get cello_Gs5_1_mezzo-piano_arco-normal.mp3\n",
      "Get cello_Gs3_05_forte_arco-normal.mp3\n",
      "Get cello_Gs5_15_pianissimo_arco-normal.mp3\n",
      "Get cello_Gs5_15_fortissimo_arco-normal.mp3\n",
      "Get cello_Gs3_15_piano_arco-normal.mp3\n",
      "Get cello_A3_1_fortissimo_arco-normal.mp3\n",
      "Get cello_Gs3_15_pianissimo_arco-normal.mp3\n",
      "Get cello_Gs5_025_forte_arco-normal.mp3\n",
      "Get cello_Gs3_05_mezzo-piano_arco-normal.mp3\n",
      "Get cello_A3_1_mezzo-piano_arco-minor-trill.mp3\n",
      "Get cello_A4_1_mezzo-forte_arco-harmonic.mp3\n",
      "Get cello_A4_025_pianissimo_arco-normal.mp3\n",
      "Get cello_A2_025_mezzo-piano_arco-normal.mp3\n",
      "Get cello_Gs4_1_forte_arco-normal.mp3\n",
      "Get cello_Gs3_025_pianissimo_arco-normal.mp3\n",
      "Get cello_Gs5_15_mezzo-piano_arco-normal.mp3\n",
      "Get cello_A3_05_mezzo-piano_arco-normal.mp3\n",
      "Get cello_A3_025_fortissimo_arco-normal.mp3\n",
      "Get cello_Gs5_1_mezzo-forte_arco-harmonic.mp3\n",
      "Get cello_Gs5_05_mezzo-piano_arco-normal.mp3\n",
      "Get cello_A4_025_fortissimo_arco-normal.mp3\n",
      "Get cello_Gs5_025_fortissimo_arco-normal.mp3\n",
      "Get cello_A4_1_mezzo-piano_arco-normal.mp3\n",
      "Get cello_A4_1_forte_arco-normal.mp3\n",
      "Get cello_Gs4_05_mezzo-piano_arco-normal.mp3\n",
      "Get cello_A4_025_mezzo-forte_arco-col-legno-battuto.mp3\n",
      "Get cello_A4_1_mezzo-piano_arco-minor-trill.mp3\n",
      "Get cello_Gs4_1_mezzo-piano_arco-normal.mp3\n",
      "Get cello_A4_025_forte_arco-normal.mp3\n",
      "Get cello_Gs5_025_pianissimo_arco-normal.mp3\n",
      "Get cello_A2_05_mezzo-piano_arco-normal.mp3\n",
      "Get cello_A4_15_mezzo-piano_arco-normal.mp3\n",
      "Get cello_Gs4_025_mezzo-piano_arco-normal.mp3\n",
      "Get cello_A4_05_forte_arco-normal.mp3\n",
      "Get cello_A2_15_forte_arco-normal.mp3\n",
      "Get cello_Gs3_15_forte_arco-normal.mp3\n",
      "Get cello_Gs4_1_pianissimo_arco-normal.mp3\n",
      "Get cello_Gs4_15_mezzo-piano_arco-normal.mp3\n",
      "Get cello_A3_025_mezzo-piano_arco-normal.mp3\n",
      "Get cello_A3_15_forte_arco-normal.mp3\n",
      "Get cello_A2_15_pianissimo_arco-normal.mp3\n",
      "Get cello_Gs5_1_fortissimo_arco-normal.mp3\n",
      "Get cello_A2_025_pianissimo_arco-normal.mp3\n",
      "Get cello_A2_1_pianissimo_arco-normal.mp3\n",
      "Get cello_Gs4_05_fortissimo_arco-normal.mp3\n",
      "Get cello_A4_1_fortissimo_arco-normal.mp3\n",
      "Get cello_Gs3_05_pianissimo_arco-normal.mp3\n",
      "Get cello_A3_025_mezzo-forte_arco-col-legno-battuto.mp3\n",
      "Get cello_Gs4_025_pianissimo_arco-normal.mp3\n",
      "Get cello_A2_1_mezzo-piano_non-vibrato.mp3\n",
      "Get cello_A4_1_mezzo-piano_molto-vibrato.mp3\n",
      "Get cello_Gs4_15_forte_arco-normal.mp3\n",
      "Get cello_Gs3_1_pianissimo_arco-normal.mp3\n",
      "Get cello_Gs5_1_pianissimo_arco-normal.mp3\n",
      "Get cello_A4_15_forte_arco-normal.mp3\n",
      "Get cello_A2_025_forte_arco-normal.mp3\n",
      "Get cello_A2_025_fortissimo_arco-normal.mp3\n",
      "Get cello_A2_15_piano_arco-normal.mp3\n",
      "Get cello_A2_025_mezzo-forte_arco-col-legno-battuto.mp3\n",
      "Get cello_A2_05_forte_arco-normal.mp3\n",
      "Get cello_A4_1_pianissimo_arco-normal.mp3\n",
      "Get cello_Gs4_15_fortissimo_arco-normal.mp3\n",
      "Get cello_A3_1_forte_arco-normal.mp3\n",
      "Get cello_Gs3_05_fortissimo_arco-normal.mp3\n",
      "Get cello_Gs2_025_pianissimo_arco-normal.mp3\n",
      "Get cello_A3_025_forte_arco-normal.mp3\n",
      "Get cello_A2_1_mezzo-piano_arco-normal.mp3\n",
      "Get cello_A4_05_pianissimo_arco-normal.mp3\n",
      "Found 600 audio files in ./audio/london_phill_dataset_multi/\n"
     ]
    }
   ],
   "source": [
    "# Get Audio Files and Generate Labels\n",
    "files = []\n",
    "labels =[]\n",
    "classes=['flute','sax','oboe', 'cello','trumpet','viola']\n",
    "for root, dirnames, filenames in os.walk(path):\n",
    "    for i, filename in enumerate(fnmatch.filter(filenames, '*.mp3')):\n",
    "        files.append(os.path.join(root, filename))\n",
    "        print (\"Get %s\"%(filename))\n",
    "        for name in classes:\n",
    "            if fnmatch.fnmatchcase(filename, '*'+name+'*'):\n",
    "                labels.append(name)\n",
    "                break\n",
    "        else:\n",
    "            labels.append('other')\n",
    "print(\"Found %d audio files in %s\"%(len(files),path))"
   ]
  },
  {
   "cell_type": "markdown",
   "metadata": {},
   "source": [
    "## Encode Labels"
   ]
  },
  {
   "cell_type": "code",
   "execution_count": 5,
   "metadata": {},
   "outputs": [
    {
     "name": "stdout",
     "output_type": "stream",
     "text": [
      "6 classes: cello, flute, oboe, sax, trumpet, viola\n"
     ]
    }
   ],
   "source": [
    "# Encode Labels\n",
    "labelencoder = LabelEncoder()\n",
    "labelencoder.fit(labels)\n",
    "print(len(labelencoder.classes_), \"classes:\", \", \".join(list(labelencoder.classes_)))\n",
    "classes_int = labelencoder.transform(labels)\n",
    "#OneHotEncoding\n",
    "encoder=OneHotEncoder(sparse=False, categories=\"auto\")\n",
    "onehot_labels=encoder.fit_transform(classes_int.reshape(len(classes_int),1))"
   ]
  },
  {
   "cell_type": "markdown",
   "metadata": {},
   "source": [
    "## Create Train and Test Sets"
   ]
  },
  {
   "cell_type": "code",
   "execution_count": 6,
   "metadata": {},
   "outputs": [],
   "source": [
    "# Create Train and Test Sets\n",
    "splitter = StratifiedShuffleSplit(n_splits=1, test_size=testset_size, random_state=0)\n",
    "splits = splitter.split(files, classes_int)\n",
    "files_arr=np.array(files)\n",
    "labels_arr=np.array(onehot_labels)\n",
    "\n",
    "for train_index, test_index in splits:\n",
    "    train_set_files = files_arr[train_index]\n",
    "    test_set_files = files_arr[test_index]\n",
    "    train_labels = labels_arr[train_index]\n",
    "    test_labels = labels_arr[test_index]"
   ]
  },
  {
   "cell_type": "code",
   "execution_count": 7,
   "metadata": {},
   "outputs": [],
   "source": [
    "# Dataset Class\n",
    "class Dataset(Dataset):\n",
    "    'An abstract class representing a Dataset.'\n",
    "    def __init__(self, files, labels):\n",
    "        self.labels = labels\n",
    "        self.files = files\n",
    "\n",
    "    def __len__(self):\n",
    "        return len(self.files)\n",
    "\n",
    "    def __getitem__(self, index):\n",
    "        x, sr = librosa.load(self.files[index], sr=fs) # Load Audio File\n",
    "        x, ind = librosa.effects.trim(x,top_db=60) #Trim\n",
    "        x = normalize(x) # Normalize\n",
    "        x = x.reshape(1,-1) # Reshape for TorchAudio PadTrim\n",
    "        duration_in_samples = librosa.time_to_samples(duration, sr=fs) # Calculate the number os samples for a duration in Time\n",
    "        X_torch = torch.from_numpy(x).to(device) \n",
    "        X_pad = transforms.PadTrim(max_len=int(duration_in_samples), channels_first=True)(X_torch) # Trim Array to defined duration\n",
    "        window = torch.hann_window(n_fft).to(device) # Hann Window\n",
    "        X_fft = torch.stft(X_pad, hop_length = hop_length, n_fft=n_fft, window=window) # PyTorch STFT\n",
    "        x_fft = X_fft[:,:,:,1].squeeze().cpu().numpy() #Reshape for Librosa Amplitude_To_dB\n",
    "        x_spec=librosa.amplitude_to_db(np.abs(x_fft), np.min) #Amplitude to dB\n",
    "        scaler = StandardScaler() #Scikit Learn Standard Scaler\n",
    "        x_spec = scaler.fit_transform(x_spec) #Apply Scaler\n",
    "        x_spec = x_spec.reshape(1,x_spec.shape[0],x_spec.shape[1]) #Reshape for PyTorch\n",
    "        X_torch = torch.from_numpy(x_spec) \n",
    "        y_labels = torch.tensor(self.labels[index]) #Labels Out\n",
    "        return X_torch, y_labels"
   ]
  },
  {
   "cell_type": "code",
   "execution_count": 8,
   "metadata": {},
   "outputs": [],
   "source": [
    "# Create Sets\n",
    "train_set = Dataset(train_set_files, train_labels)\n",
    "test_set = Dataset(test_set_files, test_labels)"
   ]
  },
  {
   "cell_type": "code",
   "execution_count": 9,
   "metadata": {},
   "outputs": [],
   "source": [
    "# Data Loader.\n",
    "training_generator = DataLoader(train_set, batch_size=batch_size, shuffle=False, num_workers=0)\n",
    "validation_generator = DataLoader(test_set, batch_size=batch_size, shuffle=False, num_workers=0)"
   ]
  },
  {
   "cell_type": "code",
   "execution_count": 10,
   "metadata": {},
   "outputs": [
    {
     "name": "stdout",
     "output_type": "stream",
     "text": [
      "Spectogram Array Shape: (1025, 87)\n"
     ]
    },
    {
     "data": {
      "image/png": "[encoded data removed]",
      "text/plain": [
       "<Figure size 1008x576 with 1 Axes>"
      ]
     },
     "metadata": {
      "needs_background": "light"
     },
     "output_type": "display_data"
    }
   ],
   "source": [
    "# Testing Dataset + Dataloader\n",
    "# Get a random spectogram sample and plot \n",
    "dataiter = iter(DataLoader(train_set, batch_size=batch_size, shuffle=True, num_workers=0))\n",
    "spectogram = dataiter.next()[0]\n",
    "# Plot Sample Spectogram\n",
    "plt.figure(figsize=(14,8));\n",
    "plt.title(\"Short-Time Fourier Transform Spectogram\\n\")\n",
    "librosa.display.specshow(spectogram[0].squeeze().numpy(),sr=fs,y_axis='log', x_axis='time', cmap=\"gray_r\")\n",
    "print(\"Spectogram Array Shape:\",spectogram[0].squeeze().squeeze().numpy().shape)\n",
    "plt.show();"
   ]
  },
  {
   "cell_type": "markdown",
   "metadata": {},
   "source": [
    "## Aux Function to Calculate Layer Shapes\n",
    "\n",
    "Conv2d: $H_{out} = \\left\\lfloor\\frac{H_{in}  + 2 \\times \\text{padding}[0] - \\text{dilation}[0]\n",
    "                        \\times (\\text{kernel}[0] - 1) - 1}{\\text{stride}[0]} + 1\\right\\rfloor$\n",
    "        $W_{out} = \\left\\lfloor\\frac{W_{in}  + 2 \\times \\text{padding}[1] - \\text{dilation}[1]\n",
    "                        \\times (\\text{kernel}[1] - 1) - 1}{\\text{stride}[1]} + 1\\right\\rfloor$"
   ]
  },
  {
   "cell_type": "code",
   "execution_count": 11,
   "metadata": {},
   "outputs": [],
   "source": [
    "# Aux Function to Calculate Layer Shapes\n",
    "# https://discuss.pytorch.org/t/utility-function-for-calculating-the-shape-of-a-conv-output/11173/5\n",
    "def conv_shape(h_w, kernel_size=3, stride=1, pad=0, dilation=1):\n",
    "    from math import floor\n",
    "    if type(kernel_size) is not tuple:\n",
    "        kernel_size = (kernel_size, kernel_size)\n",
    "    h = floor( ((h_w[0] + (2 * pad) - ( dilation * (kernel_size[0] - 1) ) - 1 )/ stride) + 1)\n",
    "    w = floor( ((h_w[1] + (2 * pad) - ( dilation * (kernel_size[1] - 1) ) - 1 )/ stride) + 1)\n",
    "    return h, w    "
   ]
  },
  {
   "cell_type": "code",
   "execution_count": 12,
   "metadata": {},
   "outputs": [
    {
     "name": "stdout",
     "output_type": "stream",
     "text": [
      "(85, 1023)\n",
      "(42, 511)\n",
      "(40, 509)\n",
      "(20, 254)\n",
      "81280\n"
     ]
    }
   ],
   "source": [
    "# Model Layers Shape Calculation\n",
    "# Input Shape\n",
    "input_shape=(87, 1025)\n",
    "# Conv1 Input: 1 Channel, Output 16 Channels, Kernel: 3x3, Stride: 1x1, Dilatation=1x1, Padding=0\n",
    "conv1_out_shape=conv_shape(input_shape)\n",
    "print(conv1_out_shape)\n",
    "pooling1_out_shape=conv_shape(conv1_out_shape, kernel_size=2, stride=2)\n",
    "print(pooling1_out_shape)\n",
    "# Conv1 Input: 16 Channel, Output 16 Channels, Kernel: 3x3, Stride: 1x1, Dilatation=1x1, Padding=0\n",
    "conv2_out_shape=conv_shape(pooling1_out_shape)\n",
    "print(conv2_out_shape)\n",
    "pooling2_out_shape=conv_shape(conv2_out_shape, kernel_size=2, stride=2)\n",
    "print(pooling2_out_shape)\n",
    "# Flatten: 16 channles * Pooling2_H * Pooling2_W\n",
    "print(16*pooling2_out_shape[0]*pooling2_out_shape[1])\n",
    "# Fully Conected 81280 In and 16 Out\n",
    "# Fully Connecte 16 In and 6 Out\n"
   ]
  },
  {
   "cell_type": "markdown",
   "metadata": {},
   "source": [
    "## Define a CNN Model"
   ]
  },
  {
   "cell_type": "code",
   "execution_count": 13,
   "metadata": {},
   "outputs": [],
   "source": [
    "# Model Architecture\n",
    "class modelCNN(torch.nn.Module):\n",
    "    def __init__(self):\n",
    "        super(modelCNN, self).__init__()\n",
    "        self.conv1 = torch.nn.Conv2d(1, 16, kernel_size=3, stride=1, padding=0)\n",
    "        self.pool1 = torch.nn.MaxPool2d(2)\n",
    "        self.dropout1 = torch.nn.Dropout(p=0.4)\n",
    "        self.conv2 = torch.nn.Conv2d(16, 16, kernel_size=3, stride=1, padding=0)\n",
    "        self.pool2 = torch.nn.MaxPool2d(2)\n",
    "        self.dropout2 = torch.nn.Dropout(p=0.4)\n",
    "        self.fc1 = torch.nn.Linear(16*254*20, 16)\n",
    "        self.fc2 = torch.nn.Linear(16, 6)\n",
    "        \n",
    "    def forward(self, x):\n",
    "        x = self.conv1(x)\n",
    "        x = self.pool1(x)\n",
    "        x = self.dropout1(x)\n",
    "        x = self.conv2(x)\n",
    "        x = self.pool2(x)\n",
    "        x = self.dropout2(x)\n",
    "        x = x.view(x.size()[0], -1)\n",
    "        x = torch.sigmoid(self.fc1(x))\n",
    "        x = F.softmax(self.fc2(x), dim=-1)\n",
    "        return x"
   ]
  },
  {
   "cell_type": "code",
   "execution_count": 14,
   "metadata": {},
   "outputs": [],
   "source": [
    "# Weights Initialization Function\n",
    "def weights_init(m):\n",
    "    if isinstance(m, nn.Conv2d):\n",
    "        torch.nn.init.xavier_uniform_(m.weight.data)\n",
    "        torch.nn.init.zeros_(m.bias.data)\n",
    "    if isinstance(m, nn.Linear):\n",
    "        torch.nn.init.xavier_uniform_(m.weight.data)\n",
    "        torch.nn.init.zeros_(m.bias.data)"
   ]
  },
  {
   "cell_type": "code",
   "execution_count": 15,
   "metadata": {},
   "outputs": [
    {
     "data": {
      "text/plain": [
       "modelCNN(\n",
       "  (conv1): Conv2d(1, 16, kernel_size=(3, 3), stride=(1, 1))\n",
       "  (pool1): MaxPool2d(kernel_size=2, stride=2, padding=0, dilation=1, ceil_mode=False)\n",
       "  (dropout1): Dropout(p=0.4)\n",
       "  (conv2): Conv2d(16, 16, kernel_size=(3, 3), stride=(1, 1))\n",
       "  (pool2): MaxPool2d(kernel_size=2, stride=2, padding=0, dilation=1, ceil_mode=False)\n",
       "  (dropout2): Dropout(p=0.4)\n",
       "  (fc1): Linear(in_features=81280, out_features=16, bias=True)\n",
       "  (fc2): Linear(in_features=16, out_features=6, bias=True)\n",
       ")"
      ]
     },
     "execution_count": 15,
     "metadata": {},
     "output_type": "execute_result"
    }
   ],
   "source": [
    "# Create Model and Initialize Weights\n",
    "net = modelCNN()\n",
    "net.apply(weights_init)\n",
    "net.to(device)"
   ]
  },
  {
   "cell_type": "code",
   "execution_count": 16,
   "metadata": {},
   "outputs": [
    {
     "name": "stdout",
     "output_type": "stream",
     "text": [
      "Number of Trainable Parameters: 1303078\n"
     ]
    }
   ],
   "source": [
    "# Display Number of Trainable Parameters\n",
    "pytorch_total_params = sum(p.numel() for p in net.parameters() if p.requires_grad)\n",
    "print(\"Number of Trainable Parameters:\",pytorch_total_params)"
   ]
  },
  {
   "cell_type": "markdown",
   "metadata": {},
   "source": [
    "## Aux Functions to Smooth Loss and Monitor Training Progress"
   ]
  },
  {
   "cell_type": "code",
   "execution_count": 17,
   "metadata": {},
   "outputs": [],
   "source": [
    "# https://colab.research.google.com/drive/11v_mM2ImWdKDs_4qkoB9TdsQiPgVeeo2#scrollTo=NQgIwI5WC-07        \n",
    "class ProgressMonitor(object):\n",
    "    \"\"\"\n",
    "    Custom IPython progress bar\n",
    "    \"\"\"\n",
    "    \n",
    "    tmpl_train =\"\"\"\n",
    "        <p> Train Epoch: {epoch} / {num_epochs} <br>\n",
    "        Step: {value} / {length} - Train Loss: {loss:0.4f} / Accuracy: {accuracy:0.4f}   </p>\n",
    "        <progress value='{value}' max='{length}', style='width: 100%'>{value}</progress>\n",
    "        <br>\"\"\"\n",
    "    \n",
    "    tmpl_test= \"\"\"\n",
    "        <p>Test Epoch: {epoch} / {num_epochs} <br>\n",
    "        Step: {value} / {length} - Test Loss: {loss:0.4f}  /  Accuracy: {accuracy:0.4f} </p>\n",
    "        <progress value='{value}' max='{length}', style='width: 100%'>{value}</progress>\n",
    "        <br>\"\"\"\n",
    "\n",
    "    def __init__(self, length, mode):\n",
    "        self.length = length\n",
    "        self.count = 0\n",
    "        self.mode = mode\n",
    "        self.display = display(self.html(0, 0, 0, 0, 0, mode), display_id=True)   \n",
    "        \n",
    "    def html(self, count, epoch, num_epochs, loss, accuracy, mode=\"train\"):\n",
    "        if mode==\"train\":\n",
    "            return HTML(self.tmpl_train.format(length=self.length, value=count, epoch=epoch, num_epochs=num_epochs, loss=loss, accuracy=accuracy))\n",
    "        else:\n",
    "            return HTML(self.tmpl_test.format(length=self.length, value=count, epoch=epoch, num_epochs=num_epochs, loss=loss, accuracy=accuracy))\n",
    "        \n",
    "    def update(self, count, epoch, num_epochs, loss, accuracy, mode=\"train\"):\n",
    "        self.count += count\n",
    "        self.display.update(self.html(self.count, epoch, num_epochs, loss, accuracy, mode))\n",
    "\n",
    "# https://colab.research.google.com/drive/1gJAAN3UI9005ecVmxPun5ZLCGu4YBtLo#scrollTo=ZvoPaJvs7Eem\n",
    "class AverageBase(object):\n",
    "    \n",
    "    def __init__(self, value=0):\n",
    "        self.value = float(value) if value is not None else None\n",
    "       \n",
    "    def __str__(self):\n",
    "        return str(round(self.value, 4))\n",
    "    \n",
    "    def __repr__(self):\n",
    "        return self.value\n",
    "    \n",
    "    def __format__(self, fmt):\n",
    "        return self.value.__format__(fmt)\n",
    "    \n",
    "    def __float__(self):\n",
    "        return self.value\n",
    "    \n",
    "\n",
    "class RunningAverage(AverageBase):\n",
    "    \"\"\"\n",
    "    Keeps track of a cumulative moving average (CMA).\n",
    "    \"\"\"\n",
    "    \n",
    "    def __init__(self, value=0, count=0):\n",
    "        super(RunningAverage, self).__init__(value)\n",
    "        self.count = count\n",
    "        \n",
    "    def update(self, value):\n",
    "        self.value = (self.value * self.count + float(value))\n",
    "        self.count += 1\n",
    "        self.value /= self.count\n",
    "        return self.value\n",
    "\n",
    "\n",
    "class MovingAverage(AverageBase):\n",
    "    \"\"\"\n",
    "    An exponentially decaying moving average (EMA).\n",
    "    \"\"\"\n",
    "    \n",
    "    def __init__(self, alpha=0.99):\n",
    "        super(MovingAverage, self).__init__(None)\n",
    "        self.alpha = alpha\n",
    "        \n",
    "    def update(self, value):\n",
    "        if self.value is None:\n",
    "            self.value = float(value)\n",
    "        else:\n",
    "            self.value = self.alpha * self.value + (1 - self.alpha) * float(value)\n",
    "        return self.value"
   ]
  },
  {
   "cell_type": "markdown",
   "metadata": {},
   "source": [
    "## Define Loss Function and Optimizer"
   ]
  },
  {
   "cell_type": "code",
   "execution_count": 18,
   "metadata": {},
   "outputs": [],
   "source": [
    "class categorical_cross_entropy(nn.Module):\n",
    "    ''' Categorical Cross Entropy similar to Keras/TensorFlow\n",
    "        \"Categorical crossentropy between an output tensor and a target tensor\" - https://www.tensorflow.org/api_docs/python/tf/keras/backend/categorical_crossentropy\n",
    "        https://github.com/tensorflow/tensorflow/blob/r1.13/tensorflow/python/keras/backend.py\n",
    "        target: A tensor of the same shape as `inputX`.\n",
    "        inputX: A tensor resulting from a softmax\n",
    "    '''\n",
    "    def __init__(self):\n",
    "        super(categorical_cross_entropy, self).__init__()\n",
    "\n",
    "    def forward(self, inputX, target):\n",
    "        eps=1e-10\n",
    "        tmp = inputX.clone()\n",
    "        tmp /= torch.sum(tmp)\n",
    "        torch.clamp_(tmp, min=eps, max = 1-eps)\n",
    "        return torch.mean(-torch.sum(target * torch.log(tmp.double()), dim=-1), dim=-1)"
   ]
  },
  {
   "cell_type": "code",
   "execution_count": 19,
   "metadata": {},
   "outputs": [],
   "source": [
    "# Loss Function\n",
    "criterion = categorical_cross_entropy()\n",
    "\n",
    "# Optimizer\n",
    "optimizer = optim.SGD(net.parameters(), lr=lr)"
   ]
  },
  {
   "cell_type": "markdown",
   "metadata": {},
   "source": [
    "## Aux Functions to Save and Load Checkpoints"
   ]
  },
  {
   "cell_type": "code",
   "execution_count": 20,
   "metadata": {},
   "outputs": [],
   "source": [
    "def save_checkpoint(optimizer, criterion, model, epoch, filename):\n",
    "    checkpoint_dict = {\n",
    "        'optimizer': optimizer.state_dict(),\n",
    "        'model': model.state_dict(),\n",
    "        'epoch': epoch,\n",
    "        'criterion': criterion.state_dict()\n",
    "    }\n",
    "    torch.save(checkpoint_dict, filename)\n",
    "\n",
    "\n",
    "def load_checkpoint(optimizer, criterion, model, filename):\n",
    "    checkpoint_dict = torch.load(filename)\n",
    "    epoch = checkpoint_dict['epoch']\n",
    "    model.load_state_dict(checkpoint_dict['model'])\n",
    "    criterion.load_state_dict(checkpoint_dict['criterion'])\n",
    "    if optimizer is not None:\n",
    "        optimizer.load_state_dict(checkpoint_dict['optimizer'])\n",
    "    return epoch"
   ]
  },
  {
   "cell_type": "markdown",
   "metadata": {},
   "source": [
    "# Define a Train Function"
   ]
  },
  {
   "cell_type": "code",
   "execution_count": 21,
   "metadata": {},
   "outputs": [],
   "source": [
    "def train(model, epoch, num_epochs, monitoring=True):\n",
    "    \n",
    "    if monitoring:\n",
    "         #Create a Progress Bar \n",
    "        if inColab:\n",
    "            try:\n",
    "                # create a progress bar\n",
    "                with grid.output_to(0,0):\n",
    "                    progress = ProgressMonitor(length=len(train_set), mode=\"train\")\n",
    "            except:\n",
    "                pass\n",
    "        else:\n",
    "            progress = ProgressMonitor(length=len(train_set), mode=\"train\")\n",
    "        \n",
    "    \n",
    "    # Initialize Metrics\n",
    "    train_loss = MovingAverage()\n",
    "    train_acc = MovingAverage()\n",
    "    \n",
    "    # Train Stage\n",
    "    model.train()\n",
    "    \n",
    "    # keep track of X predictions amd metrics\n",
    "    x_pred = []\n",
    "\n",
    "    for i, (batch, targets) in enumerate(training_generator):\n",
    "        # Move the training data to the GPU\n",
    "        batch = batch.to(device)\n",
    "        targets = targets.to(device)\n",
    "\n",
    "        # clear previous gradient computation\n",
    "        optimizer.zero_grad()\n",
    "\n",
    "        # forward propagation\n",
    "        predictions = model(batch)\n",
    "\n",
    "        # calculate the loss\n",
    "        loss = criterion(predictions, targets)\n",
    "        #loss = cross_entropy(predictions, targets)\n",
    "\n",
    "        # backpropagate to compute gradients\n",
    "        loss.backward()\n",
    "\n",
    "        # update model weights\n",
    "        optimizer.step()\n",
    "\n",
    "        # update average loss\n",
    "        train_loss.update(loss)\n",
    "            \n",
    "        # save X predictions\n",
    "        x_pred.extend(predictions.argmax(dim=-1).cpu().numpy())\n",
    "        \n",
    "        # calculate accuracy\n",
    "        x_pred_torch = torch.tensor(x_pred, dtype=torch.int64)\n",
    "        accuracy = torch.mean((x_pred_torch == torch.tensor(np.argmax(train_set.labels[:len(x_pred)],axis=1), dtype=torch.int64)).float())\n",
    "        \n",
    "        # update average accuracy\n",
    "        train_acc.update(accuracy)\n",
    "            \n",
    "        # Update Progress Bar\n",
    "        if monitoring:\n",
    "                progress.update(batch.shape[0], epoch, num_epochs, train_loss, train_acc, mode=\"train\")\n",
    "                \n",
    "    #TensorBoard\n",
    "    if inColab:\n",
    "        try:\n",
    "            tbc.save_value('Loss', 'train_loss', epoch, train_loss.value)\n",
    "            tbc.save_value('Accuracy', 'train_acc', epoch, train_acc.value)\n",
    "        except:\n",
    "            pass\n",
    "\n",
    "    # Save a checkpoint\n",
    "    checkpoint_filename = 'checkpoints/basicInstrumetClassif-{:03d}.pkl'.format(epoch)\n",
    "    save_checkpoint(optimizer, criterion, model, epoch, checkpoint_filename)\n",
    "    return train_loss.value, train_acc.value , x_pred"
   ]
  },
  {
   "cell_type": "markdown",
   "metadata": {},
   "source": [
    "## Define a Test Function"
   ]
  },
  {
   "cell_type": "code",
   "execution_count": 22,
   "metadata": {},
   "outputs": [],
   "source": [
    "def test(model, epoch, num_epochs, monitoring=True):\n",
    "    \n",
    "    if monitoring:\n",
    "        #Create a Progress Bar\n",
    "        if inColab:\n",
    "            try:\n",
    "                with grid.output_to(0,0):\n",
    "                    progress = ProgressMonitor(length=len(test_set), mode=\"test\")\n",
    "            except:\n",
    "                pass\n",
    "        else:\n",
    "            progress = ProgressMonitor(length=len(test_set), mode=\"test\")\n",
    "    \n",
    "    \n",
    "    # validation phase\n",
    "    model.eval()\n",
    "    \n",
    "    #Initialize Metrics\n",
    "    valid_loss = RunningAverage()\n",
    "    valid_acc = RunningAverage()\n",
    "\n",
    "    # keep track of predictions\n",
    "    y_pred = []\n",
    "    \n",
    "    with torch.no_grad():\n",
    "        for batch, targets in validation_generator:\n",
    "\n",
    "            # Move the training batch to the GPU\n",
    "            batch = batch.to(device)\n",
    "            targets = targets.to(device)\n",
    "\n",
    "            # forward propagation\n",
    "            predictions = model(batch)\n",
    "\n",
    "            # calculate the loss\n",
    "            loss = criterion(predictions, targets)\n",
    "\n",
    "            # update running loss value\n",
    "            valid_loss.update(loss)\n",
    "\n",
    "            # save predictions\n",
    "            y_pred.extend(predictions.argmax(dim=1).cpu().numpy())\n",
    "\n",
    "            # Validation Accuracy\n",
    "            y_pred_torch = torch.tensor(y_pred, dtype=torch.int64)\n",
    "            accuracy = torch.mean((y_pred_torch == torch.tensor(np.argmax(test_set.labels[:len(y_pred)],axis=1), dtype=torch.int64)).float())\n",
    "            valid_acc.update(accuracy)\n",
    "\n",
    "            # Update Progress Bar\n",
    "            if monitoring:\n",
    "                    progress.update(batch.shape[0], epoch, num_epochs, valid_loss, valid_acc, mode=\"test\")\n",
    "                    \n",
    "    #TensorBoard\n",
    "    if inColab:\n",
    "        try:\n",
    "            tbc.save_value('Loss', 'valid_loss', epoch, valid_loss.value)\n",
    "            tbc.save_value('Accuracy', 'valid_acc', epoch, valid_acc.value)\n",
    "        except:\n",
    "            pass\n",
    "        \n",
    "    return valid_loss.value, valid_acc.value, y_pred\n",
    "    "
   ]
  },
  {
   "cell_type": "markdown",
   "metadata": {},
   "source": [
    "## Define an Experiment Function"
   ]
  },
  {
   "cell_type": "code",
   "execution_count": 23,
   "metadata": {},
   "outputs": [],
   "source": [
    "def experiment(model, num_epochs = num_epochs, first_epoch = 1, monitoring=True):\n",
    "    \n",
    "    #Initialze Metrics\n",
    "    train_losses = []\n",
    "    train_accuracies = []\n",
    "    valid_losses = []\n",
    "    valid_accuracies = []\n",
    "    \n",
    "    if inColab:\n",
    "        global tbc\n",
    "        tbc = TensorBoardColab()\n",
    "        if monitoring:\n",
    "            # create a 1x1 grid to display the loss and progress\n",
    "            global grid\n",
    "            grid = widgets.Grid(3,1)\n",
    "    \n",
    "    for epoch in range(first_epoch, first_epoch + num_epochs):\n",
    "        #Train Model\n",
    "        train_loss,train_acc,train_predictions=train(model, epoch, num_epochs, monitoring)\n",
    "        #Save Test Losses and Accuracies\n",
    "        train_losses.append(train_loss)\n",
    "        train_accuracies.append(train_acc)\n",
    "        #Test Model\n",
    "        valid_loss,valid_acc, valid_predictions = test(model, epoch, num_epochs, monitoring)\n",
    "        #Save Test Losses and Accuracies\n",
    "        valid_losses.append(valid_loss)\n",
    "        valid_accuracies.append(valid_acc)\n",
    "        \n",
    "        if monitoring:\n",
    "            if inColab:\n",
    "                try:\n",
    "                    # Plot loss\n",
    "                    with grid.output_to(1, 0):\n",
    "                        grid.clear_cell()\n",
    "                        plt.figure(figsize=(10,6))\n",
    "                        epochs = range(first_epoch, epoch + 1)\n",
    "                        plt.plot(epochs, train_losses, '-o', label='Training')\n",
    "                        plt.plot(epochs, valid_losses, '-o', label='Validation')\n",
    "                        plt.legend()\n",
    "                        plt.title('Learning curves')\n",
    "                        plt.xlabel('Epoch')\n",
    "                        plt.ylabel('Loss')\n",
    "                        plt.xticks(epochs)\n",
    "                        plt.show()\n",
    "\n",
    "                    # Plot Accuracy\n",
    "                    with grid.output_to(2, 0):\n",
    "                        grid.clear_cell()\n",
    "                        plt.figure(figsize=(10,6))\n",
    "                        epochs = range(first_epoch, epoch + 1)\n",
    "                        plt.plot(epochs, train_accuracies, '-o', label='Training')\n",
    "                        plt.plot(epochs, valid_accuracies, '-o', label='Validation')\n",
    "                        plt.legend()\n",
    "                        plt.title('Learning curves')\n",
    "                        plt.xlabel('Epoch')\n",
    "                        plt.ylabel('Accuracy')\n",
    "                        plt.xticks(epochs)\n",
    "                        plt.show()\n",
    "                except:\n",
    "                    pass\n",
    "                \n",
    "    return {\"train_loss\": train_losses, \"train_acc\": train_accuracies, \"valid_loss\" : valid_losses, \n",
    "            \"valid_acc\" : valid_accuracies, \"predictions\" :valid_predictions }"
   ]
  },
  {
   "cell_type": "markdown",
   "metadata": {},
   "source": [
    "## Run Experiment"
   ]
  },
  {
   "cell_type": "code",
   "execution_count": 24,
   "metadata": {},
   "outputs": [
    {
     "data": {
      "text/html": [
       "\n",
       "        <p> Train Epoch: 1 / 15 <br>\n",
       "        Step: 450 / 450 - Train Loss: 0.8150 / Accuracy: 0.6163   </p>\n",
       "        <progress value='450' max='450', style='width: 100%'>450</progress>\n",
       "        <br>"
      ],
      "text/plain": [
       "<IPython.core.display.HTML object>"
      ]
     },
     "metadata": {},
     "output_type": "display_data"
    },
    {
     "data": {
      "text/html": [
       "\n",
       "        <p>Test Epoch: 1 / 15 <br>\n",
       "        Step: 150 / 150 - Test Loss: 0.6791  /  Accuracy: 0.8387 </p>\n",
       "        <progress value='150' max='150', style='width: 100%'>150</progress>\n",
       "        <br>"
      ],
      "text/plain": [
       "<IPython.core.display.HTML object>"
      ]
     },
     "metadata": {},
     "output_type": "display_data"
    },
    {
     "data": {
      "text/html": [
       "\n",
       "        <p> Train Epoch: 2 / 15 <br>\n",
       "        Step: 450 / 450 - Train Loss: 0.4007 / Accuracy: 0.9102   </p>\n",
       "        <progress value='450' max='450', style='width: 100%'>450</progress>\n",
       "        <br>"
      ],
      "text/plain": [
       "<IPython.core.display.HTML object>"
      ]
     },
     "metadata": {},
     "output_type": "display_data"
    },
    {
     "data": {
      "text/html": [
       "\n",
       "        <p>Test Epoch: 2 / 15 <br>\n",
       "        Step: 150 / 150 - Test Loss: 0.4356  /  Accuracy: 0.9309 </p>\n",
       "        <progress value='150' max='150', style='width: 100%'>150</progress>\n",
       "        <br>"
      ],
      "text/plain": [
       "<IPython.core.display.HTML object>"
      ]
     },
     "metadata": {},
     "output_type": "display_data"
    },
    {
     "data": {
      "text/html": [
       "\n",
       "        <p> Train Epoch: 3 / 15 <br>\n",
       "        Step: 450 / 450 - Train Loss: 0.2218 / Accuracy: 0.9926   </p>\n",
       "        <progress value='450' max='450', style='width: 100%'>450</progress>\n",
       "        <br>"
      ],
      "text/plain": [
       "<IPython.core.display.HTML object>"
      ]
     },
     "metadata": {},
     "output_type": "display_data"
    },
    {
     "data": {
      "text/html": [
       "\n",
       "        <p>Test Epoch: 3 / 15 <br>\n",
       "        Step: 150 / 150 - Test Loss: 0.2575  /  Accuracy: 0.9586 </p>\n",
       "        <progress value='150' max='150', style='width: 100%'>150</progress>\n",
       "        <br>"
      ],
      "text/plain": [
       "<IPython.core.display.HTML object>"
      ]
     },
     "metadata": {},
     "output_type": "display_data"
    },
    {
     "data": {
      "text/html": [
       "\n",
       "        <p> Train Epoch: 4 / 15 <br>\n",
       "        Step: 450 / 450 - Train Loss: 0.1294 / Accuracy: 1.0000   </p>\n",
       "        <progress value='450' max='450', style='width: 100%'>450</progress>\n",
       "        <br>"
      ],
      "text/plain": [
       "<IPython.core.display.HTML object>"
      ]
     },
     "metadata": {},
     "output_type": "display_data"
    },
    {
     "data": {
      "text/html": [
       "\n",
       "        <p>Test Epoch: 4 / 15 <br>\n",
       "        Step: 150 / 150 - Test Loss: 0.1575  /  Accuracy: 1.0000 </p>\n",
       "        <progress value='150' max='150', style='width: 100%'>150</progress>\n",
       "        <br>"
      ],
      "text/plain": [
       "<IPython.core.display.HTML object>"
      ]
     },
     "metadata": {},
     "output_type": "display_data"
    },
    {
     "data": {
      "text/html": [
       "\n",
       "        <p> Train Epoch: 5 / 15 <br>\n",
       "        Step: 450 / 450 - Train Loss: 0.0889 / Accuracy: 0.9973   </p>\n",
       "        <progress value='450' max='450', style='width: 100%'>450</progress>\n",
       "        <br>"
      ],
      "text/plain": [
       "<IPython.core.display.HTML object>"
      ]
     },
     "metadata": {},
     "output_type": "display_data"
    },
    {
     "data": {
      "text/html": [
       "\n",
       "        <p>Test Epoch: 5 / 15 <br>\n",
       "        Step: 150 / 150 - Test Loss: 0.1259  /  Accuracy: 1.0000 </p>\n",
       "        <progress value='150' max='150', style='width: 100%'>150</progress>\n",
       "        <br>"
      ],
      "text/plain": [
       "<IPython.core.display.HTML object>"
      ]
     },
     "metadata": {},
     "output_type": "display_data"
    },
    {
     "data": {
      "text/html": [
       "\n",
       "        <p> Train Epoch: 6 / 15 <br>\n",
       "        Step: 450 / 450 - Train Loss: 0.0640 / Accuracy: 1.0000   </p>\n",
       "        <progress value='450' max='450', style='width: 100%'>450</progress>\n",
       "        <br>"
      ],
      "text/plain": [
       "<IPython.core.display.HTML object>"
      ]
     },
     "metadata": {},
     "output_type": "display_data"
    },
    {
     "data": {
      "text/html": [
       "\n",
       "        <p>Test Epoch: 6 / 15 <br>\n",
       "        Step: 150 / 150 - Test Loss: 0.1051  /  Accuracy: 1.0000 </p>\n",
       "        <progress value='150' max='150', style='width: 100%'>150</progress>\n",
       "        <br>"
      ],
      "text/plain": [
       "<IPython.core.display.HTML object>"
      ]
     },
     "metadata": {},
     "output_type": "display_data"
    },
    {
     "data": {
      "text/html": [
       "\n",
       "        <p> Train Epoch: 7 / 15 <br>\n",
       "        Step: 450 / 450 - Train Loss: 0.0530 / Accuracy: 1.0000   </p>\n",
       "        <progress value='450' max='450', style='width: 100%'>450</progress>\n",
       "        <br>"
      ],
      "text/plain": [
       "<IPython.core.display.HTML object>"
      ]
     },
     "metadata": {},
     "output_type": "display_data"
    },
    {
     "data": {
      "text/html": [
       "\n",
       "        <p>Test Epoch: 7 / 15 <br>\n",
       "        Step: 150 / 150 - Test Loss: 0.1053  /  Accuracy: 0.9950 </p>\n",
       "        <progress value='150' max='150', style='width: 100%'>150</progress>\n",
       "        <br>"
      ],
      "text/plain": [
       "<IPython.core.display.HTML object>"
      ]
     },
     "metadata": {},
     "output_type": "display_data"
    },
    {
     "data": {
      "text/html": [
       "\n",
       "        <p> Train Epoch: 8 / 15 <br>\n",
       "        Step: 450 / 450 - Train Loss: 0.0450 / Accuracy: 1.0000   </p>\n",
       "        <progress value='450' max='450', style='width: 100%'>450</progress>\n",
       "        <br>"
      ],
      "text/plain": [
       "<IPython.core.display.HTML object>"
      ]
     },
     "metadata": {},
     "output_type": "display_data"
    },
    {
     "data": {
      "text/html": [
       "\n",
       "        <p>Test Epoch: 8 / 15 <br>\n",
       "        Step: 150 / 150 - Test Loss: 0.0891  /  Accuracy: 1.0000 </p>\n",
       "        <progress value='150' max='150', style='width: 100%'>150</progress>\n",
       "        <br>"
      ],
      "text/plain": [
       "<IPython.core.display.HTML object>"
      ]
     },
     "metadata": {},
     "output_type": "display_data"
    },
    {
     "data": {
      "text/html": [
       "\n",
       "        <p> Train Epoch: 9 / 15 <br>\n",
       "        Step: 450 / 450 - Train Loss: 0.0388 / Accuracy: 1.0000   </p>\n",
       "        <progress value='450' max='450', style='width: 100%'>450</progress>\n",
       "        <br>"
      ],
      "text/plain": [
       "<IPython.core.display.HTML object>"
      ]
     },
     "metadata": {},
     "output_type": "display_data"
    },
    {
     "data": {
      "text/html": [
       "\n",
       "        <p>Test Epoch: 9 / 15 <br>\n",
       "        Step: 150 / 150 - Test Loss: 0.0827  /  Accuracy: 0.9976 </p>\n",
       "        <progress value='150' max='150', style='width: 100%'>150</progress>\n",
       "        <br>"
      ],
      "text/plain": [
       "<IPython.core.display.HTML object>"
      ]
     },
     "metadata": {},
     "output_type": "display_data"
    },
    {
     "data": {
      "text/html": [
       "\n",
       "        <p> Train Epoch: 10 / 15 <br>\n",
       "        Step: 450 / 450 - Train Loss: 0.0343 / Accuracy: 1.0000   </p>\n",
       "        <progress value='450' max='450', style='width: 100%'>450</progress>\n",
       "        <br>"
      ],
      "text/plain": [
       "<IPython.core.display.HTML object>"
      ]
     },
     "metadata": {},
     "output_type": "display_data"
    },
    {
     "data": {
      "text/html": [
       "\n",
       "        <p>Test Epoch: 10 / 15 <br>\n",
       "        Step: 150 / 150 - Test Loss: 0.0757  /  Accuracy: 0.9927 </p>\n",
       "        <progress value='150' max='150', style='width: 100%'>150</progress>\n",
       "        <br>"
      ],
      "text/plain": [
       "<IPython.core.display.HTML object>"
      ]
     },
     "metadata": {},
     "output_type": "display_data"
    },
    {
     "data": {
      "text/html": [
       "\n",
       "        <p> Train Epoch: 11 / 15 <br>\n",
       "        Step: 450 / 450 - Train Loss: 0.0316 / Accuracy: 1.0000   </p>\n",
       "        <progress value='450' max='450', style='width: 100%'>450</progress>\n",
       "        <br>"
      ],
      "text/plain": [
       "<IPython.core.display.HTML object>"
      ]
     },
     "metadata": {},
     "output_type": "display_data"
    },
    {
     "data": {
      "text/html": [
       "\n",
       "        <p>Test Epoch: 11 / 15 <br>\n",
       "        Step: 150 / 150 - Test Loss: 0.0684  /  Accuracy: 1.0000 </p>\n",
       "        <progress value='150' max='150', style='width: 100%'>150</progress>\n",
       "        <br>"
      ],
      "text/plain": [
       "<IPython.core.display.HTML object>"
      ]
     },
     "metadata": {},
     "output_type": "display_data"
    },
    {
     "data": {
      "text/html": [
       "\n",
       "        <p> Train Epoch: 12 / 15 <br>\n",
       "        Step: 450 / 450 - Train Loss: 0.0274 / Accuracy: 1.0000   </p>\n",
       "        <progress value='450' max='450', style='width: 100%'>450</progress>\n",
       "        <br>"
      ],
      "text/plain": [
       "<IPython.core.display.HTML object>"
      ]
     },
     "metadata": {},
     "output_type": "display_data"
    },
    {
     "data": {
      "text/html": [
       "\n",
       "        <p>Test Epoch: 12 / 15 <br>\n",
       "        Step: 150 / 150 - Test Loss: 0.0611  /  Accuracy: 1.0000 </p>\n",
       "        <progress value='150' max='150', style='width: 100%'>150</progress>\n",
       "        <br>"
      ],
      "text/plain": [
       "<IPython.core.display.HTML object>"
      ]
     },
     "metadata": {},
     "output_type": "display_data"
    },
    {
     "data": {
      "text/html": [
       "\n",
       "        <p> Train Epoch: 13 / 15 <br>\n",
       "        Step: 450 / 450 - Train Loss: 0.0248 / Accuracy: 1.0000   </p>\n",
       "        <progress value='450' max='450', style='width: 100%'>450</progress>\n",
       "        <br>"
      ],
      "text/plain": [
       "<IPython.core.display.HTML object>"
      ]
     },
     "metadata": {},
     "output_type": "display_data"
    },
    {
     "data": {
      "text/html": [
       "\n",
       "        <p>Test Epoch: 13 / 15 <br>\n",
       "        Step: 150 / 150 - Test Loss: 0.0596  /  Accuracy: 1.0000 </p>\n",
       "        <progress value='150' max='150', style='width: 100%'>150</progress>\n",
       "        <br>"
      ],
      "text/plain": [
       "<IPython.core.display.HTML object>"
      ]
     },
     "metadata": {},
     "output_type": "display_data"
    },
    {
     "data": {
      "text/html": [
       "\n",
       "        <p> Train Epoch: 14 / 15 <br>\n",
       "        Step: 450 / 450 - Train Loss: 0.0226 / Accuracy: 1.0000   </p>\n",
       "        <progress value='450' max='450', style='width: 100%'>450</progress>\n",
       "        <br>"
      ],
      "text/plain": [
       "<IPython.core.display.HTML object>"
      ]
     },
     "metadata": {},
     "output_type": "display_data"
    },
    {
     "data": {
      "text/html": [
       "\n",
       "        <p>Test Epoch: 14 / 15 <br>\n",
       "        Step: 150 / 150 - Test Loss: 0.0548  /  Accuracy: 1.0000 </p>\n",
       "        <progress value='150' max='150', style='width: 100%'>150</progress>\n",
       "        <br>"
      ],
      "text/plain": [
       "<IPython.core.display.HTML object>"
      ]
     },
     "metadata": {},
     "output_type": "display_data"
    },
    {
     "data": {
      "text/html": [
       "\n",
       "        <p> Train Epoch: 15 / 15 <br>\n",
       "        Step: 450 / 450 - Train Loss: 0.0221 / Accuracy: 1.0000   </p>\n",
       "        <progress value='450' max='450', style='width: 100%'>450</progress>\n",
       "        <br>"
      ],
      "text/plain": [
       "<IPython.core.display.HTML object>"
      ]
     },
     "metadata": {},
     "output_type": "display_data"
    },
    {
     "data": {
      "text/html": [
       "\n",
       "        <p>Test Epoch: 15 / 15 <br>\n",
       "        Step: 150 / 150 - Test Loss: 0.0474  /  Accuracy: 1.0000 </p>\n",
       "        <progress value='150' max='150', style='width: 100%'>150</progress>\n",
       "        <br>"
      ],
      "text/plain": [
       "<IPython.core.display.HTML object>"
      ]
     },
     "metadata": {},
     "output_type": "display_data"
    }
   ],
   "source": [
    "# Run Experiment\n",
    "hist = experiment(net, num_epochs=num_epochs, monitoring=True)"
   ]
  },
  {
   "cell_type": "markdown",
   "metadata": {},
   "source": [
    "## Evaluate Model"
   ]
  },
  {
   "cell_type": "code",
   "execution_count": 25,
   "metadata": {},
   "outputs": [
    {
     "data": {
      "image/png": "[encoded data removed]",
      "text/plain": [
       "<Figure size 720x432 with 1 Axes>"
      ]
     },
     "metadata": {
      "needs_background": "light"
     },
     "output_type": "display_data"
    },
    {
     "data": {
      "image/png": "[encoded data removed]",
      "text/plain": [
       "<Figure size 720x432 with 1 Axes>"
      ]
     },
     "metadata": {
      "needs_background": "light"
     },
     "output_type": "display_data"
    }
   ],
   "source": [
    "epochs = range(1, len(hist[\"train_loss\"]) + 1)\n",
    "\n",
    "plt.figure(figsize=(10,6))\n",
    "plt.plot(epochs, hist[\"train_loss\"], '-o', label='Training loss')\n",
    "plt.plot(epochs, hist[\"valid_loss\"], '-o', label='Validation loss')\n",
    "plt.legend()\n",
    "plt.title('Learning curves')\n",
    "plt.xlabel('Epoch')\n",
    "plt.ylabel('Loss')\n",
    "plt.xticks(epochs)\n",
    "plt.grid()\n",
    "plt.show()\n",
    "\n",
    "plt.figure(figsize=(10,6))\n",
    "plt.plot(epochs, hist[\"train_acc\"], '-o', label='Training accuracy')\n",
    "plt.plot(epochs, hist[\"valid_acc\"], '-o', label='Validation accuracy')\n",
    "plt.legend()\n",
    "plt.title('Learning curves')\n",
    "plt.xlabel('Epoch')\n",
    "plt.ylabel('Accuracy')\n",
    "plt.xticks(epochs)\n",
    "plt.grid()\n",
    "plt.show()"
   ]
  },
  {
   "cell_type": "code",
   "execution_count": 26,
   "metadata": {},
   "outputs": [
    {
     "name": "stdout",
     "output_type": "stream",
     "text": [
      "Validation errors 0 (out of 150)\n"
     ]
    }
   ],
   "source": [
    "# Number of Validation Errors\n",
    "num_errors = torch.sum((torch.tensor(hist[\"predictions\"]) != torch.tensor(np.argmax(test_set.labels,axis=1))).float())\n",
    "print('Validation errors {} (out of {})'.format(int(num_errors), len(test_set)))"
   ]
  },
  {
   "cell_type": "code",
   "execution_count": 27,
   "metadata": {},
   "outputs": [
    {
     "name": "stdout",
     "output_type": "stream",
     "text": [
      "Wrongly predicted Audio Files []\n",
      "Correct Classes: []\n",
      "Predicted as: []\n"
     ]
    }
   ],
   "source": [
    "# Mistakes\n",
    "error_indicator = torch.tensor(hist[\"predictions\"]) != torch.tensor(np.argmax(test_set.labels,axis=1))\n",
    "print(\"Wrongly predicted Audio Files\", test_set.files[np.where(error_indicator)])\n",
    "print(\"Correct Classes:\", np.array(labels)[test_index[np.where(error_indicator)]])\n",
    "print(\"Predicted as:\",labelencoder.inverse_transform(np.ravel(np.array(hist[\"predictions\"])[np.where(error_indicator)])))"
   ]
  },
  {
   "cell_type": "code",
   "execution_count": 28,
   "metadata": {},
   "outputs": [],
   "source": [
    "# Back to Labels\n",
    "predictions_labels=labelencoder.inverse_transform(np.ravel(hist[\"predictions\"]));"
   ]
  },
  {
   "cell_type": "code",
   "execution_count": 29,
   "metadata": {},
   "outputs": [
    {
     "name": "stdout",
     "output_type": "stream",
     "text": [
      "Recall:  [1. 1. 1. 1. 1. 1.]\n",
      "Precision:  [1. 1. 1. 1. 1. 1.]\n",
      "F1-Score:  [1. 1. 1. 1. 1. 1.]\n",
      "Accuracy: 1.00  , 150\n",
      "Number of samples: 150\n",
      "              precision    recall  f1-score   support\n",
      "\n",
      "           0       1.00      1.00      1.00        25\n",
      "           1       1.00      1.00      1.00        25\n",
      "           2       1.00      1.00      1.00        25\n",
      "           3       1.00      1.00      1.00        25\n",
      "           4       1.00      1.00      1.00        25\n",
      "           5       1.00      1.00      1.00        25\n",
      "\n",
      "   micro avg       1.00      1.00      1.00       150\n",
      "   macro avg       1.00      1.00      1.00       150\n",
      "weighted avg       1.00      1.00      1.00       150\n",
      "\n"
     ]
    }
   ],
   "source": [
    "# Recall - the ability of the classifier to find all the positive samples\n",
    "print(\"Recall: \", recall_score(classes_int[test_index], hist[\"predictions\"],average=None))\n",
    "\n",
    "# Precision - The precision is intuitively the ability of the classifier not to \n",
    "#label as positive a sample that is negative\n",
    "print(\"Precision: \", precision_score(classes_int[test_index], hist[\"predictions\"],average=None))\n",
    "\n",
    "# F1-Score - The F1 score can be interpreted as a weighted average of the precision \n",
    "#and recall\n",
    "print(\"F1-Score: \", f1_score(classes_int[test_index], hist[\"predictions\"], average=None))\n",
    "\n",
    "# Accuracy - the number of correctly classified samples\n",
    "print(\"Accuracy: %.2f  ,\" % accuracy_score(classes_int[test_index], hist[\"predictions\"] ,normalize=True), accuracy_score(classes_int[test_index], hist[\"predictions\"],normalize=False) )\n",
    "print(\"Number of samples:\",classes_int[test_index].shape[0])\n",
    "\n",
    "print(classification_report(classes_int[test_index], hist[\"predictions\"]))"
   ]
  },
  {
   "cell_type": "code",
   "execution_count": 30,
   "metadata": {},
   "outputs": [],
   "source": [
    "# Compute confusion matrix\n",
    "cnf_matrix = confusion_matrix(classes_int[test_index], hist[\"predictions\"])\n",
    "np.set_printoptions(precision=2)"
   ]
  },
  {
   "cell_type": "code",
   "execution_count": 31,
   "metadata": {},
   "outputs": [],
   "source": [
    "# Function to Plot Confusion Matrix\n",
    "# http://scikit-learn.org/stable/auto_examples/model_selection/plot_confusion_matrix.html\n",
    "def plot_confusion_matrix(cm, classes,\n",
    "                          normalize=False,\n",
    "                          title='Confusion matrix',\n",
    "                          cmap=plt.cm.Blues):\n",
    "    \"\"\"\n",
    "    This function prints and plots the confusion matrix.\n",
    "    Normalization can be applied by setting `normalize=True`.\n",
    "    \n",
    "    if normalize:\n",
    "        cm = cm.astype('float') / cm.sum(axis=1)[:, np.newaxis]\n",
    "        print(\"Normalized confusion matrix\")\n",
    "    else:\n",
    "        print('Confusion matrix, without normalization')\n",
    "    \"\"\"\n",
    "    #print(cm)\n",
    "\n",
    "    plt.imshow(cm, interpolation='nearest', cmap=cmap)\n",
    "    plt.title(title)\n",
    "    plt.colorbar()\n",
    "    tick_marks = np.arange(len(classes))\n",
    "    plt.xticks(tick_marks, classes, rotation=45)\n",
    "    plt.yticks(tick_marks, classes)\n",
    "\n",
    "    fmt = '.2f' if normalize else 'd'\n",
    "    thresh = cm.max() / 2.\n",
    "    for i, j in itertools.product(range(cm.shape[0]), range(cm.shape[1])):\n",
    "        plt.text(j, i, format(cm[i, j], fmt),\n",
    "                 horizontalalignment=\"center\",\n",
    "                 color=\"white\" if cm[i, j] > thresh else \"black\")\n",
    "\n",
    "    plt.tight_layout()\n",
    "    plt.ylabel('True label')\n",
    "    plt.xlabel('Predicted label')"
   ]
  },
  {
   "cell_type": "code",
   "execution_count": 32,
   "metadata": {},
   "outputs": [
    {
     "data": {
      "image/png": "[encoded data removed]",
      "text/plain": [
       "<Figure size 1152x864 with 2 Axes>"
      ]
     },
     "metadata": {
      "needs_background": "light"
     },
     "output_type": "display_data"
    }
   ],
   "source": [
    "# Plot non-normalized confusion matrix\n",
    "plt.figure(figsize=(16,12))\n",
    "plot_confusion_matrix(cnf_matrix, classes=labelencoder.classes_,\n",
    "                      title='Confusion matrix, without normalization')"
   ]
  },
  {
   "cell_type": "code",
   "execution_count": 33,
   "metadata": {},
   "outputs": [],
   "source": [
    "# Find wrong predicted samples indexes\n",
    "wrong_predictions = [i for i, (e1, e2) in enumerate(zip(classes_int[test_index], hist[\"predictions\"])) if e1 != e2]"
   ]
  },
  {
   "cell_type": "code",
   "execution_count": 34,
   "metadata": {},
   "outputs": [
    {
     "name": "stdout",
     "output_type": "stream",
     "text": [
      "Correct Classes: []\n",
      "Predicted as: []\n",
      "[]\n"
     ]
    }
   ],
   "source": [
    "# Find wrong predicted audio files\n",
    "print(\"Correct Classes:\", np.array(labels)[test_index[wrong_predictions]])\n",
    "print(\"Predicted as:\", predictions_labels[wrong_predictions].T)\n",
    "print(np.array(files)[test_index[wrong_predictions]])"
   ]
  },
  {
   "cell_type": "markdown",
   "metadata": {},
   "source": [
    "## Resume Training"
   ]
  },
  {
   "cell_type": "code",
   "execution_count": 35,
   "metadata": {},
   "outputs": [
    {
     "name": "stdout",
     "output_type": "stream",
     "text": [
      "basicInstrumetClassif-001.pkl  basicInstrumetClassif-009.pkl\r\n",
      "basicInstrumetClassif-002.pkl  basicInstrumetClassif-010.pkl\r\n",
      "basicInstrumetClassif-003.pkl  basicInstrumetClassif-011.pkl\r\n",
      "basicInstrumetClassif-004.pkl  basicInstrumetClassif-012.pkl\r\n",
      "basicInstrumetClassif-005.pkl  basicInstrumetClassif-013.pkl\r\n",
      "basicInstrumetClassif-006.pkl  basicInstrumetClassif-014.pkl\r\n",
      "basicInstrumetClassif-007.pkl  basicInstrumetClassif-015.pkl\r\n",
      "basicInstrumetClassif-008.pkl\r\n"
     ]
    }
   ],
   "source": [
    "!ls checkpoints"
   ]
  },
  {
   "cell_type": "code",
   "execution_count": 36,
   "metadata": {},
   "outputs": [
    {
     "name": "stdout",
     "output_type": "stream",
     "text": [
      "Resuming training from epoch 2\n"
     ]
    },
    {
     "data": {
      "text/html": [
       "\n",
       "        <p> Train Epoch: 2 / 2 <br>\n",
       "        Step: 450 / 450 - Train Loss: 0.2157 / Accuracy: 0.9744   </p>\n",
       "        <progress value='450' max='450', style='width: 100%'>450</progress>\n",
       "        <br>"
      ],
      "text/plain": [
       "<IPython.core.display.HTML object>"
      ]
     },
     "metadata": {},
     "output_type": "display_data"
    },
    {
     "data": {
      "text/html": [
       "\n",
       "        <p>Test Epoch: 2 / 2 <br>\n",
       "        Step: 150 / 150 - Test Loss: 0.2560  /  Accuracy: 0.9763 </p>\n",
       "        <progress value='150' max='150', style='width: 100%'>150</progress>\n",
       "        <br>"
      ],
      "text/plain": [
       "<IPython.core.display.HTML object>"
      ]
     },
     "metadata": {},
     "output_type": "display_data"
    },
    {
     "data": {
      "text/html": [
       "\n",
       "        <p> Train Epoch: 3 / 2 <br>\n",
       "        Step: 450 / 450 - Train Loss: 0.1317 / Accuracy: 1.0000   </p>\n",
       "        <progress value='450' max='450', style='width: 100%'>450</progress>\n",
       "        <br>"
      ],
      "text/plain": [
       "<IPython.core.display.HTML object>"
      ]
     },
     "metadata": {},
     "output_type": "display_data"
    },
    {
     "data": {
      "text/html": [
       "\n",
       "        <p>Test Epoch: 3 / 2 <br>\n",
       "        Step: 150 / 150 - Test Loss: 0.1473  /  Accuracy: 1.0000 </p>\n",
       "        <progress value='150' max='150', style='width: 100%'>150</progress>\n",
       "        <br>"
      ],
      "text/plain": [
       "<IPython.core.display.HTML object>"
      ]
     },
     "metadata": {},
     "output_type": "display_data"
    }
   ],
   "source": [
    "epoch = load_checkpoint(optimizer, criterion, net, 'checkpoints/basicInstrumetClassif-002.pkl')\n",
    "print('Resuming training from epoch', epoch)\n",
    "hist = experiment(net, num_epochs=2, first_epoch=epoch)"
   ]
  },
  {
   "cell_type": "code",
   "execution_count": null,
   "metadata": {},
   "outputs": [],
   "source": []
  }
 ],
 "metadata": {
  "kernelspec": {
   "display_name": "Python 3",
   "language": "python",
   "name": "python3"
  },
  "language_info": {
   "codemirror_mode": {
    "name": "ipython",
    "version": 3
   },
   "file_extension": ".py",
   "mimetype": "text/x-python",
   "name": "python",
   "nbconvert_exporter": "python",
   "pygments_lexer": "ipython3",
   "version": "3.6.5"
  }
 },
 "nbformat": 4,
 "nbformat_minor": 2
}
