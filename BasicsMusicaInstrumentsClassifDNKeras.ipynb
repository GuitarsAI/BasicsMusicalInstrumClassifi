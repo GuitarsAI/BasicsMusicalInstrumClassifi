{
 "cells": [
  {
   "cell_type": "markdown",
   "metadata": {},
   "source": [
    "# The Very Basics of Musical Instruments Classification using Machine Learning\n",
    "## MFCC, Deep Learning (Gentle introduction using Keras)\n",
    "\n",
    "<br>\n",
    "\n",
    "<p align=\"left\">\n",
    "<img src=\"./img/businesscard.jpg\" width=\"300px\" alt=\"Business Card\" align=\"left\" >\n",
    "</p>\n",
    "<br>\n",
    "\n"
   ]
  },
  {
   "cell_type": "code",
   "execution_count": 1,
   "metadata": {},
   "outputs": [
    {
     "data": {
      "text/html": [
       "<iframe width=\"560\" height=\"315\" src=\"https://www.youtube.com/embed/ZlxZ3i0RP9I\" frameborder=\"0\" \n",
       "allow=\"accelerometer; encrypted-media; gyroscope; picture-in-picture\"></iframe>"
      ],
      "text/plain": [
       "<IPython.core.display.HTML object>"
      ]
     },
     "metadata": {},
     "output_type": "display_data"
    }
   ],
   "source": [
    "%%html\n",
    "<iframe width=\"560\" height=\"315\" src=\"https://www.youtube.com/embed/ZlxZ3i0RP9I\" frameborder=\"0\" \n",
    "allow=\"accelerometer; encrypted-media; gyroscope; picture-in-picture\"></iframe>"
   ]
  },
  {
   "cell_type": "markdown",
   "metadata": {},
   "source": [
    "## Imports"
   ]
  },
  {
   "cell_type": "code",
   "execution_count": 2,
   "metadata": {},
   "outputs": [
    {
     "name": "stderr",
     "output_type": "stream",
     "text": [
      "Using TensorFlow backend.\n"
     ]
    }
   ],
   "source": [
    "# Imports\n",
    "\n",
    "#General\n",
    "import numpy as np\n",
    "import pickle\n",
    "import itertools\n",
    "\n",
    "# System\n",
    "import os, fnmatch\n",
    "\n",
    "# Visualization\n",
    "import seaborn #visualization library, must be imported before all other plotting libraries\n",
    "import matplotlib.pyplot as plt\n",
    "from IPython.core.display import HTML, display\n",
    "\n",
    "# Machine Learning\n",
    "from sklearn.preprocessing import LabelEncoder, OneHotEncoder\n",
    "from sklearn.model_selection import StratifiedShuffleSplit, GridSearchCV\n",
    "from sklearn.neighbors import KNeighborsClassifier\n",
    "from sklearn.metrics import recall_score, precision_score, accuracy_score\n",
    "from sklearn.metrics import confusion_matrix, f1_score, classification_report\n",
    "from sklearn.metrics import classification_report\n",
    "\n",
    "# Deep Learning\n",
    "from keras import backend as K\n",
    "from keras.layers import Input, Dense\n",
    "from keras.models import Model, Sequential\n",
    "from keras.optimizers import SGD\n",
    "from keras.callbacks import History\n",
    "from keras.wrappers.scikit_learn import KerasClassifier\n",
    "from keras.utils import to_categorical\n",
    "\n",
    "# Random Seed\n",
    "from tensorflow import set_random_seed\n",
    "from numpy.random import seed\n",
    "seed(1)\n",
    "set_random_seed(2)\n",
    "\n",
    "# Audio\n",
    "import librosa.display, librosa\n",
    "\n",
    "# Configurations\n",
    "path='./audio/london_phill_dataset_multi/'"
   ]
  },
  {
   "cell_type": "markdown",
   "metadata": {},
   "source": [
    "## Auxiliary Functions"
   ]
  },
  {
   "cell_type": "code",
   "execution_count": 3,
   "metadata": {},
   "outputs": [],
   "source": [
    "# Function to Display a Website\n",
    "def show_web(url):\n",
    "    html_code='<center><iframe src=\"%s\" width=\"800\" height=\"600\" frameborder=\"0\" marginheight=\"0\" marginwidth=\"0\">Loading...</iframe></center>' \\\n",
    "\t\t% (url)\n",
    "    display(HTML(html_code))"
   ]
  },
  {
   "cell_type": "markdown",
   "metadata": {},
   "source": [
    "## Get filenames"
   ]
  },
  {
   "cell_type": "code",
   "execution_count": 4,
   "metadata": {},
   "outputs": [
    {
     "name": "stdout",
     "output_type": "stream",
     "text": [
      "found 600 audio files in ./audio/london_phill_dataset_multi/\n"
     ]
    }
   ],
   "source": [
    "# Get files in data path\n",
    "\n",
    "files = []\n",
    "for root, dirnames, filenames in os.walk(path):\n",
    "    for filename in fnmatch.filter(filenames, '*.mp3'):\n",
    "        files.append(os.path.join(root, filename))\n",
    "\n",
    "print(\"found %d audio files in %s\"%(len(files),path))"
   ]
  },
  {
   "cell_type": "markdown",
   "metadata": {},
   "source": [
    "## Load Labels"
   ]
  },
  {
   "cell_type": "code",
   "execution_count": 5,
   "metadata": {},
   "outputs": [],
   "source": [
    "filename=\"inst_labels.pl\"\n",
    "# Load labels\n",
    "with open(filename, \"rb\") as f:\n",
    "    labels = pickle.load( open( filename, \"rb\" ) )"
   ]
  },
  {
   "cell_type": "code",
   "execution_count": 6,
   "metadata": {},
   "outputs": [
    {
     "name": "stdout",
     "output_type": "stream",
     "text": [
      "6 classes: cello, flute, oboe, sax, trumpet, viola\n"
     ]
    }
   ],
   "source": [
    "# Encode Labels\n",
    "labelencoder = LabelEncoder()\n",
    "labelencoder.fit(labels)\n",
    "print(len(labelencoder.classes_), \"classes:\", \", \".join(list(labelencoder.classes_)))\n",
    "classes_num = labelencoder.transform(labels)"
   ]
  },
  {
   "cell_type": "markdown",
   "metadata": {},
   "source": [
    "## Parameters for MFCC"
   ]
  },
  {
   "cell_type": "code",
   "execution_count": 7,
   "metadata": {},
   "outputs": [],
   "source": [
    "# Parameters\n",
    "# Signal Processing Parameters\n",
    "fs = 44100         # Sampling Frequency\n",
    "n_fft = 2048       # length of the FFT window\n",
    "hop_length = 512   # Number of samples between successive frames\n",
    "n_mels = 128       # Number of Mel bands\n",
    "n_mfcc = 13        # Number of MFCCs\n",
    "\n",
    "# Machine Learning Parameters\n",
    "testset_size = 0.25 #Percentage of data for Testing\n",
    "n_neighbors=1       # Number of neighbors for kNN Classifier"
   ]
  },
  {
   "cell_type": "markdown",
   "metadata": {},
   "source": [
    "## Save / Load Feature Vector"
   ]
  },
  {
   "cell_type": "code",
   "execution_count": 8,
   "metadata": {},
   "outputs": [],
   "source": [
    "filename=\"mfcc_feature_vectors.pl\"\n",
    "# Load mfcc features from saved file\n",
    "with open(filename, \"rb\") as f:\n",
    "    scaled_feature_vectors = pickle.load( open( filename, \"rb\" ) )"
   ]
  },
  {
   "cell_type": "markdown",
   "metadata": {},
   "source": [
    "## Train and Test Sets"
   ]
  },
  {
   "cell_type": "code",
   "execution_count": 9,
   "metadata": {},
   "outputs": [],
   "source": [
    "# Create Train and Test Set\n",
    "splitter = StratifiedShuffleSplit(n_splits=1, test_size=testset_size, random_state=0)\n",
    "splits = splitter.split(scaled_feature_vectors, classes_num)\n",
    "for train_index, test_index in splits:\n",
    "    train_set = scaled_feature_vectors[train_index]\n",
    "    test_set = scaled_feature_vectors[test_index]\n",
    "    train_classes = classes_num[train_index]\n",
    "    test_classes = classes_num[test_index]"
   ]
  },
  {
   "cell_type": "code",
   "execution_count": 10,
   "metadata": {},
   "outputs": [
    {
     "name": "stdout",
     "output_type": "stream",
     "text": [
      "train_set shape: (450, 13)\n",
      "test_set shape: (150, 13)\n",
      "train_classes shape: (450,)\n",
      "test_classes shape: (150,)\n"
     ]
    }
   ],
   "source": [
    "# Check Set Shapes\n",
    "print(\"train_set shape:\",train_set.shape)\n",
    "print(\"test_set shape:\",test_set.shape)\n",
    "print(\"train_classes shape:\",train_classes.shape)\n",
    "print(\"test_classes shape:\",test_classes.shape)"
   ]
  },
  {
   "cell_type": "markdown",
   "metadata": {},
   "source": [
    "## Keras"
   ]
  },
  {
   "cell_type": "code",
   "execution_count": 11,
   "metadata": {},
   "outputs": [
    {
     "data": {
      "text/html": [
       "<center><iframe src=\"https://keras.io/\" width=\"800\" height=\"600\" frameborder=\"0\" marginheight=\"0\" marginwidth=\"0\">Loading...</iframe></center>"
      ],
      "text/plain": [
       "<IPython.core.display.HTML object>"
      ]
     },
     "metadata": {},
     "output_type": "display_data"
    }
   ],
   "source": [
    "show_web(\"https://keras.io/\")"
   ]
  },
  {
   "cell_type": "code",
   "execution_count": 12,
   "metadata": {},
   "outputs": [],
   "source": [
    "# DNN\n",
    "# Use Keras Backend Type\n",
    "train_set_d=train_set.astype(K.floatx())\n",
    "test_set_d=test_set.astype(K.floatx())\n"
   ]
  },
  {
   "cell_type": "code",
   "execution_count": 13,
   "metadata": {},
   "outputs": [],
   "source": [
    "# One Hot encode\n",
    "onehot_encoder = OneHotEncoder(sparse=False, categories='auto')\n",
    "integer_encoded_train_classes =  train_classes.reshape(len( train_classes), 1)\n",
    "onehot_encoded_train_classes = onehot_encoder.fit_transform(integer_encoded_train_classes,1)\n",
    "integer_encoded_test_classes =  test_classes.reshape(len( test_classes),1)\n",
    "onehot_encoded_test_classes = onehot_encoder.fit_transform(integer_encoded_test_classes,1)"
   ]
  },
  {
   "cell_type": "code",
   "execution_count": 14,
   "metadata": {},
   "outputs": [
    {
     "name": "stdout",
     "output_type": "stream",
     "text": [
      "train_set shape: (450, 13)\n",
      "test_set shape: (150, 13)\n",
      "train_classes shape: (450, 6)\n",
      "test_classes shape: (150, 6)\n"
     ]
    }
   ],
   "source": [
    "# Check Set Shapes\n",
    "print(\"train_set shape:\",train_set_d.shape)\n",
    "print(\"test_set shape:\",test_set_d.shape)\n",
    "print(\"train_classes shape:\",onehot_encoded_train_classes.shape)\n",
    "print(\"test_classes shape:\",onehot_encoded_test_classes.shape)"
   ]
  },
  {
   "cell_type": "code",
   "execution_count": 15,
   "metadata": {},
   "outputs": [],
   "source": [
    "# Reshape Sets for Keras\n",
    "train_set_d=train_set.reshape(train_set_d.shape[0],1,train_set_d.shape[1])\n",
    "test_set_d=test_set.reshape(test_set_d.shape[0],1,test_set_d.shape[1])\n",
    "train_classes_d_hot=onehot_encoded_train_classes.reshape(onehot_encoded_train_classes.shape[0],1,\n",
    "                                                         onehot_encoded_train_classes.shape[1])\n",
    "test_classes_d_hot=onehot_encoded_test_classes.reshape(onehot_encoded_test_classes.shape[0],1,\n",
    "                                                       onehot_encoded_test_classes.shape[1])"
   ]
  },
  {
   "cell_type": "code",
   "execution_count": 16,
   "metadata": {},
   "outputs": [
    {
     "name": "stdout",
     "output_type": "stream",
     "text": [
      "train_set shape: (450, 1, 13)\n",
      "test_set shape: (450, 1, 13)\n",
      "train_classes shape: (450, 1, 6)\n",
      "test_classes shape: (150, 1, 6)\n"
     ]
    }
   ],
   "source": [
    "# Check Set Shapes\n",
    "print(\"train_set shape:\",train_set_d.shape)\n",
    "print(\"test_set shape:\",train_set_d.shape)\n",
    "print(\"train_classes shape:\",train_classes_d_hot.shape)\n",
    "print(\"test_classes shape:\",test_classes_d_hot.shape)"
   ]
  },
  {
   "cell_type": "code",
   "execution_count": 17,
   "metadata": {},
   "outputs": [
    {
     "data": {
      "text/html": [
       "<center><iframe src=\"https://keras.io/models/model/\" width=\"800\" height=\"600\" frameborder=\"0\" marginheight=\"0\" marginwidth=\"0\">Loading...</iframe></center>"
      ],
      "text/plain": [
       "<IPython.core.display.HTML object>"
      ]
     },
     "metadata": {},
     "output_type": "display_data"
    }
   ],
   "source": [
    "show_web(\"https://keras.io/models/model/\")"
   ]
  },
  {
   "cell_type": "code",
   "execution_count": 18,
   "metadata": {},
   "outputs": [
    {
     "name": "stdout",
     "output_type": "stream",
     "text": [
      "_________________________________________________________________\n",
      "Layer (type)                 Output Shape              Param #   \n",
      "=================================================================\n",
      "input_1 (InputLayer)         (None, 1, 13)             0         \n",
      "_________________________________________________________________\n",
      "dense_1 (Dense)              (None, 1, 48)             672       \n",
      "_________________________________________________________________\n",
      "dense_2 (Dense)              (None, 1, 24)             1176      \n",
      "_________________________________________________________________\n",
      "dense_3 (Dense)              (None, 1, 12)             300       \n",
      "_________________________________________________________________\n",
      "dense_4 (Dense)              (None, 1, 6)              78        \n",
      "=================================================================\n",
      "Total params: 2,226\n",
      "Trainable params: 2,226\n",
      "Non-trainable params: 0\n",
      "_________________________________________________________________\n"
     ]
    }
   ],
   "source": [
    "# Creat Simple Model\n",
    "model_input = Input(shape=(1,train_set.shape[1]))\n",
    "fc1 = Dense(48, activation=\"relu\")(model_input)\n",
    "fc2 = Dense(24, activation=\"relu\")(fc1)\n",
    "fc3 = Dense(12, activation=\"relu\")(fc2)\n",
    "n=onehot_encoded_train_classes.shape[1]\n",
    "out = Dense(n, activation=\"softmax\")(fc3)\n",
    "model_d = Model(inputs=[model_input], outputs=[out])\n",
    "model_d.summary()"
   ]
  },
  {
   "cell_type": "code",
   "execution_count": 19,
   "metadata": {},
   "outputs": [],
   "source": [
    "# Compile Model\n",
    "model_d.compile(loss      = 'categorical_crossentropy',\n",
    "              optimizer = SGD(lr=0.05),\n",
    "              metrics   =['accuracy'])"
   ]
  },
  {
   "cell_type": "code",
   "execution_count": 20,
   "metadata": {},
   "outputs": [
    {
     "name": "stdout",
     "output_type": "stream",
     "text": [
      "Train on 450 samples, validate on 150 samples\n",
      "Epoch 1/200\n",
      "450/450 [==============================] - 1s 2ms/step - loss: 1.4052 - acc: 0.4844 - val_loss: 1.0496 - val_acc: 0.5933\n",
      "Epoch 2/200\n",
      "450/450 [==============================] - 0s 734us/step - loss: 0.7382 - acc: 0.7467 - val_loss: 0.5651 - val_acc: 0.8400\n",
      "Epoch 3/200\n",
      "450/450 [==============================] - 0s 912us/step - loss: 0.4426 - acc: 0.8644 - val_loss: 0.4020 - val_acc: 0.8600\n",
      "Epoch 4/200\n",
      "450/450 [==============================] - 0s 927us/step - loss: 0.2963 - acc: 0.9089 - val_loss: 0.3417 - val_acc: 0.8533\n",
      "Epoch 5/200\n",
      "450/450 [==============================] - 0s 866us/step - loss: 0.1762 - acc: 0.9511 - val_loss: 0.3082 - val_acc: 0.8933\n",
      "Epoch 6/200\n",
      "450/450 [==============================] - 0s 957us/step - loss: 0.1314 - acc: 0.9711 - val_loss: 0.1655 - val_acc: 0.9533\n",
      "Epoch 7/200\n",
      "450/450 [==============================] - 0s 938us/step - loss: 0.1086 - acc: 0.9622 - val_loss: 0.1288 - val_acc: 0.9533\n",
      "Epoch 8/200\n",
      "450/450 [==============================] - 0s 912us/step - loss: 0.0844 - acc: 0.9711 - val_loss: 0.1456 - val_acc: 0.9467\n",
      "Epoch 9/200\n",
      "450/450 [==============================] - 0s 911us/step - loss: 0.0676 - acc: 0.9822 - val_loss: 0.1131 - val_acc: 0.9467\n",
      "Epoch 10/200\n",
      "450/450 [==============================] - 0s 1ms/step - loss: 0.0431 - acc: 0.9844 - val_loss: 0.1233 - val_acc: 0.9533\n",
      "Epoch 11/200\n",
      "450/450 [==============================] - 0s 886us/step - loss: 0.0320 - acc: 0.9911 - val_loss: 0.0941 - val_acc: 0.9533\n",
      "Epoch 12/200\n",
      "450/450 [==============================] - 0s 877us/step - loss: 0.0327 - acc: 0.9911 - val_loss: 0.1145 - val_acc: 0.9600\n",
      "Epoch 13/200\n",
      "450/450 [==============================] - 0s 899us/step - loss: 0.0188 - acc: 0.9978 - val_loss: 0.1219 - val_acc: 0.9600\n",
      "Epoch 14/200\n",
      "450/450 [==============================] - 0s 908us/step - loss: 0.0124 - acc: 1.0000 - val_loss: 0.1098 - val_acc: 0.9600\n",
      "Epoch 15/200\n",
      "450/450 [==============================] - 0s 888us/step - loss: 0.0107 - acc: 1.0000 - val_loss: 0.0980 - val_acc: 0.9667\n",
      "Epoch 16/200\n",
      "450/450 [==============================] - 0s 889us/step - loss: 0.0109 - acc: 1.0000 - val_loss: 0.1117 - val_acc: 0.9600\n",
      "Epoch 17/200\n",
      "450/450 [==============================] - 0s 876us/step - loss: 0.0076 - acc: 1.0000 - val_loss: 0.1062 - val_acc: 0.9667\n",
      "Epoch 18/200\n",
      "450/450 [==============================] - 0s 897us/step - loss: 0.0059 - acc: 1.0000 - val_loss: 0.1090 - val_acc: 0.9533\n",
      "Epoch 19/200\n",
      "450/450 [==============================] - 0s 1ms/step - loss: 0.0052 - acc: 1.0000 - val_loss: 0.1043 - val_acc: 0.9667\n",
      "Epoch 20/200\n",
      "450/450 [==============================] - 0s 886us/step - loss: 0.0045 - acc: 1.0000 - val_loss: 0.1058 - val_acc: 0.9600\n",
      "Epoch 21/200\n",
      "450/450 [==============================] - 0s 890us/step - loss: 0.0045 - acc: 1.0000 - val_loss: 0.1066 - val_acc: 0.9600\n",
      "Epoch 22/200\n",
      "450/450 [==============================] - 0s 895us/step - loss: 0.0040 - acc: 1.0000 - val_loss: 0.1075 - val_acc: 0.9533\n",
      "Epoch 23/200\n",
      "450/450 [==============================] - 0s 903us/step - loss: 0.0035 - acc: 1.0000 - val_loss: 0.1022 - val_acc: 0.9667\n",
      "Epoch 24/200\n",
      "450/450 [==============================] - 0s 940us/step - loss: 0.0033 - acc: 1.0000 - val_loss: 0.1041 - val_acc: 0.9667\n",
      "Epoch 25/200\n",
      "450/450 [==============================] - 0s 878us/step - loss: 0.0029 - acc: 1.0000 - val_loss: 0.1010 - val_acc: 0.9667\n",
      "Epoch 26/200\n",
      "450/450 [==============================] - 0s 876us/step - loss: 0.0029 - acc: 1.0000 - val_loss: 0.1046 - val_acc: 0.9667\n",
      "Epoch 27/200\n",
      "450/450 [==============================] - 0s 1ms/step - loss: 0.0027 - acc: 1.0000 - val_loss: 0.1058 - val_acc: 0.9600\n",
      "Epoch 28/200\n",
      "450/450 [==============================] - 0s 759us/step - loss: 0.0025 - acc: 1.0000 - val_loss: 0.1049 - val_acc: 0.9600\n",
      "Epoch 29/200\n",
      "450/450 [==============================] - 0s 996us/step - loss: 0.0023 - acc: 1.0000 - val_loss: 0.1043 - val_acc: 0.9533\n",
      "Epoch 30/200\n",
      "450/450 [==============================] - 0s 892us/step - loss: 0.0022 - acc: 1.0000 - val_loss: 0.1066 - val_acc: 0.9667\n",
      "Epoch 31/200\n",
      "450/450 [==============================] - 0s 911us/step - loss: 0.0021 - acc: 1.0000 - val_loss: 0.1086 - val_acc: 0.9600\n",
      "Epoch 32/200\n",
      "450/450 [==============================] - 0s 898us/step - loss: 0.0020 - acc: 1.0000 - val_loss: 0.1108 - val_acc: 0.9667\n",
      "Epoch 33/200\n",
      "450/450 [==============================] - 0s 882us/step - loss: 0.0019 - acc: 1.0000 - val_loss: 0.1084 - val_acc: 0.9667\n",
      "Epoch 34/200\n",
      "450/450 [==============================] - 0s 886us/step - loss: 0.0018 - acc: 1.0000 - val_loss: 0.1050 - val_acc: 0.9667\n",
      "Epoch 35/200\n",
      "450/450 [==============================] - 0s 885us/step - loss: 0.0018 - acc: 1.0000 - val_loss: 0.1102 - val_acc: 0.9667\n",
      "Epoch 36/200\n",
      "450/450 [==============================] - 0s 887us/step - loss: 0.0016 - acc: 1.0000 - val_loss: 0.1135 - val_acc: 0.9667\n",
      "Epoch 37/200\n",
      "450/450 [==============================] - 0s 896us/step - loss: 0.0016 - acc: 1.0000 - val_loss: 0.1091 - val_acc: 0.9600\n",
      "Epoch 38/200\n",
      "450/450 [==============================] - 0s 911us/step - loss: 0.0015 - acc: 1.0000 - val_loss: 0.1087 - val_acc: 0.9667\n",
      "Epoch 39/200\n",
      "450/450 [==============================] - 0s 917us/step - loss: 0.0015 - acc: 1.0000 - val_loss: 0.1056 - val_acc: 0.9600\n",
      "Epoch 40/200\n",
      "450/450 [==============================] - 0s 1ms/step - loss: 0.0014 - acc: 1.0000 - val_loss: 0.1080 - val_acc: 0.9600\n",
      "Epoch 41/200\n",
      "450/450 [==============================] - 0s 909us/step - loss: 0.0014 - acc: 1.0000 - val_loss: 0.1088 - val_acc: 0.9667\n",
      "Epoch 42/200\n",
      "450/450 [==============================] - 0s 1ms/step - loss: 0.0013 - acc: 1.0000 - val_loss: 0.1112 - val_acc: 0.9667\n",
      "Epoch 43/200\n",
      "450/450 [==============================] - 0s 868us/step - loss: 0.0013 - acc: 1.0000 - val_loss: 0.1133 - val_acc: 0.9667\n",
      "Epoch 44/200\n",
      "450/450 [==============================] - 0s 890us/step - loss: 0.0012 - acc: 1.0000 - val_loss: 0.1116 - val_acc: 0.9600\n",
      "Epoch 45/200\n",
      "450/450 [==============================] - 0s 768us/step - loss: 0.0012 - acc: 1.0000 - val_loss: 0.1127 - val_acc: 0.9667\n",
      "Epoch 46/200\n",
      "450/450 [==============================] - 0s 892us/step - loss: 0.0012 - acc: 1.0000 - val_loss: 0.1127 - val_acc: 0.9667\n",
      "Epoch 47/200\n",
      "450/450 [==============================] - 0s 753us/step - loss: 0.0011 - acc: 1.0000 - val_loss: 0.1130 - val_acc: 0.9667\n",
      "Epoch 48/200\n",
      "450/450 [==============================] - 0s 1ms/step - loss: 0.0011 - acc: 1.0000 - val_loss: 0.1135 - val_acc: 0.9600\n",
      "Epoch 49/200\n",
      "450/450 [==============================] - 0s 780us/step - loss: 0.0010 - acc: 1.0000 - val_loss: 0.1099 - val_acc: 0.9533\n",
      "Epoch 50/200\n",
      "450/450 [==============================] - 0s 906us/step - loss: 0.0010 - acc: 1.0000 - val_loss: 0.1103 - val_acc: 0.9667\n",
      "Epoch 51/200\n",
      "450/450 [==============================] - 0s 984us/step - loss: 9.8669e-04 - acc: 1.0000 - val_loss: 0.1114 - val_acc: 0.9667\n",
      "Epoch 52/200\n",
      "450/450 [==============================] - 0s 864us/step - loss: 9.5503e-04 - acc: 1.0000 - val_loss: 0.1153 - val_acc: 0.9667\n",
      "Epoch 53/200\n",
      "450/450 [==============================] - 0s 818us/step - loss: 9.3714e-04 - acc: 1.0000 - val_loss: 0.1129 - val_acc: 0.9667\n",
      "Epoch 54/200\n",
      "450/450 [==============================] - 0s 946us/step - loss: 9.1136e-04 - acc: 1.0000 - val_loss: 0.1127 - val_acc: 0.9667\n",
      "Epoch 55/200\n",
      "450/450 [==============================] - 0s 815us/step - loss: 8.8905e-04 - acc: 1.0000 - val_loss: 0.1128 - val_acc: 0.9667\n",
      "Epoch 56/200\n",
      "450/450 [==============================] - 0s 986us/step - loss: 8.6219e-04 - acc: 1.0000 - val_loss: 0.1121 - val_acc: 0.9667\n",
      "Epoch 57/200\n",
      "450/450 [==============================] - 0s 902us/step - loss: 8.4307e-04 - acc: 1.0000 - val_loss: 0.1103 - val_acc: 0.9667\n",
      "Epoch 58/200\n",
      "450/450 [==============================] - 0s 917us/step - loss: 8.2138e-04 - acc: 1.0000 - val_loss: 0.1140 - val_acc: 0.9667\n",
      "Epoch 59/200\n",
      "450/450 [==============================] - 0s 884us/step - loss: 8.0228e-04 - acc: 1.0000 - val_loss: 0.1128 - val_acc: 0.9667\n",
      "Epoch 60/200\n",
      "450/450 [==============================] - 0s 798us/step - loss: 7.8200e-04 - acc: 1.0000 - val_loss: 0.1130 - val_acc: 0.9667\n"
     ]
    },
    {
     "name": "stdout",
     "output_type": "stream",
     "text": [
      "Epoch 61/200\n",
      "450/450 [==============================] - 0s 794us/step - loss: 7.5974e-04 - acc: 1.0000 - val_loss: 0.1128 - val_acc: 0.9667\n",
      "Epoch 62/200\n",
      "450/450 [==============================] - 0s 1ms/step - loss: 7.4421e-04 - acc: 1.0000 - val_loss: 0.1129 - val_acc: 0.9667\n",
      "Epoch 63/200\n",
      "450/450 [==============================] - 0s 886us/step - loss: 7.2805e-04 - acc: 1.0000 - val_loss: 0.1135 - val_acc: 0.9667\n",
      "Epoch 64/200\n",
      "450/450 [==============================] - 0s 892us/step - loss: 7.1389e-04 - acc: 1.0000 - val_loss: 0.1138 - val_acc: 0.9667\n",
      "Epoch 65/200\n",
      "450/450 [==============================] - 0s 891us/step - loss: 6.9647e-04 - acc: 1.0000 - val_loss: 0.1140 - val_acc: 0.9667\n",
      "Epoch 66/200\n",
      "450/450 [==============================] - 0s 926us/step - loss: 6.8404e-04 - acc: 1.0000 - val_loss: 0.1140 - val_acc: 0.9667\n",
      "Epoch 67/200\n",
      "450/450 [==============================] - 0s 992us/step - loss: 6.6568e-04 - acc: 1.0000 - val_loss: 0.1139 - val_acc: 0.9667\n",
      "Epoch 68/200\n",
      "450/450 [==============================] - 0s 744us/step - loss: 6.5387e-04 - acc: 1.0000 - val_loss: 0.1147 - val_acc: 0.9667\n",
      "Epoch 69/200\n",
      "450/450 [==============================] - 0s 884us/step - loss: 6.4098e-04 - acc: 1.0000 - val_loss: 0.1146 - val_acc: 0.9667\n",
      "Epoch 70/200\n",
      "450/450 [==============================] - 0s 874us/step - loss: 6.2609e-04 - acc: 1.0000 - val_loss: 0.1137 - val_acc: 0.9667\n",
      "Epoch 71/200\n",
      "450/450 [==============================] - 0s 870us/step - loss: 6.1691e-04 - acc: 1.0000 - val_loss: 0.1141 - val_acc: 0.9667\n",
      "Epoch 72/200\n",
      "450/450 [==============================] - 0s 891us/step - loss: 6.0351e-04 - acc: 1.0000 - val_loss: 0.1151 - val_acc: 0.9667\n",
      "Epoch 73/200\n",
      "450/450 [==============================] - 0s 870us/step - loss: 5.9248e-04 - acc: 1.0000 - val_loss: 0.1152 - val_acc: 0.9667\n",
      "Epoch 74/200\n",
      "450/450 [==============================] - 0s 896us/step - loss: 5.8131e-04 - acc: 1.0000 - val_loss: 0.1152 - val_acc: 0.9667\n",
      "Epoch 75/200\n",
      "450/450 [==============================] - 0s 875us/step - loss: 5.6923e-04 - acc: 1.0000 - val_loss: 0.1165 - val_acc: 0.9667\n",
      "Epoch 76/200\n",
      "450/450 [==============================] - 0s 770us/step - loss: 5.5987e-04 - acc: 1.0000 - val_loss: 0.1156 - val_acc: 0.9667\n",
      "Epoch 77/200\n",
      "450/450 [==============================] - 0s 728us/step - loss: 5.4858e-04 - acc: 1.0000 - val_loss: 0.1166 - val_acc: 0.9667\n",
      "Epoch 78/200\n",
      "450/450 [==============================] - 0s 773us/step - loss: 5.3945e-04 - acc: 1.0000 - val_loss: 0.1162 - val_acc: 0.9667\n",
      "Epoch 79/200\n",
      "450/450 [==============================] - 0s 910us/step - loss: 5.3248e-04 - acc: 1.0000 - val_loss: 0.1169 - val_acc: 0.9667\n",
      "Epoch 80/200\n",
      "450/450 [==============================] - 0s 982us/step - loss: 5.1869e-04 - acc: 1.0000 - val_loss: 0.1180 - val_acc: 0.9667\n",
      "Epoch 81/200\n",
      "450/450 [==============================] - 0s 765us/step - loss: 5.1529e-04 - acc: 1.0000 - val_loss: 0.1168 - val_acc: 0.9667\n",
      "Epoch 82/200\n",
      "450/450 [==============================] - 0s 865us/step - loss: 5.0463e-04 - acc: 1.0000 - val_loss: 0.1159 - val_acc: 0.9667\n",
      "Epoch 83/200\n",
      "450/450 [==============================] - 0s 887us/step - loss: 4.9769e-04 - acc: 1.0000 - val_loss: 0.1167 - val_acc: 0.9667\n",
      "Epoch 84/200\n",
      "450/450 [==============================] - 0s 877us/step - loss: 4.8902e-04 - acc: 1.0000 - val_loss: 0.1168 - val_acc: 0.9667\n",
      "Epoch 85/200\n",
      "450/450 [==============================] - 0s 888us/step - loss: 4.8280e-04 - acc: 1.0000 - val_loss: 0.1168 - val_acc: 0.9667\n",
      "Epoch 86/200\n",
      "450/450 [==============================] - 0s 891us/step - loss: 4.7352e-04 - acc: 1.0000 - val_loss: 0.1166 - val_acc: 0.9667\n",
      "Epoch 87/200\n",
      "450/450 [==============================] - 0s 1ms/step - loss: 4.6575e-04 - acc: 1.0000 - val_loss: 0.1167 - val_acc: 0.9667\n",
      "Epoch 88/200\n",
      "450/450 [==============================] - 0s 754us/step - loss: 4.5915e-04 - acc: 1.0000 - val_loss: 0.1166 - val_acc: 0.9667\n",
      "Epoch 89/200\n",
      "450/450 [==============================] - 0s 888us/step - loss: 4.5048e-04 - acc: 1.0000 - val_loss: 0.1176 - val_acc: 0.9667\n",
      "Epoch 90/200\n",
      "450/450 [==============================] - 0s 915us/step - loss: 4.4490e-04 - acc: 1.0000 - val_loss: 0.1177 - val_acc: 0.9667\n",
      "Epoch 91/200\n",
      "450/450 [==============================] - 0s 916us/step - loss: 4.3850e-04 - acc: 1.0000 - val_loss: 0.1180 - val_acc: 0.9667\n",
      "Epoch 92/200\n",
      "450/450 [==============================] - 0s 911us/step - loss: 4.3105e-04 - acc: 1.0000 - val_loss: 0.1176 - val_acc: 0.9667\n",
      "Epoch 93/200\n",
      "450/450 [==============================] - 0s 1ms/step - loss: 4.2579e-04 - acc: 1.0000 - val_loss: 0.1178 - val_acc: 0.9667\n",
      "Epoch 94/200\n",
      "450/450 [==============================] - 0s 950us/step - loss: 4.1992e-04 - acc: 1.0000 - val_loss: 0.1179 - val_acc: 0.9667\n",
      "Epoch 95/200\n",
      "450/450 [==============================] - 0s 909us/step - loss: 4.1427e-04 - acc: 1.0000 - val_loss: 0.1188 - val_acc: 0.9667\n",
      "Epoch 96/200\n",
      "450/450 [==============================] - 0s 895us/step - loss: 4.1032e-04 - acc: 1.0000 - val_loss: 0.1187 - val_acc: 0.9667\n",
      "Epoch 97/200\n",
      "450/450 [==============================] - 0s 1ms/step - loss: 4.0218e-04 - acc: 1.0000 - val_loss: 0.1190 - val_acc: 0.9667\n",
      "Epoch 98/200\n",
      "450/450 [==============================] - 0s 939us/step - loss: 3.9720e-04 - acc: 1.0000 - val_loss: 0.1183 - val_acc: 0.9667\n",
      "Epoch 99/200\n",
      "450/450 [==============================] - 0s 1ms/step - loss: 3.9180e-04 - acc: 1.0000 - val_loss: 0.1184 - val_acc: 0.9667\n",
      "Epoch 100/200\n",
      "450/450 [==============================] - 0s 921us/step - loss: 3.8596e-04 - acc: 1.0000 - val_loss: 0.1192 - val_acc: 0.9667\n",
      "Epoch 101/200\n",
      "450/450 [==============================] - 0s 923us/step - loss: 3.8124e-04 - acc: 1.0000 - val_loss: 0.1194 - val_acc: 0.9667\n",
      "Epoch 102/200\n",
      "450/450 [==============================] - 0s 913us/step - loss: 3.7628e-04 - acc: 1.0000 - val_loss: 0.1182 - val_acc: 0.9667\n",
      "Epoch 103/200\n",
      "450/450 [==============================] - 0s 846us/step - loss: 3.7044e-04 - acc: 1.0000 - val_loss: 0.1192 - val_acc: 0.9667\n",
      "Epoch 104/200\n",
      "450/450 [==============================] - 0s 908us/step - loss: 3.6733e-04 - acc: 1.0000 - val_loss: 0.1190 - val_acc: 0.9667\n",
      "Epoch 105/200\n",
      "450/450 [==============================] - 0s 1ms/step - loss: 3.6211e-04 - acc: 1.0000 - val_loss: 0.1186 - val_acc: 0.9667\n",
      "Epoch 106/200\n",
      "450/450 [==============================] - 0s 940us/step - loss: 3.5751e-04 - acc: 1.0000 - val_loss: 0.1189 - val_acc: 0.9667\n",
      "Epoch 107/200\n",
      "450/450 [==============================] - 0s 930us/step - loss: 3.5290e-04 - acc: 1.0000 - val_loss: 0.1185 - val_acc: 0.9667\n",
      "Epoch 108/200\n",
      "450/450 [==============================] - 0s 915us/step - loss: 3.4923e-04 - acc: 1.0000 - val_loss: 0.1188 - val_acc: 0.9667\n",
      "Epoch 109/200\n",
      "450/450 [==============================] - 0s 917us/step - loss: 3.4489e-04 - acc: 1.0000 - val_loss: 0.1187 - val_acc: 0.9667\n",
      "Epoch 110/200\n",
      "450/450 [==============================] - 0s 1ms/step - loss: 3.4124e-04 - acc: 1.0000 - val_loss: 0.1193 - val_acc: 0.9667\n",
      "Epoch 111/200\n",
      "450/450 [==============================] - 0s 920us/step - loss: 3.3609e-04 - acc: 1.0000 - val_loss: 0.1189 - val_acc: 0.9667\n",
      "Epoch 112/200\n",
      "450/450 [==============================] - 0s 1ms/step - loss: 3.3212e-04 - acc: 1.0000 - val_loss: 0.1198 - val_acc: 0.9667\n",
      "Epoch 113/200\n",
      "450/450 [==============================] - 0s 896us/step - loss: 3.2846e-04 - acc: 1.0000 - val_loss: 0.1193 - val_acc: 0.9667\n",
      "Epoch 114/200\n",
      "450/450 [==============================] - 0s 871us/step - loss: 3.2441e-04 - acc: 1.0000 - val_loss: 0.1196 - val_acc: 0.9667\n",
      "Epoch 115/200\n",
      "450/450 [==============================] - 0s 879us/step - loss: 3.2034e-04 - acc: 1.0000 - val_loss: 0.1198 - val_acc: 0.9667\n",
      "Epoch 116/200\n",
      "450/450 [==============================] - 0s 768us/step - loss: 3.1713e-04 - acc: 1.0000 - val_loss: 0.1200 - val_acc: 0.9667\n",
      "Epoch 117/200\n",
      "450/450 [==============================] - 0s 857us/step - loss: 3.1391e-04 - acc: 1.0000 - val_loss: 0.1199 - val_acc: 0.9667\n",
      "Epoch 118/200\n",
      "450/450 [==============================] - 0s 894us/step - loss: 3.1012e-04 - acc: 1.0000 - val_loss: 0.1196 - val_acc: 0.9667\n",
      "Epoch 119/200\n"
     ]
    },
    {
     "name": "stdout",
     "output_type": "stream",
     "text": [
      "450/450 [==============================] - 0s 1ms/step - loss: 3.0751e-04 - acc: 1.0000 - val_loss: 0.1201 - val_acc: 0.9667\n",
      "Epoch 120/200\n",
      "450/450 [==============================] - 0s 890us/step - loss: 3.0389e-04 - acc: 1.0000 - val_loss: 0.1201 - val_acc: 0.9667\n",
      "Epoch 121/200\n",
      "450/450 [==============================] - 0s 884us/step - loss: 3.0062e-04 - acc: 1.0000 - val_loss: 0.1200 - val_acc: 0.9667\n",
      "Epoch 122/200\n",
      "450/450 [==============================] - 0s 881us/step - loss: 2.9725e-04 - acc: 1.0000 - val_loss: 0.1203 - val_acc: 0.9667\n",
      "Epoch 123/200\n",
      "450/450 [==============================] - 0s 766us/step - loss: 2.9384e-04 - acc: 1.0000 - val_loss: 0.1210 - val_acc: 0.9667\n",
      "Epoch 124/200\n",
      "450/450 [==============================] - 0s 877us/step - loss: 2.9093e-04 - acc: 1.0000 - val_loss: 0.1209 - val_acc: 0.9667\n",
      "Epoch 125/200\n",
      "450/450 [==============================] - 0s 882us/step - loss: 2.8779e-04 - acc: 1.0000 - val_loss: 0.1211 - val_acc: 0.9667\n",
      "Epoch 126/200\n",
      "450/450 [==============================] - 0s 878us/step - loss: 2.8462e-04 - acc: 1.0000 - val_loss: 0.1207 - val_acc: 0.9667\n",
      "Epoch 127/200\n",
      "450/450 [==============================] - 0s 926us/step - loss: 2.8285e-04 - acc: 1.0000 - val_loss: 0.1209 - val_acc: 0.9667\n",
      "Epoch 128/200\n",
      "450/450 [==============================] - 0s 982us/step - loss: 2.7837e-04 - acc: 1.0000 - val_loss: 0.1206 - val_acc: 0.9667\n",
      "Epoch 129/200\n",
      "450/450 [==============================] - 0s 898us/step - loss: 2.7623e-04 - acc: 1.0000 - val_loss: 0.1208 - val_acc: 0.9667\n",
      "Epoch 130/200\n",
      "450/450 [==============================] - 0s 888us/step - loss: 2.7349e-04 - acc: 1.0000 - val_loss: 0.1208 - val_acc: 0.9667\n",
      "Epoch 131/200\n",
      "450/450 [==============================] - 0s 747us/step - loss: 2.7045e-04 - acc: 1.0000 - val_loss: 0.1211 - val_acc: 0.9667\n",
      "Epoch 132/200\n",
      "450/450 [==============================] - 0s 887us/step - loss: 2.6783e-04 - acc: 1.0000 - val_loss: 0.1216 - val_acc: 0.9667\n",
      "Epoch 133/200\n",
      "450/450 [==============================] - 0s 766us/step - loss: 2.6515e-04 - acc: 1.0000 - val_loss: 0.1217 - val_acc: 0.9667\n",
      "Epoch 134/200\n",
      "450/450 [==============================] - 0s 1ms/step - loss: 2.6256e-04 - acc: 1.0000 - val_loss: 0.1211 - val_acc: 0.9667\n",
      "Epoch 135/200\n",
      "450/450 [==============================] - 0s 764us/step - loss: 2.6003e-04 - acc: 1.0000 - val_loss: 0.1217 - val_acc: 0.9667\n",
      "Epoch 136/200\n",
      "450/450 [==============================] - 0s 863us/step - loss: 2.5754e-04 - acc: 1.0000 - val_loss: 0.1218 - val_acc: 0.9667\n",
      "Epoch 137/200\n",
      "450/450 [==============================] - 0s 892us/step - loss: 2.5529e-04 - acc: 1.0000 - val_loss: 0.1219 - val_acc: 0.9667\n",
      "Epoch 138/200\n",
      "450/450 [==============================] - 0s 874us/step - loss: 2.5260e-04 - acc: 1.0000 - val_loss: 0.1218 - val_acc: 0.9667\n",
      "Epoch 139/200\n",
      "450/450 [==============================] - 0s 878us/step - loss: 2.4993e-04 - acc: 1.0000 - val_loss: 0.1218 - val_acc: 0.9667\n",
      "Epoch 140/200\n",
      "450/450 [==============================] - 0s 885us/step - loss: 2.4743e-04 - acc: 1.0000 - val_loss: 0.1213 - val_acc: 0.9667\n",
      "Epoch 141/200\n",
      "450/450 [==============================] - 0s 866us/step - loss: 2.4576e-04 - acc: 1.0000 - val_loss: 0.1218 - val_acc: 0.9667\n",
      "Epoch 142/200\n",
      "450/450 [==============================] - 0s 881us/step - loss: 2.4356e-04 - acc: 1.0000 - val_loss: 0.1218 - val_acc: 0.9667\n",
      "Epoch 143/200\n",
      "450/450 [==============================] - 0s 889us/step - loss: 2.4121e-04 - acc: 1.0000 - val_loss: 0.1216 - val_acc: 0.9667\n",
      "Epoch 144/200\n",
      "450/450 [==============================] - 0s 910us/step - loss: 2.3922e-04 - acc: 1.0000 - val_loss: 0.1212 - val_acc: 0.9667\n",
      "Epoch 145/200\n",
      "450/450 [==============================] - 0s 891us/step - loss: 2.3699e-04 - acc: 1.0000 - val_loss: 0.1218 - val_acc: 0.9667\n",
      "Epoch 146/200\n",
      "450/450 [==============================] - 0s 939us/step - loss: 2.3464e-04 - acc: 1.0000 - val_loss: 0.1223 - val_acc: 0.9667\n",
      "Epoch 147/200\n",
      "450/450 [==============================] - 0s 960us/step - loss: 2.3325e-04 - acc: 1.0000 - val_loss: 0.1220 - val_acc: 0.9667\n",
      "Epoch 148/200\n",
      "450/450 [==============================] - 0s 787us/step - loss: 2.3046e-04 - acc: 1.0000 - val_loss: 0.1221 - val_acc: 0.9667\n",
      "Epoch 149/200\n",
      "450/450 [==============================] - 0s 868us/step - loss: 2.2933e-04 - acc: 1.0000 - val_loss: 0.1219 - val_acc: 0.9667\n",
      "Epoch 150/200\n",
      "450/450 [==============================] - 1s 1ms/step - loss: 2.2642e-04 - acc: 1.0000 - val_loss: 0.1225 - val_acc: 0.9667\n",
      "Epoch 151/200\n",
      "450/450 [==============================] - 0s 767us/step - loss: 2.2478e-04 - acc: 1.0000 - val_loss: 0.1223 - val_acc: 0.9667\n",
      "Epoch 152/200\n",
      "450/450 [==============================] - 0s 816us/step - loss: 2.2266e-04 - acc: 1.0000 - val_loss: 0.1229 - val_acc: 0.9667\n",
      "Epoch 153/200\n",
      "450/450 [==============================] - 0s 742us/step - loss: 2.2121e-04 - acc: 1.0000 - val_loss: 0.1230 - val_acc: 0.9667\n",
      "Epoch 154/200\n",
      "450/450 [==============================] - 0s 830us/step - loss: 2.1905e-04 - acc: 1.0000 - val_loss: 0.1225 - val_acc: 0.9667\n",
      "Epoch 155/200\n",
      "450/450 [==============================] - 0s 1ms/step - loss: 2.1748e-04 - acc: 1.0000 - val_loss: 0.1228 - val_acc: 0.9667\n",
      "Epoch 156/200\n",
      "450/450 [==============================] - 0s 1ms/step - loss: 2.1568e-04 - acc: 1.0000 - val_loss: 0.1229 - val_acc: 0.9667\n",
      "Epoch 157/200\n",
      "450/450 [==============================] - 0s 898us/step - loss: 2.1400e-04 - acc: 1.0000 - val_loss: 0.1233 - val_acc: 0.9667\n",
      "Epoch 158/200\n",
      "450/450 [==============================] - 0s 905us/step - loss: 2.1185e-04 - acc: 1.0000 - val_loss: 0.1230 - val_acc: 0.9667\n",
      "Epoch 159/200\n",
      "450/450 [==============================] - 0s 883us/step - loss: 2.1079e-04 - acc: 1.0000 - val_loss: 0.1229 - val_acc: 0.9667\n",
      "Epoch 160/200\n",
      "450/450 [==============================] - 0s 908us/step - loss: 2.0855e-04 - acc: 1.0000 - val_loss: 0.1228 - val_acc: 0.9667\n",
      "Epoch 161/200\n",
      "450/450 [==============================] - 0s 867us/step - loss: 2.0669e-04 - acc: 1.0000 - val_loss: 0.1232 - val_acc: 0.9667\n",
      "Epoch 162/200\n",
      "450/450 [==============================] - 0s 867us/step - loss: 2.0515e-04 - acc: 1.0000 - val_loss: 0.1228 - val_acc: 0.9667\n",
      "Epoch 163/200\n",
      "450/450 [==============================] - 0s 867us/step - loss: 2.0325e-04 - acc: 1.0000 - val_loss: 0.1234 - val_acc: 0.9667\n",
      "Epoch 164/200\n",
      "450/450 [==============================] - 0s 912us/step - loss: 2.0223e-04 - acc: 1.0000 - val_loss: 0.1237 - val_acc: 0.9667\n",
      "Epoch 165/200\n",
      "450/450 [==============================] - 0s 873us/step - loss: 2.0090e-04 - acc: 1.0000 - val_loss: 0.1235 - val_acc: 0.9667\n",
      "Epoch 166/200\n",
      "450/450 [==============================] - 0s 896us/step - loss: 1.9899e-04 - acc: 1.0000 - val_loss: 0.1235 - val_acc: 0.9667\n",
      "Epoch 167/200\n",
      "450/450 [==============================] - 0s 913us/step - loss: 1.9751e-04 - acc: 1.0000 - val_loss: 0.1236 - val_acc: 0.9667\n",
      "Epoch 168/200\n",
      "450/450 [==============================] - 0s 869us/step - loss: 1.9574e-04 - acc: 1.0000 - val_loss: 0.1235 - val_acc: 0.9667\n",
      "Epoch 169/200\n",
      "450/450 [==============================] - 0s 855us/step - loss: 1.9436e-04 - acc: 1.0000 - val_loss: 0.1237 - val_acc: 0.9667\n",
      "Epoch 170/200\n",
      "450/450 [==============================] - 0s 799us/step - loss: 1.9285e-04 - acc: 1.0000 - val_loss: 0.1238 - val_acc: 0.9667\n",
      "Epoch 171/200\n",
      "450/450 [==============================] - 0s 806us/step - loss: 1.9126e-04 - acc: 1.0000 - val_loss: 0.1238 - val_acc: 0.9667\n",
      "Epoch 172/200\n",
      "450/450 [==============================] - 0s 846us/step - loss: 1.9009e-04 - acc: 1.0000 - val_loss: 0.1239 - val_acc: 0.9667\n",
      "Epoch 173/200\n",
      "450/450 [==============================] - 0s 888us/step - loss: 1.8857e-04 - acc: 1.0000 - val_loss: 0.1242 - val_acc: 0.9667\n",
      "Epoch 174/200\n",
      "450/450 [==============================] - 0s 924us/step - loss: 1.8698e-04 - acc: 1.0000 - val_loss: 0.1239 - val_acc: 0.9667\n",
      "Epoch 175/200\n",
      "450/450 [==============================] - 0s 819us/step - loss: 1.8569e-04 - acc: 1.0000 - val_loss: 0.1242 - val_acc: 0.9667\n",
      "Epoch 176/200\n",
      "450/450 [==============================] - 0s 982us/step - loss: 1.8464e-04 - acc: 1.0000 - val_loss: 0.1240 - val_acc: 0.9667\n",
      "Epoch 177/200\n"
     ]
    },
    {
     "name": "stdout",
     "output_type": "stream",
     "text": [
      "450/450 [==============================] - 0s 702us/step - loss: 1.8303e-04 - acc: 1.0000 - val_loss: 0.1243 - val_acc: 0.9667\n",
      "Epoch 178/200\n",
      "450/450 [==============================] - 0s 897us/step - loss: 1.8197e-04 - acc: 1.0000 - val_loss: 0.1242 - val_acc: 0.9667\n",
      "Epoch 179/200\n",
      "450/450 [==============================] - 0s 854us/step - loss: 1.8043e-04 - acc: 1.0000 - val_loss: 0.1241 - val_acc: 0.9667\n",
      "Epoch 180/200\n",
      "450/450 [==============================] - 0s 686us/step - loss: 1.7912e-04 - acc: 1.0000 - val_loss: 0.1241 - val_acc: 0.9667\n",
      "Epoch 181/200\n",
      "450/450 [==============================] - 0s 687us/step - loss: 1.7813e-04 - acc: 1.0000 - val_loss: 0.1241 - val_acc: 0.9667\n",
      "Epoch 182/200\n",
      "450/450 [==============================] - 0s 906us/step - loss: 1.7643e-04 - acc: 1.0000 - val_loss: 0.1243 - val_acc: 0.9667\n",
      "Epoch 183/200\n",
      "450/450 [==============================] - 0s 871us/step - loss: 1.7538e-04 - acc: 1.0000 - val_loss: 0.1244 - val_acc: 0.9667\n",
      "Epoch 184/200\n",
      "450/450 [==============================] - 0s 901us/step - loss: 1.7415e-04 - acc: 1.0000 - val_loss: 0.1245 - val_acc: 0.9667\n",
      "Epoch 185/200\n",
      "450/450 [==============================] - 0s 998us/step - loss: 1.7309e-04 - acc: 1.0000 - val_loss: 0.1242 - val_acc: 0.9667\n",
      "Epoch 186/200\n",
      "450/450 [==============================] - 0s 878us/step - loss: 1.7187e-04 - acc: 1.0000 - val_loss: 0.1244 - val_acc: 0.9667\n",
      "Epoch 187/200\n",
      "450/450 [==============================] - 0s 846us/step - loss: 1.7034e-04 - acc: 1.0000 - val_loss: 0.1242 - val_acc: 0.9667\n",
      "Epoch 188/200\n",
      "450/450 [==============================] - 0s 787us/step - loss: 1.6955e-04 - acc: 1.0000 - val_loss: 0.1243 - val_acc: 0.9667\n",
      "Epoch 189/200\n",
      "450/450 [==============================] - 0s 928us/step - loss: 1.6854e-04 - acc: 1.0000 - val_loss: 0.1247 - val_acc: 0.9667\n",
      "Epoch 190/200\n",
      "450/450 [==============================] - 0s 879us/step - loss: 1.6720e-04 - acc: 1.0000 - val_loss: 0.1248 - val_acc: 0.9667\n",
      "Epoch 191/200\n",
      "450/450 [==============================] - 0s 897us/step - loss: 1.6611e-04 - acc: 1.0000 - val_loss: 0.1249 - val_acc: 0.9667\n",
      "Epoch 192/200\n",
      "450/450 [==============================] - 0s 984us/step - loss: 1.6485e-04 - acc: 1.0000 - val_loss: 0.1248 - val_acc: 0.9667\n",
      "Epoch 193/200\n",
      "450/450 [==============================] - 0s 781us/step - loss: 1.6393e-04 - acc: 1.0000 - val_loss: 0.1251 - val_acc: 0.9667\n",
      "Epoch 194/200\n",
      "450/450 [==============================] - 0s 1ms/step - loss: 1.6261e-04 - acc: 1.0000 - val_loss: 0.1252 - val_acc: 0.9667\n",
      "Epoch 195/200\n",
      "450/450 [==============================] - 0s 816us/step - loss: 1.6179e-04 - acc: 1.0000 - val_loss: 0.1257 - val_acc: 0.9667\n",
      "Epoch 196/200\n",
      "450/450 [==============================] - 0s 907us/step - loss: 1.6070e-04 - acc: 1.0000 - val_loss: 0.1254 - val_acc: 0.9667\n",
      "Epoch 197/200\n",
      "450/450 [==============================] - 0s 858us/step - loss: 1.5953e-04 - acc: 1.0000 - val_loss: 0.1255 - val_acc: 0.9667\n",
      "Epoch 198/200\n",
      "450/450 [==============================] - 0s 744us/step - loss: 1.5861e-04 - acc: 1.0000 - val_loss: 0.1253 - val_acc: 0.9667\n",
      "Epoch 199/200\n",
      "450/450 [==============================] - 0s 860us/step - loss: 1.5732e-04 - acc: 1.0000 - val_loss: 0.1258 - val_acc: 0.9667\n",
      "Epoch 200/200\n",
      "450/450 [==============================] - 0s 852us/step - loss: 1.5662e-04 - acc: 1.0000 - val_loss: 0.1256 - val_acc: 0.9667\n"
     ]
    }
   ],
   "source": [
    "# Deep Learning Parameters\n",
    "batch_size = 5 # Number of samples per gradient update.\n",
    "epochs = 200    # An epoch is an iteration over the entire x and y data provided.\n",
    "\n",
    "# Train Model\n",
    "hist = model_d.fit(train_set_d, train_classes_d_hot, verbose=1, \n",
    "                    batch_size=batch_size, epochs=epochs, validation_data=(test_set_d,test_classes_d_hot))"
   ]
  },
  {
   "cell_type": "code",
   "execution_count": 21,
   "metadata": {},
   "outputs": [
    {
     "data": {
      "image/png": "[encoded data removed]",
      "text/plain": [
       "<Figure size 576x288 with 2 Axes>"
      ]
     },
     "metadata": {
      "needs_background": "light"
     },
     "output_type": "display_data"
    }
   ],
   "source": [
    "# Plot Training Loss and Training Accuracy\n",
    "plt.figure(figsize=(8,4))\n",
    "plt.subplot(1, 2, 1)\n",
    "plt.title(\"Training loss\")\n",
    "plt.plot(range(epochs),hist.history[\"loss\"])\n",
    "\n",
    "plt.subplot(1, 2, 2)\n",
    "plt.title(\"Training Accuracy\")\n",
    "plt.plot(range(epochs),hist.history[\"acc\"])\n",
    "\n",
    "plt.tight_layout()"
   ]
  },
  {
   "cell_type": "code",
   "execution_count": 22,
   "metadata": {},
   "outputs": [],
   "source": [
    "# Predict\n",
    "predictions = model_d.predict(test_set_d)\n",
    "predictions_round=predictions.round().astype('int')\n",
    "predictions_int=np.argmax(predictions_round,axis=2)\n",
    "predictions_labels=labelencoder.inverse_transform(np.ravel(predictions_int))"
   ]
  },
  {
   "cell_type": "code",
   "execution_count": 23,
   "metadata": {},
   "outputs": [
    {
     "name": "stdout",
     "output_type": "stream",
     "text": [
      "Recall:  [1.   1.   0.96 0.96 0.88 1.  ]\n",
      "Precision:  [1.         0.96153846 1.         0.92307692 1.         0.92592593]\n",
      "F1-Score:  [1.         0.98039216 0.97959184 0.94117647 0.93617021 0.96153846]\n",
      "Accuracy:  145\n",
      "Number of samples: 150\n"
     ]
    }
   ],
   "source": [
    "# Recall - the ability of the classifier to find all the positive samples\n",
    "print(\"Recall: \", recall_score(test_classes, predictions_int,average=None))\n",
    "\n",
    "# Precision - The precision is intuitively the ability of the classifier not to label as positive a sample that is negatives\n",
    "print(\"Precision: \", precision_score(test_classes, predictions_int,average=None))\n",
    "\n",
    "# F1-Score - The F1 score can be interpreted as a weighted average of the precision and recall,\n",
    "print(\"F1-Score: \", f1_score(test_classes, predictions_int, average=None))\n",
    "\n",
    "# Accuracy - the number of correctly classified samples\n",
    "print(\"Accuracy: \", accuracy_score(test_classes, predictions_int,normalize=False))\n",
    "print(\"Number of samples:\",test_classes.shape[0])"
   ]
  },
  {
   "cell_type": "code",
   "execution_count": 24,
   "metadata": {},
   "outputs": [],
   "source": [
    "# Compute confusion matrix\n",
    "cnf_matrix = confusion_matrix(test_classes, predictions_int)\n",
    "np.set_printoptions(precision=2)"
   ]
  },
  {
   "cell_type": "code",
   "execution_count": 25,
   "metadata": {},
   "outputs": [],
   "source": [
    "# Function to Plot Confusion Matrix\n",
    "# http://scikit-learn.org/stable/auto_examples/model_selection/plot_confusion_matrix.html\n",
    "def plot_confusion_matrix(cm, classes,\n",
    "                          normalize=False,\n",
    "                          title='Confusion matrix',\n",
    "                          cmap=plt.cm.Blues):\n",
    "    \"\"\"\n",
    "    This function prints and plots the confusion matrix.\n",
    "    Normalization can be applied by setting `normalize=True`.\n",
    "    \n",
    "    if normalize:\n",
    "        cm = cm.astype('float') / cm.sum(axis=1)[:, np.newaxis]\n",
    "        print(\"Normalized confusion matrix\")\n",
    "    else:\n",
    "        print('Confusion matrix, without normalization')\n",
    "    \"\"\"\n",
    "    #print(cm)\n",
    "\n",
    "    plt.imshow(cm, interpolation='nearest', cmap=cmap)\n",
    "    plt.title(title)\n",
    "    plt.colorbar()\n",
    "    tick_marks = np.arange(len(classes))\n",
    "    plt.xticks(tick_marks, classes, rotation=45)\n",
    "    plt.yticks(tick_marks, classes)\n",
    "\n",
    "    fmt = '.2f' if normalize else 'd'\n",
    "    thresh = cm.max() / 2.\n",
    "    for i, j in itertools.product(range(cm.shape[0]), range(cm.shape[1])):\n",
    "        plt.text(j, i, format(cm[i, j], fmt),\n",
    "                 horizontalalignment=\"center\",\n",
    "                 color=\"white\" if cm[i, j] > thresh else \"black\")\n",
    "\n",
    "    plt.tight_layout()\n",
    "    plt.ylabel('True label')\n",
    "    plt.xlabel('Predicted label')"
   ]
  },
  {
   "cell_type": "code",
   "execution_count": 26,
   "metadata": {},
   "outputs": [
    {
     "data": {
      "image/png": "[encoded data removed]",
      "text/plain": [
       "<Figure size 1152x864 with 2 Axes>"
      ]
     },
     "metadata": {
      "needs_background": "light"
     },
     "output_type": "display_data"
    }
   ],
   "source": [
    "# Plot non-normalized confusion matrix\n",
    "plt.figure(figsize=(16,12))\n",
    "plot_confusion_matrix(cnf_matrix, classes=labelencoder.classes_,\n",
    "                      title='Confusion matrix, without normalization')"
   ]
  },
  {
   "cell_type": "code",
   "execution_count": 27,
   "metadata": {},
   "outputs": [],
   "source": [
    "# Find wrong predicted samples indexes\n",
    "wrong_predictions = [i for i, (e1, e2) in enumerate(zip(test_classes, predictions_int)) if e1 != e2]"
   ]
  },
  {
   "cell_type": "code",
   "execution_count": 28,
   "metadata": {},
   "outputs": [
    {
     "name": "stdout",
     "output_type": "stream",
     "text": [
      "['oboe' 'trumpet' 'sax' 'trumpet' 'trumpet']\n",
      "['sax' 'viola' 'flute' 'sax' 'viola']\n",
      "['./audio/london_phill_dataset_multi/oboe/oboe_Ds6_05_fortissimo_normal.mp3'\n",
      " './audio/london_phill_dataset_multi/trumpet/trumpet_A4_05_forte_normal.mp3'\n",
      " './audio/london_phill_dataset_multi/sax/saxophone_A3_15_fortissimo_normal.mp3'\n",
      " './audio/london_phill_dataset_multi/trumpet/trumpet_A3_05_forte_normal.mp3'\n",
      " './audio/london_phill_dataset_multi/trumpet/trumpet_Cs4_15_pianissimo_normal.mp3']\n"
     ]
    }
   ],
   "source": [
    "# Find wrong predicted audio files\n",
    "print(np.array(labels)[test_index[wrong_predictions]])\n",
    "print(predictions_labels[wrong_predictions].T)\n",
    "print(np.array(files)[test_index[wrong_predictions]])"
   ]
  },
  {
   "cell_type": "code",
   "execution_count": 29,
   "metadata": {},
   "outputs": [],
   "source": [
    "def plot_history(history):\n",
    "    loss_list = [s for s in history.history.keys() if 'loss' in s and 'val' not in s]\n",
    "    val_loss_list = [s for s in history.history.keys() if 'loss' in s and 'val' in s]\n",
    "    acc_list = [s for s in history.history.keys() if 'acc' in s and 'val' not in s]\n",
    "    val_acc_list = [s for s in history.history.keys() if 'acc' in s and 'val' in s]\n",
    "    \n",
    "    if len(loss_list) == 0:\n",
    "        print('Loss is missing in history')\n",
    "        return \n",
    "    \n",
    "    ## As loss always exists\n",
    "    epochs = range(1,len(history.history[loss_list[0]]) + 1)\n",
    "    \n",
    "    ## Loss\n",
    "    plt.figure(1)\n",
    "    for l in loss_list:\n",
    "        plt.plot(epochs, history.history[l], 'b', label='Training loss (' + str(str(format(history.history[l][-1],'.5f'))+')'))\n",
    "    for l in val_loss_list:\n",
    "        plt.plot(epochs, history.history[l], 'g', label='Validation loss (' + str(str(format(history.history[l][-1],'.5f'))+')'))\n",
    "    \n",
    "    plt.title('Loss')\n",
    "    plt.xlabel('Epochs')\n",
    "    plt.ylabel('Loss')\n",
    "    plt.legend()\n",
    "    \n",
    "    ## Accuracy\n",
    "    plt.figure(2)\n",
    "    for l in acc_list:\n",
    "        plt.plot(epochs, history.history[l], 'b', label='Training accuracy (' + str(format(history.history[l][-1],'.5f'))+')')\n",
    "    for l in val_acc_list:    \n",
    "        plt.plot(epochs, history.history[l], 'g', label='Validation accuracy (' + str(format(history.history[l][-1],'.5f'))+')')\n",
    "\n",
    "    plt.title('Accuracy')\n",
    "    plt.xlabel('Epochs')\n",
    "    plt.ylabel('Accuracy')\n",
    "    plt.legend()\n",
    "    plt.show()"
   ]
  },
  {
   "cell_type": "code",
   "execution_count": 30,
   "metadata": {},
   "outputs": [
    {
     "data": {
      "image/png": "[encoded data removed]",
      "text/plain": [
       "<Figure size 432x288 with 1 Axes>"
      ]
     },
     "metadata": {
      "needs_background": "light"
     },
     "output_type": "display_data"
    },
    {
     "data": {
      "image/png": "[encoded data removed]",
      "text/plain": [
       "<Figure size 432x288 with 1 Axes>"
      ]
     },
     "metadata": {
      "needs_background": "light"
     },
     "output_type": "display_data"
    }
   ],
   "source": [
    "plot_history(hist)"
   ]
  },
  {
   "cell_type": "code",
   "execution_count": 31,
   "metadata": {},
   "outputs": [
    {
     "data": {
      "text/html": [
       "<center><iframe src=\"https://keras.io/getting-started/sequential-model-guide/\" width=\"800\" height=\"600\" frameborder=\"0\" marginheight=\"0\" marginwidth=\"0\">Loading...</iframe></center>"
      ],
      "text/plain": [
       "<IPython.core.display.HTML object>"
      ]
     },
     "metadata": {},
     "output_type": "display_data"
    }
   ],
   "source": [
    "show_web(\"https://keras.io/getting-started/sequential-model-guide/\")"
   ]
  },
  {
   "cell_type": "code",
   "execution_count": 62,
   "metadata": {},
   "outputs": [],
   "source": [
    "def create_model(fc_layers=[4],\n",
    "                 activation='relu',\n",
    "                 optimizer='rmsprop'):\n",
    "    model = Sequential()\n",
    "\n",
    "    for i, size in enumerate(fc_layers):\n",
    "        # Input Layer - includes the input_shape\n",
    "        if i == 0:\n",
    "            model.add(Dense(size,\n",
    "                            activation=activation,\n",
    "                            input_shape=(train_set.shape[1],)))\n",
    "        else:\n",
    "            model.add(Dense(size,\n",
    "                            activation=activation))\n",
    "            \n",
    "    model.add(Dense(6,activation='softmax'))\n",
    "    model.compile(optimizer = optimizer,\n",
    "                  loss='categorical_crossentropy',\n",
    "                  metrics=['accuracy'])\n",
    "    return model"
   ]
  },
  {
   "cell_type": "code",
   "execution_count": 63,
   "metadata": {},
   "outputs": [],
   "source": [
    "model = KerasClassifier(build_fn=create_model,\n",
    "                        epochs=50, \n",
    "                        batch_size=5,\n",
    "                        verbose=0)"
   ]
  },
  {
   "cell_type": "code",
   "execution_count": 64,
   "metadata": {},
   "outputs": [],
   "source": [
    "param_grid = {'fc_layers': [[2],[3],[4,4]],\n",
    "              'activation':['relu','tanh'],\n",
    "              'optimizer':('rmsprop','adam'),\n",
    "              'epochs':[10,50, 100, 200],\n",
    "              'batch_size':[5,16]}"
   ]
  },
  {
   "cell_type": "code",
   "execution_count": null,
   "metadata": {},
   "outputs": [],
   "source": [
    "grid = GridSearchCV(model,\n",
    "                    param_grid=param_grid,\n",
    "                    return_train_score=True,\n",
    "                    cv=5)\n",
    "\n",
    "categorical_encoded_train_classes=to_categorical(integer_encoded_train_classes)\n",
    "grid_results = grid.fit(train_set,onehot_encoded_train_classes)\n",
    "\n",
    "print('Parameters of the best model: ')\n",
    "print(grid_results.best_params_)"
   ]
  },
  {
   "cell_type": "code",
   "execution_count": null,
   "metadata": {},
   "outputs": [],
   "source": []
  }
 ],
 "metadata": {
  "kernelspec": {
   "display_name": "Python 3",
   "language": "python",
   "name": "python3"
  },
  "language_info": {
   "codemirror_mode": {
    "name": "ipython",
    "version": 3
   },
   "file_extension": ".py",
   "mimetype": "text/x-python",
   "name": "python",
   "nbconvert_exporter": "python",
   "pygments_lexer": "ipython3",
   "version": "3.6.6"
  }
 },
 "nbformat": 4,
 "nbformat_minor": 2
}
