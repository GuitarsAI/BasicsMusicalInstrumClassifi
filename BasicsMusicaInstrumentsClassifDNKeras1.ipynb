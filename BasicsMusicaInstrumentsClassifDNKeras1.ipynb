{
 "cells": [
  {
   "cell_type": "markdown",
   "metadata": {},
   "source": [
    "# The Very Basics of Musical Instruments Classification using Machine Learning\n",
    "## MFCC, Deep Learning (Gentle introduction using Keras)\n",
    "\n",
    "<br>\n",
    "\n",
    "<p align=\"left\">\n",
    "<img src=\"./img/businesscard.jpg\" width=\"300px\" alt=\"Business Card\" align=\"left\" >\n",
    "</p>\n",
    "<br>\n",
    "\n"
   ]
  },
  {
   "cell_type": "code",
   "execution_count": 1,
   "metadata": {},
   "outputs": [
    {
     "data": {
      "text/html": [
       "<iframe width=\"560\" height=\"315\" src=\"https://www.youtube.com/embed/0R-kTc5PjDM\" frameborder=\"0\" \n",
       "allow=\"accelerometer; encrypted-media; gyroscope; picture-in-picture\"></iframe>"
      ],
      "text/plain": [
       "<IPython.core.display.HTML object>"
      ]
     },
     "metadata": {},
     "output_type": "display_data"
    }
   ],
   "source": [
    "%%html\n",
    "<iframe width=\"560\" height=\"315\" src=\"https://www.youtube.com/embed/0R-kTc5PjDM\" frameborder=\"0\" \n",
    "allow=\"accelerometer; encrypted-media; gyroscope; picture-in-picture\"></iframe>"
   ]
  },
  {
   "cell_type": "markdown",
   "metadata": {},
   "source": [
    "## Imports"
   ]
  },
  {
   "cell_type": "code",
   "execution_count": 32,
   "metadata": {},
   "outputs": [],
   "source": [
    "# Imports\n",
    "\n",
    "#General\n",
    "import numpy as np\n",
    "import pickle\n",
    "import itertools\n",
    "\n",
    "# System\n",
    "import os, fnmatch\n",
    "\n",
    "# Visualization\n",
    "import seaborn #visualization library, must be imported before all other plotting libraries\n",
    "import matplotlib.pyplot as plt\n",
    "from IPython.core.display import HTML, display, Image\n",
    "\n",
    "\n",
    "# Machine Learning\n",
    "from sklearn.preprocessing import LabelEncoder, OneHotEncoder\n",
    "from sklearn.model_selection import StratifiedShuffleSplit, GridSearchCV\n",
    "from sklearn.neighbors import KNeighborsClassifier\n",
    "from sklearn.metrics import recall_score, precision_score, accuracy_score\n",
    "from sklearn.metrics import confusion_matrix, f1_score, classification_report\n",
    "from sklearn.metrics import classification_report\n",
    "\n",
    "# Deep Learning\n",
    "from keras import backend as K\n",
    "from keras.layers import Input, Dense\n",
    "from keras.models import Model, Sequential\n",
    "from keras.optimizers import SGD\n",
    "from keras.callbacks import History\n",
    "from keras.wrappers.scikit_learn import KerasClassifier\n",
    "from keras.utils import plot_model\n",
    "\n",
    "# Random Seed\n",
    "from tensorflow import set_random_seed\n",
    "from numpy.random import seed\n",
    "seed(1)\n",
    "set_random_seed(2)\n",
    "\n",
    "# Audio\n",
    "import librosa.display, librosa\n",
    "\n",
    "# Configurations\n",
    "path='./audio/london_phill_dataset_multi/'"
   ]
  },
  {
   "cell_type": "markdown",
   "metadata": {},
   "source": [
    "## Auxiliary Functions"
   ]
  },
  {
   "cell_type": "code",
   "execution_count": 3,
   "metadata": {},
   "outputs": [],
   "source": [
    "# Function to Display a Website\n",
    "def show_web(url):\n",
    "    html_code='<center><iframe src=\"%s\" width=\"800\" height=\"600\" frameborder=\"0\" marginheight=\"0\" marginwidth=\"0\">Loading...</iframe></center>' \\\n",
    "\t\t% (url)\n",
    "    display(HTML(html_code))"
   ]
  },
  {
   "cell_type": "markdown",
   "metadata": {},
   "source": [
    "## Get filenames"
   ]
  },
  {
   "cell_type": "code",
   "execution_count": 4,
   "metadata": {},
   "outputs": [
    {
     "name": "stdout",
     "output_type": "stream",
     "text": [
      "found 600 audio files in ./audio/london_phill_dataset_multi/\n"
     ]
    }
   ],
   "source": [
    "# Get files in data path\n",
    "\n",
    "files = []\n",
    "for root, dirnames, filenames in os.walk(path):\n",
    "    for filename in fnmatch.filter(filenames, '*.mp3'):\n",
    "        files.append(os.path.join(root, filename))\n",
    "\n",
    "print(\"found %d audio files in %s\"%(len(files),path))"
   ]
  },
  {
   "cell_type": "markdown",
   "metadata": {},
   "source": [
    "## Load Labels"
   ]
  },
  {
   "cell_type": "code",
   "execution_count": 5,
   "metadata": {},
   "outputs": [],
   "source": [
    "filename=\"inst_labels.pl\"\n",
    "# Load labels\n",
    "with open(filename, \"rb\") as f:\n",
    "    labels = pickle.load( open( filename, \"rb\" ) )"
   ]
  },
  {
   "cell_type": "code",
   "execution_count": 6,
   "metadata": {},
   "outputs": [
    {
     "name": "stdout",
     "output_type": "stream",
     "text": [
      "6 classes: cello, flute, oboe, sax, trumpet, viola\n"
     ]
    }
   ],
   "source": [
    "# Encode Labels\n",
    "labelencoder = LabelEncoder()\n",
    "labelencoder.fit(labels)\n",
    "print(len(labelencoder.classes_), \"classes:\", \", \".join(list(labelencoder.classes_)))\n",
    "classes_num = labelencoder.transform(labels)"
   ]
  },
  {
   "cell_type": "code",
   "execution_count": 38,
   "metadata": {},
   "outputs": [
    {
     "name": "stdout",
     "output_type": "stream",
     "text": [
      "Labels: ['oboe', 'oboe', 'oboe']\n",
      "Encoded Classes:  [2 2 2]\n"
     ]
    }
   ],
   "source": [
    "print('Labels:', labels[:3])\n",
    "print('Encoded Classes: ', classes_num[0:3])"
   ]
  },
  {
   "cell_type": "markdown",
   "metadata": {},
   "source": [
    "## Parameters for Train/Test Set"
   ]
  },
  {
   "cell_type": "code",
   "execution_count": 7,
   "metadata": {},
   "outputs": [],
   "source": [
    "# Machine Learning Parameters\n",
    "testset_size = 0.25 #Percentage of data for Testing"
   ]
  },
  {
   "cell_type": "markdown",
   "metadata": {},
   "source": [
    "## Save / Load Feature Vector"
   ]
  },
  {
   "cell_type": "code",
   "execution_count": 8,
   "metadata": {},
   "outputs": [],
   "source": [
    "filename=\"mfcc_feature_vectors.pl\"\n",
    "# Load mfcc features from saved file\n",
    "with open(filename, \"rb\") as f:\n",
    "    scaled_feature_vectors = pickle.load( open( filename, \"rb\" ) )"
   ]
  },
  {
   "cell_type": "markdown",
   "metadata": {},
   "source": [
    "## Train and Test Sets"
   ]
  },
  {
   "cell_type": "code",
   "execution_count": 9,
   "metadata": {},
   "outputs": [],
   "source": [
    "# Create Train and Test Set\n",
    "splitter = StratifiedShuffleSplit(n_splits=1, test_size=testset_size, random_state=0)\n",
    "splits = splitter.split(scaled_feature_vectors, classes_num)\n",
    "for train_index, test_index in splits:\n",
    "    train_set = scaled_feature_vectors[train_index]\n",
    "    test_set = scaled_feature_vectors[test_index]\n",
    "    train_classes = classes_num[train_index]\n",
    "    test_classes = classes_num[test_index]"
   ]
  },
  {
   "cell_type": "code",
   "execution_count": 10,
   "metadata": {},
   "outputs": [
    {
     "name": "stdout",
     "output_type": "stream",
     "text": [
      "train_set shape: (450, 13)\n",
      "test_set shape: (150, 13)\n",
      "train_classes shape: (450,)\n",
      "test_classes shape: (150,)\n"
     ]
    }
   ],
   "source": [
    "# Check Set Shapes\n",
    "print(\"train_set shape:\",train_set.shape)\n",
    "print(\"test_set shape:\",test_set.shape)\n",
    "print(\"train_classes shape:\",train_classes.shape)\n",
    "print(\"test_classes shape:\",test_classes.shape)"
   ]
  },
  {
   "cell_type": "markdown",
   "metadata": {},
   "source": [
    "## Keras"
   ]
  },
  {
   "cell_type": "code",
   "execution_count": 11,
   "metadata": {},
   "outputs": [
    {
     "data": {
      "text/html": [
       "<center><iframe src=\"https://keras.io/\" width=\"800\" height=\"600\" frameborder=\"0\" marginheight=\"0\" marginwidth=\"0\">Loading...</iframe></center>"
      ],
      "text/plain": [
       "<IPython.core.display.HTML object>"
      ]
     },
     "metadata": {},
     "output_type": "display_data"
    }
   ],
   "source": [
    "show_web(\"https://keras.io/\")"
   ]
  },
  {
   "cell_type": "code",
   "execution_count": 12,
   "metadata": {},
   "outputs": [],
   "source": [
    "# DNN\n",
    "# Use Keras Backend Type\n",
    "train_set_d=train_set.astype(K.floatx())\n",
    "test_set_d=test_set.astype(K.floatx())"
   ]
  },
  {
   "cell_type": "markdown",
   "metadata": {},
   "source": [
    "## One Hot Encoding"
   ]
  },
  {
   "cell_type": "code",
   "execution_count": 13,
   "metadata": {},
   "outputs": [],
   "source": [
    "# One Hot encode\n",
    "onehot_encoder = OneHotEncoder(sparse=False, categories='auto')\n",
    "integer_encoded_train_classes =  train_classes.reshape(len( train_classes), 1)\n",
    "onehot_encoded_train_classes = onehot_encoder.fit_transform(integer_encoded_train_classes,1)\n",
    "integer_encoded_test_classes =  test_classes.reshape(len( test_classes),1)\n",
    "onehot_encoded_test_classes = onehot_encoder.fit_transform(integer_encoded_test_classes,1)"
   ]
  },
  {
   "cell_type": "code",
   "execution_count": 39,
   "metadata": {},
   "outputs": [
    {
     "name": "stdout",
     "output_type": "stream",
     "text": [
      "Integer Encoded: [[0]\n",
      " [2]\n",
      " [1]]\n",
      "One-hot Encoded:  [[1. 0. 0. 0. 0. 0.]\n",
      " [0. 0. 1. 0. 0. 0.]\n",
      " [0. 1. 0. 0. 0. 0.]]\n"
     ]
    }
   ],
   "source": [
    "print('Integer Encoded:', integer_encoded_train_classes[:3] )\n",
    "print('One-hot Encoded: ', onehot_encoded_train_classes[:3] )"
   ]
  },
  {
   "cell_type": "code",
   "execution_count": 14,
   "metadata": {},
   "outputs": [
    {
     "name": "stdout",
     "output_type": "stream",
     "text": [
      "train_set shape: (450, 13)\n",
      "test_set shape: (150, 13)\n",
      "train_classes shape: (450, 6)\n",
      "test_classes shape: (150, 6)\n"
     ]
    }
   ],
   "source": [
    "# Check Set Shapes\n",
    "print(\"train_set shape:\",train_set_d.shape)\n",
    "print(\"test_set shape:\",test_set_d.shape)\n",
    "print(\"train_classes shape:\",onehot_encoded_train_classes.shape)\n",
    "print(\"test_classes shape:\",onehot_encoded_test_classes.shape)"
   ]
  },
  {
   "cell_type": "code",
   "execution_count": 15,
   "metadata": {},
   "outputs": [],
   "source": [
    "# Reshape Sets for Keras\n",
    "train_set_d=train_set.reshape(train_set_d.shape[0],1,train_set_d.shape[1])\n",
    "test_set_d=test_set.reshape(test_set_d.shape[0],1,test_set_d.shape[1])\n",
    "train_classes_d_hot=onehot_encoded_train_classes.reshape(onehot_encoded_train_classes.shape[0],1,\n",
    "                                                         onehot_encoded_train_classes.shape[1])\n",
    "test_classes_d_hot=onehot_encoded_test_classes.reshape(onehot_encoded_test_classes.shape[0],1,\n",
    "                                                       onehot_encoded_test_classes.shape[1])"
   ]
  },
  {
   "cell_type": "code",
   "execution_count": 16,
   "metadata": {},
   "outputs": [
    {
     "name": "stdout",
     "output_type": "stream",
     "text": [
      "train_set shape: (450, 1, 13)\n",
      "test_set shape: (450, 1, 13)\n",
      "train_classes shape: (450, 1, 6)\n",
      "test_classes shape: (150, 1, 6)\n"
     ]
    }
   ],
   "source": [
    "# Check Set Shapes\n",
    "print(\"train_set shape:\",train_set_d.shape)\n",
    "print(\"test_set shape:\",train_set_d.shape)\n",
    "print(\"train_classes shape:\",train_classes_d_hot.shape)\n",
    "print(\"test_classes shape:\",test_classes_d_hot.shape)"
   ]
  },
  {
   "cell_type": "code",
   "execution_count": 17,
   "metadata": {},
   "outputs": [
    {
     "data": {
      "text/html": [
       "<center><iframe src=\"https://keras.io/models/model/\" width=\"800\" height=\"600\" frameborder=\"0\" marginheight=\"0\" marginwidth=\"0\">Loading...</iframe></center>"
      ],
      "text/plain": [
       "<IPython.core.display.HTML object>"
      ]
     },
     "metadata": {},
     "output_type": "display_data"
    }
   ],
   "source": [
    "show_web(\"https://keras.io/models/model/\")"
   ]
  },
  {
   "cell_type": "markdown",
   "metadata": {},
   "source": [
    "## Create a Model"
   ]
  },
  {
   "cell_type": "code",
   "execution_count": 18,
   "metadata": {},
   "outputs": [
    {
     "name": "stdout",
     "output_type": "stream",
     "text": [
      "_________________________________________________________________\n",
      "Layer (type)                 Output Shape              Param #   \n",
      "=================================================================\n",
      "input_1 (InputLayer)         (None, 1, 13)             0         \n",
      "_________________________________________________________________\n",
      "dense_1 (Dense)              (None, 1, 12)             168       \n",
      "_________________________________________________________________\n",
      "dense_2 (Dense)              (None, 1, 10)             130       \n",
      "_________________________________________________________________\n",
      "dense_4 (Dense)              (None, 1, 6)              66        \n",
      "_________________________________________________________________\n",
      "dense_5 (Dense)              (None, 1, 6)              42        \n",
      "=================================================================\n",
      "Total params: 406\n",
      "Trainable params: 406\n",
      "Non-trainable params: 0\n",
      "_________________________________________________________________\n"
     ]
    }
   ],
   "source": [
    "# Creat Simple Model\n",
    "model_input = Input(shape=(1,train_set.shape[1]))\n",
    "fc1 = Dense(12, activation=\"relu\")(model_input)\n",
    "fc2 = Dense(10, activation=\"relu\")(fc1)\n",
    "fc3 = Dense(8, activation=\"relu\")(fc2)\n",
    "fc4 = Dense(6, activation=\"relu\")(fc2)\n",
    "n=onehot_encoded_train_classes.shape[1]\n",
    "out = Dense(n, activation=\"softmax\")(fc4)\n",
    "model_d = Model(inputs=[model_input], outputs=[out])\n",
    "model_d.summary()"
   ]
  },
  {
   "cell_type": "code",
   "execution_count": 33,
   "metadata": {},
   "outputs": [
    {
     "data": {
      "image/png": "[encoded data removed]",
      "text/plain": [
       "<IPython.core.display.Image object>"
      ]
     },
     "execution_count": 33,
     "metadata": {},
     "output_type": "execute_result"
    }
   ],
   "source": [
    "plot_model(model_d, to_file='model_d.png', show_shapes=True)\n",
    "Image('model_d.png')"
   ]
  },
  {
   "cell_type": "markdown",
   "metadata": {},
   "source": [
    "## Compile a Model"
   ]
  },
  {
   "cell_type": "code",
   "execution_count": 20,
   "metadata": {},
   "outputs": [],
   "source": [
    "# Compile Model\n",
    "model_d.compile(loss      = 'categorical_crossentropy',\n",
    "              optimizer = SGD(lr=0.05),\n",
    "              metrics   =['accuracy'])"
   ]
  },
  {
   "cell_type": "markdown",
   "metadata": {},
   "source": [
    "## Train a Model"
   ]
  },
  {
   "cell_type": "code",
   "execution_count": 21,
   "metadata": {},
   "outputs": [
    {
     "name": "stdout",
     "output_type": "stream",
     "text": [
      "Train on 450 samples, validate on 150 samples\n",
      "Epoch 1/200\n",
      "450/450 [==============================] - 1s 2ms/step - loss: 1.5589 - acc: 0.3778 - val_loss: 1.3347 - val_acc: 0.4400\n",
      "Epoch 2/200\n",
      "450/450 [==============================] - 0s 724us/step - loss: 1.0163 - acc: 0.6333 - val_loss: 0.8263 - val_acc: 0.6867\n",
      "Epoch 3/200\n",
      "450/450 [==============================] - 0s 867us/step - loss: 0.6395 - acc: 0.7622 - val_loss: 0.6284 - val_acc: 0.7733\n",
      "Epoch 4/200\n",
      "450/450 [==============================] - 0s 851us/step - loss: 0.4400 - acc: 0.8489 - val_loss: 0.4398 - val_acc: 0.8400\n",
      "Epoch 5/200\n",
      "450/450 [==============================] - 0s 717us/step - loss: 0.3216 - acc: 0.9000 - val_loss: 0.3727 - val_acc: 0.9000\n",
      "Epoch 6/200\n",
      "450/450 [==============================] - 0s 851us/step - loss: 0.2557 - acc: 0.9178 - val_loss: 0.2606 - val_acc: 0.9400\n",
      "Epoch 7/200\n",
      "450/450 [==============================] - 0s 709us/step - loss: 0.1910 - acc: 0.9556 - val_loss: 0.2231 - val_acc: 0.9600\n",
      "Epoch 8/200\n",
      "450/450 [==============================] - 0s 824us/step - loss: 0.2129 - acc: 0.9267 - val_loss: 0.2482 - val_acc: 0.9400\n",
      "Epoch 9/200\n",
      "450/450 [==============================] - 0s 726us/step - loss: 0.1375 - acc: 0.9533 - val_loss: 0.2514 - val_acc: 0.9267\n",
      "Epoch 10/200\n",
      "450/450 [==============================] - 0s 862us/step - loss: 0.1018 - acc: 0.9689 - val_loss: 0.2579 - val_acc: 0.9200\n",
      "Epoch 11/200\n",
      "450/450 [==============================] - 0s 857us/step - loss: 0.0920 - acc: 0.9733 - val_loss: 0.2351 - val_acc: 0.9467\n",
      "Epoch 12/200\n",
      "450/450 [==============================] - 0s 860us/step - loss: 0.1314 - acc: 0.9556 - val_loss: 0.2681 - val_acc: 0.9533\n",
      "Epoch 13/200\n",
      "450/450 [==============================] - 0s 728us/step - loss: 0.1303 - acc: 0.9600 - val_loss: 0.2258 - val_acc: 0.9400\n",
      "Epoch 14/200\n",
      "450/450 [==============================] - 0s 845us/step - loss: 0.0802 - acc: 0.9756 - val_loss: 0.2360 - val_acc: 0.9600\n",
      "Epoch 15/200\n",
      "450/450 [==============================] - 0s 867us/step - loss: 0.0738 - acc: 0.9778 - val_loss: 0.2257 - val_acc: 0.9733\n",
      "Epoch 16/200\n",
      "450/450 [==============================] - 0s 737us/step - loss: 0.0810 - acc: 0.9756 - val_loss: 0.2557 - val_acc: 0.9533\n",
      "Epoch 17/200\n",
      "450/450 [==============================] - 0s 856us/step - loss: 0.0604 - acc: 0.9800 - val_loss: 0.2251 - val_acc: 0.9467\n",
      "Epoch 18/200\n",
      "450/450 [==============================] - 0s 839us/step - loss: 0.0562 - acc: 0.9844 - val_loss: 0.2991 - val_acc: 0.9467\n",
      "Epoch 19/200\n",
      "450/450 [==============================] - 0s 726us/step - loss: 0.0490 - acc: 0.9844 - val_loss: 0.1981 - val_acc: 0.9533\n",
      "Epoch 20/200\n",
      "450/450 [==============================] - 0s 707us/step - loss: 0.0430 - acc: 0.9933 - val_loss: 0.2285 - val_acc: 0.9400\n",
      "Epoch 21/200\n",
      "450/450 [==============================] - 0s 847us/step - loss: 0.0460 - acc: 0.9889 - val_loss: 0.2292 - val_acc: 0.9667\n",
      "Epoch 22/200\n",
      "450/450 [==============================] - 0s 856us/step - loss: 0.0370 - acc: 0.9933 - val_loss: 0.2590 - val_acc: 0.9533\n",
      "Epoch 23/200\n",
      "450/450 [==============================] - 0s 709us/step - loss: 0.0385 - acc: 0.9911 - val_loss: 0.2053 - val_acc: 0.9667\n",
      "Epoch 24/200\n",
      "450/450 [==============================] - 0s 853us/step - loss: 0.0348 - acc: 0.9933 - val_loss: 0.2221 - val_acc: 0.9600\n",
      "Epoch 25/200\n",
      "450/450 [==============================] - 0s 859us/step - loss: 0.0327 - acc: 0.9933 - val_loss: 0.2126 - val_acc: 0.9667\n",
      "Epoch 26/200\n",
      "450/450 [==============================] - 0s 728us/step - loss: 0.0307 - acc: 0.9933 - val_loss: 0.2431 - val_acc: 0.9467\n",
      "Epoch 27/200\n",
      "450/450 [==============================] - 0s 855us/step - loss: 0.0323 - acc: 0.9933 - val_loss: 0.2026 - val_acc: 0.9733\n",
      "Epoch 28/200\n",
      "450/450 [==============================] - 0s 722us/step - loss: 0.0351 - acc: 0.9911 - val_loss: 0.1956 - val_acc: 0.9667\n",
      "Epoch 29/200\n",
      "450/450 [==============================] - 0s 821us/step - loss: 0.0320 - acc: 0.9956 - val_loss: 0.2311 - val_acc: 0.9600\n",
      "Epoch 30/200\n",
      "450/450 [==============================] - 0s 722us/step - loss: 0.0324 - acc: 0.9933 - val_loss: 0.2080 - val_acc: 0.9667\n",
      "Epoch 31/200\n",
      "450/450 [==============================] - 0s 803us/step - loss: 0.0328 - acc: 0.9933 - val_loss: 0.2247 - val_acc: 0.9600\n",
      "Epoch 32/200\n",
      "450/450 [==============================] - 0s 700us/step - loss: 0.0287 - acc: 0.9956 - val_loss: 0.2184 - val_acc: 0.9667\n",
      "Epoch 33/200\n",
      "450/450 [==============================] - 0s 695us/step - loss: 0.0332 - acc: 0.9889 - val_loss: 0.2355 - val_acc: 0.9467\n",
      "Epoch 34/200\n",
      "450/450 [==============================] - 0s 849us/step - loss: 0.0293 - acc: 0.9933 - val_loss: 0.2347 - val_acc: 0.9533\n",
      "Epoch 35/200\n",
      "450/450 [==============================] - 0s 730us/step - loss: 0.0356 - acc: 0.9911 - val_loss: 0.3011 - val_acc: 0.9200\n",
      "Epoch 36/200\n",
      "450/450 [==============================] - 0s 772us/step - loss: 0.0330 - acc: 0.9911 - val_loss: 0.2199 - val_acc: 0.9600\n",
      "Epoch 37/200\n",
      "450/450 [==============================] - 0s 791us/step - loss: 0.0300 - acc: 0.9933 - val_loss: 0.2216 - val_acc: 0.9533\n",
      "Epoch 38/200\n",
      "450/450 [==============================] - 0s 771us/step - loss: 0.0264 - acc: 0.9933 - val_loss: 0.2326 - val_acc: 0.9467\n",
      "Epoch 39/200\n",
      "450/450 [==============================] - 0s 713us/step - loss: 0.0245 - acc: 0.9956 - val_loss: 0.2459 - val_acc: 0.9400\n",
      "Epoch 40/200\n",
      "450/450 [==============================] - 0s 663us/step - loss: 0.0253 - acc: 0.9956 - val_loss: 0.2234 - val_acc: 0.9533\n",
      "Epoch 41/200\n",
      "450/450 [==============================] - 0s 806us/step - loss: 0.0246 - acc: 0.9956 - val_loss: 0.2240 - val_acc: 0.9467\n",
      "Epoch 42/200\n",
      "450/450 [==============================] - 0s 721us/step - loss: 0.0242 - acc: 0.9956 - val_loss: 0.2247 - val_acc: 0.9533\n",
      "Epoch 43/200\n",
      "450/450 [==============================] - 0s 504us/step - loss: 0.0232 - acc: 0.9956 - val_loss: 0.2393 - val_acc: 0.9467\n",
      "Epoch 44/200\n",
      "450/450 [==============================] - 0s 679us/step - loss: 0.0236 - acc: 0.9956 - val_loss: 0.2324 - val_acc: 0.9467\n",
      "Epoch 45/200\n",
      "450/450 [==============================] - 0s 562us/step - loss: 0.0225 - acc: 0.9956 - val_loss: 0.2323 - val_acc: 0.9467\n",
      "Epoch 46/200\n",
      "450/450 [==============================] - 0s 724us/step - loss: 0.0216 - acc: 0.9956 - val_loss: 0.2232 - val_acc: 0.9533\n",
      "Epoch 47/200\n",
      "450/450 [==============================] - 0s 849us/step - loss: 0.0219 - acc: 0.9956 - val_loss: 0.2343 - val_acc: 0.9467\n",
      "Epoch 48/200\n",
      "450/450 [==============================] - 0s 782us/step - loss: 0.0211 - acc: 0.9956 - val_loss: 0.2320 - val_acc: 0.9533\n",
      "Epoch 49/200\n",
      "450/450 [==============================] - 0s 571us/step - loss: 0.0216 - acc: 0.9956 - val_loss: 0.2393 - val_acc: 0.9533\n",
      "Epoch 50/200\n",
      "450/450 [==============================] - 0s 809us/step - loss: 0.0211 - acc: 0.9956 - val_loss: 0.2346 - val_acc: 0.9533\n",
      "Epoch 51/200\n",
      "450/450 [==============================] - 0s 510us/step - loss: 0.0208 - acc: 0.9956 - val_loss: 0.2469 - val_acc: 0.9467\n",
      "Epoch 52/200\n",
      "450/450 [==============================] - 0s 797us/step - loss: 0.0201 - acc: 0.9956 - val_loss: 0.2386 - val_acc: 0.9533\n",
      "Epoch 53/200\n",
      "450/450 [==============================] - 0s 693us/step - loss: 0.0201 - acc: 0.9956 - val_loss: 0.2343 - val_acc: 0.9533\n",
      "Epoch 54/200\n",
      "450/450 [==============================] - 0s 715us/step - loss: 0.0196 - acc: 0.9956 - val_loss: 0.2428 - val_acc: 0.9533\n",
      "Epoch 55/200\n",
      "450/450 [==============================] - 0s 797us/step - loss: 0.0196 - acc: 0.9956 - val_loss: 0.2432 - val_acc: 0.9533\n",
      "Epoch 56/200\n",
      "450/450 [==============================] - 0s 727us/step - loss: 0.0181 - acc: 0.9956 - val_loss: 0.2479 - val_acc: 0.9533\n",
      "Epoch 57/200\n",
      "450/450 [==============================] - 0s 820us/step - loss: 0.0188 - acc: 0.9956 - val_loss: 0.2465 - val_acc: 0.9600\n",
      "Epoch 58/200\n",
      "450/450 [==============================] - 0s 703us/step - loss: 0.0184 - acc: 0.9956 - val_loss: 0.2481 - val_acc: 0.9533\n",
      "Epoch 59/200\n",
      "450/450 [==============================] - 0s 840us/step - loss: 0.0180 - acc: 0.9956 - val_loss: 0.2438 - val_acc: 0.9600\n",
      "Epoch 60/200\n",
      "450/450 [==============================] - 0s 686us/step - loss: 0.0179 - acc: 0.9956 - val_loss: 0.2450 - val_acc: 0.9600\n"
     ]
    },
    {
     "name": "stdout",
     "output_type": "stream",
     "text": [
      "Epoch 61/200\n",
      "450/450 [==============================] - 0s 736us/step - loss: 0.0171 - acc: 0.9956 - val_loss: 0.2485 - val_acc: 0.9467\n",
      "Epoch 62/200\n",
      "450/450 [==============================] - 0s 789us/step - loss: 0.0170 - acc: 0.9956 - val_loss: 0.2504 - val_acc: 0.9600\n",
      "Epoch 63/200\n",
      "450/450 [==============================] - 0s 689us/step - loss: 0.0167 - acc: 0.9956 - val_loss: 0.2452 - val_acc: 0.9600\n",
      "Epoch 64/200\n",
      "450/450 [==============================] - 0s 697us/step - loss: 0.0161 - acc: 0.9956 - val_loss: 0.2494 - val_acc: 0.9467\n",
      "Epoch 65/200\n",
      "450/450 [==============================] - 0s 684us/step - loss: 0.0164 - acc: 0.9956 - val_loss: 0.2534 - val_acc: 0.9533\n",
      "Epoch 66/200\n",
      "450/450 [==============================] - 0s 811us/step - loss: 0.0151 - acc: 0.9956 - val_loss: 0.2542 - val_acc: 0.9467\n",
      "Epoch 67/200\n",
      "450/450 [==============================] - 0s 726us/step - loss: 0.0152 - acc: 0.9956 - val_loss: 0.2604 - val_acc: 0.9533\n",
      "Epoch 68/200\n",
      "450/450 [==============================] - 0s 846us/step - loss: 0.0150 - acc: 0.9956 - val_loss: 0.2560 - val_acc: 0.9533\n",
      "Epoch 69/200\n",
      "450/450 [==============================] - 0s 682us/step - loss: 0.0139 - acc: 0.9956 - val_loss: 0.2582 - val_acc: 0.9533\n",
      "Epoch 70/200\n",
      "450/450 [==============================] - 0s 716us/step - loss: 0.0144 - acc: 0.9956 - val_loss: 0.2619 - val_acc: 0.9467\n",
      "Epoch 71/200\n",
      "450/450 [==============================] - 0s 791us/step - loss: 0.0137 - acc: 0.9956 - val_loss: 0.2605 - val_acc: 0.9467\n",
      "Epoch 72/200\n",
      "450/450 [==============================] - 0s 704us/step - loss: 0.0136 - acc: 0.9956 - val_loss: 0.2581 - val_acc: 0.9533\n",
      "Epoch 73/200\n",
      "450/450 [==============================] - 0s 680us/step - loss: 0.0127 - acc: 0.9956 - val_loss: 0.2632 - val_acc: 0.9533\n",
      "Epoch 74/200\n",
      "450/450 [==============================] - 0s 708us/step - loss: 0.0121 - acc: 0.9956 - val_loss: 0.2672 - val_acc: 0.9467\n",
      "Epoch 75/200\n",
      "450/450 [==============================] - 0s 799us/step - loss: 0.0125 - acc: 0.9978 - val_loss: 0.2665 - val_acc: 0.9467\n",
      "Epoch 76/200\n",
      "450/450 [==============================] - 0s 714us/step - loss: 0.0119 - acc: 0.9978 - val_loss: 0.2682 - val_acc: 0.9467\n",
      "Epoch 77/200\n",
      "450/450 [==============================] - 0s 839us/step - loss: 0.0111 - acc: 0.9978 - val_loss: 0.2714 - val_acc: 0.9467\n",
      "Epoch 78/200\n",
      "450/450 [==============================] - 0s 725us/step - loss: 0.0112 - acc: 0.9978 - val_loss: 0.2686 - val_acc: 0.9533\n",
      "Epoch 79/200\n",
      "450/450 [==============================] - 0s 822us/step - loss: 0.0106 - acc: 0.9978 - val_loss: 0.2750 - val_acc: 0.9533\n",
      "Epoch 80/200\n",
      "450/450 [==============================] - 0s 721us/step - loss: 0.0108 - acc: 0.9978 - val_loss: 0.2707 - val_acc: 0.9467\n",
      "Epoch 81/200\n",
      "450/450 [==============================] - 0s 835us/step - loss: 0.0100 - acc: 0.9978 - val_loss: 0.2713 - val_acc: 0.9533\n",
      "Epoch 82/200\n",
      "450/450 [==============================] - 0s 714us/step - loss: 0.0096 - acc: 0.9978 - val_loss: 0.2739 - val_acc: 0.9533\n",
      "Epoch 83/200\n",
      "450/450 [==============================] - 0s 690us/step - loss: 0.0096 - acc: 0.9978 - val_loss: 0.2721 - val_acc: 0.9600\n",
      "Epoch 84/200\n",
      "450/450 [==============================] - 0s 826us/step - loss: 0.0086 - acc: 0.9978 - val_loss: 0.2676 - val_acc: 0.9600\n",
      "Epoch 85/200\n",
      "450/450 [==============================] - 0s 710us/step - loss: 0.0086 - acc: 0.9978 - val_loss: 0.2710 - val_acc: 0.9600\n",
      "Epoch 86/200\n",
      "450/450 [==============================] - 0s 836us/step - loss: 0.0083 - acc: 0.9978 - val_loss: 0.2747 - val_acc: 0.9600\n",
      "Epoch 87/200\n",
      "450/450 [==============================] - 0s 710us/step - loss: 0.0070 - acc: 0.9978 - val_loss: 0.2717 - val_acc: 0.9600\n",
      "Epoch 88/200\n",
      "450/450 [==============================] - 0s 828us/step - loss: 0.0080 - acc: 0.9978 - val_loss: 0.2735 - val_acc: 0.9600\n",
      "Epoch 89/200\n",
      "450/450 [==============================] - 0s 719us/step - loss: 0.0078 - acc: 0.9978 - val_loss: 0.2720 - val_acc: 0.9600\n",
      "Epoch 90/200\n",
      "450/450 [==============================] - 0s 720us/step - loss: 0.0067 - acc: 0.9978 - val_loss: 0.2761 - val_acc: 0.9600\n",
      "Epoch 91/200\n",
      "450/450 [==============================] - 0s 775us/step - loss: 0.0068 - acc: 0.9956 - val_loss: 0.2702 - val_acc: 0.9600\n",
      "Epoch 92/200\n",
      "450/450 [==============================] - 0s 697us/step - loss: 0.0061 - acc: 0.9978 - val_loss: 0.2672 - val_acc: 0.9600\n",
      "Epoch 93/200\n",
      "450/450 [==============================] - 0s 853us/step - loss: 0.0065 - acc: 0.9978 - val_loss: 0.2695 - val_acc: 0.9600\n",
      "Epoch 94/200\n",
      "450/450 [==============================] - 0s 741us/step - loss: 0.0059 - acc: 0.9978 - val_loss: 0.2746 - val_acc: 0.9667\n",
      "Epoch 95/200\n",
      "450/450 [==============================] - 0s 750us/step - loss: 0.0052 - acc: 0.9978 - val_loss: 0.2760 - val_acc: 0.9600\n",
      "Epoch 96/200\n",
      "450/450 [==============================] - 0s 840us/step - loss: 0.0047 - acc: 0.9978 - val_loss: 0.2727 - val_acc: 0.9600\n",
      "Epoch 97/200\n",
      "450/450 [==============================] - 0s 713us/step - loss: 0.0046 - acc: 1.0000 - val_loss: 0.2684 - val_acc: 0.9600\n",
      "Epoch 98/200\n",
      "450/450 [==============================] - 0s 852us/step - loss: 0.0041 - acc: 1.0000 - val_loss: 0.2775 - val_acc: 0.9667\n",
      "Epoch 99/200\n",
      "450/450 [==============================] - 0s 859us/step - loss: 0.0033 - acc: 1.0000 - val_loss: 0.2733 - val_acc: 0.9600\n",
      "Epoch 100/200\n",
      "450/450 [==============================] - 0s 866us/step - loss: 0.0047 - acc: 0.9978 - val_loss: 0.2740 - val_acc: 0.9667\n",
      "Epoch 101/200\n",
      "450/450 [==============================] - 0s 725us/step - loss: 0.0031 - acc: 1.0000 - val_loss: 0.2737 - val_acc: 0.9667\n",
      "Epoch 102/200\n",
      "450/450 [==============================] - 0s 826us/step - loss: 0.0031 - acc: 1.0000 - val_loss: 0.2815 - val_acc: 0.9667\n",
      "Epoch 103/200\n",
      "450/450 [==============================] - 0s 716us/step - loss: 0.0031 - acc: 1.0000 - val_loss: 0.2801 - val_acc: 0.9667\n",
      "Epoch 104/200\n",
      "450/450 [==============================] - 0s 722us/step - loss: 0.0027 - acc: 1.0000 - val_loss: 0.2796 - val_acc: 0.9667\n",
      "Epoch 105/200\n",
      "450/450 [==============================] - 0s 884us/step - loss: 0.0032 - acc: 1.0000 - val_loss: 0.2814 - val_acc: 0.9667\n",
      "Epoch 106/200\n",
      "450/450 [==============================] - 0s 848us/step - loss: 0.0024 - acc: 1.0000 - val_loss: 0.2836 - val_acc: 0.9667\n",
      "Epoch 107/200\n",
      "450/450 [==============================] - 0s 809us/step - loss: 0.0029 - acc: 1.0000 - val_loss: 0.2802 - val_acc: 0.9667\n",
      "Epoch 108/200\n",
      "450/450 [==============================] - 0s 773us/step - loss: 0.0024 - acc: 1.0000 - val_loss: 0.2842 - val_acc: 0.9667\n",
      "Epoch 109/200\n",
      "450/450 [==============================] - 0s 822us/step - loss: 0.0023 - acc: 1.0000 - val_loss: 0.2843 - val_acc: 0.9667\n",
      "Epoch 110/200\n",
      "450/450 [==============================] - 0s 483us/step - loss: 0.0021 - acc: 1.0000 - val_loss: 0.2846 - val_acc: 0.9667\n",
      "Epoch 111/200\n",
      "450/450 [==============================] - 0s 494us/step - loss: 0.0020 - acc: 1.0000 - val_loss: 0.2840 - val_acc: 0.9667\n",
      "Epoch 112/200\n",
      "450/450 [==============================] - 0s 618us/step - loss: 0.0019 - acc: 1.0000 - val_loss: 0.2859 - val_acc: 0.9667\n",
      "Epoch 113/200\n",
      "450/450 [==============================] - 0s 630us/step - loss: 0.0018 - acc: 1.0000 - val_loss: 0.2864 - val_acc: 0.9667\n",
      "Epoch 114/200\n",
      "450/450 [==============================] - 0s 703us/step - loss: 0.0019 - acc: 1.0000 - val_loss: 0.2872 - val_acc: 0.9667\n",
      "Epoch 115/200\n",
      "450/450 [==============================] - 0s 852us/step - loss: 0.0016 - acc: 1.0000 - val_loss: 0.2873 - val_acc: 0.9667\n",
      "Epoch 116/200\n",
      "450/450 [==============================] - 0s 850us/step - loss: 0.0017 - acc: 1.0000 - val_loss: 0.2842 - val_acc: 0.9667\n",
      "Epoch 117/200\n",
      "450/450 [==============================] - 0s 567us/step - loss: 0.0016 - acc: 1.0000 - val_loss: 0.2870 - val_acc: 0.9667\n",
      "Epoch 118/200\n",
      "450/450 [==============================] - 0s 727us/step - loss: 0.0014 - acc: 1.0000 - val_loss: 0.2877 - val_acc: 0.9667\n",
      "Epoch 119/200\n",
      "450/450 [==============================] - 0s 778us/step - loss: 0.0015 - acc: 1.0000 - val_loss: 0.2879 - val_acc: 0.9667\n",
      "Epoch 120/200\n",
      "450/450 [==============================] - 0s 852us/step - loss: 0.0014 - acc: 1.0000 - val_loss: 0.2867 - val_acc: 0.9667\n",
      "Epoch 121/200\n"
     ]
    },
    {
     "name": "stdout",
     "output_type": "stream",
     "text": [
      "450/450 [==============================] - 0s 731us/step - loss: 0.0014 - acc: 1.0000 - val_loss: 0.2869 - val_acc: 0.9667\n",
      "Epoch 122/200\n",
      "450/450 [==============================] - 0s 767us/step - loss: 0.0013 - acc: 1.0000 - val_loss: 0.2858 - val_acc: 0.9667\n",
      "Epoch 123/200\n",
      "450/450 [==============================] - 0s 716us/step - loss: 0.0012 - acc: 1.0000 - val_loss: 0.2875 - val_acc: 0.9667\n",
      "Epoch 124/200\n",
      "450/450 [==============================] - 0s 887us/step - loss: 0.0012 - acc: 1.0000 - val_loss: 0.2882 - val_acc: 0.9667\n",
      "Epoch 125/200\n",
      "450/450 [==============================] - 0s 772us/step - loss: 0.0012 - acc: 1.0000 - val_loss: 0.2904 - val_acc: 0.9667\n",
      "Epoch 126/200\n",
      "450/450 [==============================] - 0s 770us/step - loss: 0.0011 - acc: 1.0000 - val_loss: 0.2903 - val_acc: 0.9667\n",
      "Epoch 127/200\n",
      "450/450 [==============================] - 0s 760us/step - loss: 0.0011 - acc: 1.0000 - val_loss: 0.2898 - val_acc: 0.9667\n",
      "Epoch 128/200\n",
      "450/450 [==============================] - 0s 840us/step - loss: 0.0010 - acc: 1.0000 - val_loss: 0.2909 - val_acc: 0.9667\n",
      "Epoch 129/200\n",
      "450/450 [==============================] - 0s 894us/step - loss: 0.0010 - acc: 1.0000 - val_loss: 0.2904 - val_acc: 0.9667\n",
      "Epoch 130/200\n",
      "450/450 [==============================] - 0s 709us/step - loss: 9.6953e-04 - acc: 1.0000 - val_loss: 0.2920 - val_acc: 0.9600\n",
      "Epoch 131/200\n",
      "450/450 [==============================] - 0s 812us/step - loss: 0.0010 - acc: 1.0000 - val_loss: 0.2917 - val_acc: 0.9667\n",
      "Epoch 132/200\n",
      "450/450 [==============================] - 0s 710us/step - loss: 9.4125e-04 - acc: 1.0000 - val_loss: 0.2906 - val_acc: 0.9667\n",
      "Epoch 133/200\n",
      "450/450 [==============================] - 0s 721us/step - loss: 9.4641e-04 - acc: 1.0000 - val_loss: 0.2906 - val_acc: 0.9667\n",
      "Epoch 134/200\n",
      "450/450 [==============================] - 0s 817us/step - loss: 8.8806e-04 - acc: 1.0000 - val_loss: 0.2907 - val_acc: 0.9667\n",
      "Epoch 135/200\n",
      "450/450 [==============================] - 0s 857us/step - loss: 8.8602e-04 - acc: 1.0000 - val_loss: 0.2911 - val_acc: 0.9667\n",
      "Epoch 136/200\n",
      "450/450 [==============================] - 0s 718us/step - loss: 8.5227e-04 - acc: 1.0000 - val_loss: 0.2921 - val_acc: 0.9667\n",
      "Epoch 137/200\n",
      "450/450 [==============================] - 0s 838us/step - loss: 8.3248e-04 - acc: 1.0000 - val_loss: 0.2908 - val_acc: 0.9667\n",
      "Epoch 138/200\n",
      "450/450 [==============================] - 0s 849us/step - loss: 8.3108e-04 - acc: 1.0000 - val_loss: 0.2906 - val_acc: 0.9667\n",
      "Epoch 139/200\n",
      "450/450 [==============================] - 0s 727us/step - loss: 7.9143e-04 - acc: 1.0000 - val_loss: 0.2905 - val_acc: 0.9667\n",
      "Epoch 140/200\n",
      "450/450 [==============================] - 0s 859us/step - loss: 7.8027e-04 - acc: 1.0000 - val_loss: 0.2918 - val_acc: 0.9667\n",
      "Epoch 141/200\n",
      "450/450 [==============================] - 0s 734us/step - loss: 7.5513e-04 - acc: 1.0000 - val_loss: 0.2911 - val_acc: 0.9667\n",
      "Epoch 142/200\n",
      "450/450 [==============================] - 0s 822us/step - loss: 7.3185e-04 - acc: 1.0000 - val_loss: 0.2912 - val_acc: 0.9667\n",
      "Epoch 143/200\n",
      "450/450 [==============================] - 0s 865us/step - loss: 7.2557e-04 - acc: 1.0000 - val_loss: 0.2921 - val_acc: 0.9667\n",
      "Epoch 144/200\n",
      "450/450 [==============================] - 0s 725us/step - loss: 7.2072e-04 - acc: 1.0000 - val_loss: 0.2916 - val_acc: 0.9667\n",
      "Epoch 145/200\n",
      "450/450 [==============================] - 0s 812us/step - loss: 6.8821e-04 - acc: 1.0000 - val_loss: 0.2914 - val_acc: 0.9667\n",
      "Epoch 146/200\n",
      "450/450 [==============================] - 0s 710us/step - loss: 6.8257e-04 - acc: 1.0000 - val_loss: 0.2924 - val_acc: 0.9667\n",
      "Epoch 147/200\n",
      "450/450 [==============================] - 0s 758us/step - loss: 6.6483e-04 - acc: 1.0000 - val_loss: 0.2921 - val_acc: 0.9667\n",
      "Epoch 148/200\n",
      "450/450 [==============================] - 0s 746us/step - loss: 6.7590e-04 - acc: 1.0000 - val_loss: 0.2918 - val_acc: 0.9667\n",
      "Epoch 149/200\n",
      "450/450 [==============================] - 0s 718us/step - loss: 6.3984e-04 - acc: 1.0000 - val_loss: 0.2929 - val_acc: 0.9667\n",
      "Epoch 150/200\n",
      "450/450 [==============================] - 0s 739us/step - loss: 6.3400e-04 - acc: 1.0000 - val_loss: 0.2929 - val_acc: 0.9667\n",
      "Epoch 151/200\n",
      "450/450 [==============================] - 0s 846us/step - loss: 6.2117e-04 - acc: 1.0000 - val_loss: 0.2926 - val_acc: 0.9667\n",
      "Epoch 152/200\n",
      "450/450 [==============================] - 0s 806us/step - loss: 6.0999e-04 - acc: 1.0000 - val_loss: 0.2927 - val_acc: 0.9667\n",
      "Epoch 153/200\n",
      "450/450 [==============================] - 0s 705us/step - loss: 5.9080e-04 - acc: 1.0000 - val_loss: 0.2931 - val_acc: 0.9667\n",
      "Epoch 154/200\n",
      "450/450 [==============================] - 0s 825us/step - loss: 5.9276e-04 - acc: 1.0000 - val_loss: 0.2932 - val_acc: 0.9667\n",
      "Epoch 155/200\n",
      "450/450 [==============================] - 0s 718us/step - loss: 5.8000e-04 - acc: 1.0000 - val_loss: 0.2932 - val_acc: 0.9600\n",
      "Epoch 156/200\n",
      "450/450 [==============================] - 0s 695us/step - loss: 5.6614e-04 - acc: 1.0000 - val_loss: 0.2929 - val_acc: 0.9667\n",
      "Epoch 157/200\n",
      "450/450 [==============================] - 0s 818us/step - loss: 5.4636e-04 - acc: 1.0000 - val_loss: 0.2934 - val_acc: 0.9667\n",
      "Epoch 158/200\n",
      "450/450 [==============================] - 0s 690us/step - loss: 5.5653e-04 - acc: 1.0000 - val_loss: 0.2932 - val_acc: 0.9667\n",
      "Epoch 159/200\n",
      "450/450 [==============================] - 0s 839us/step - loss: 5.4346e-04 - acc: 1.0000 - val_loss: 0.2937 - val_acc: 0.9667\n",
      "Epoch 160/200\n",
      "450/450 [==============================] - 0s 722us/step - loss: 5.3000e-04 - acc: 1.0000 - val_loss: 0.2943 - val_acc: 0.9600\n",
      "Epoch 161/200\n",
      "450/450 [==============================] - 0s 837us/step - loss: 5.1731e-04 - acc: 1.0000 - val_loss: 0.2941 - val_acc: 0.9600\n",
      "Epoch 162/200\n",
      "450/450 [==============================] - 0s 720us/step - loss: 5.2035e-04 - acc: 1.0000 - val_loss: 0.2937 - val_acc: 0.9667\n",
      "Epoch 163/200\n",
      "450/450 [==============================] - 0s 830us/step - loss: 5.0315e-04 - acc: 1.0000 - val_loss: 0.2934 - val_acc: 0.9667\n",
      "Epoch 164/200\n",
      "450/450 [==============================] - 0s 707us/step - loss: 4.9790e-04 - acc: 1.0000 - val_loss: 0.2935 - val_acc: 0.9600\n",
      "Epoch 165/200\n",
      "450/450 [==============================] - 0s 691us/step - loss: 4.8789e-04 - acc: 1.0000 - val_loss: 0.2938 - val_acc: 0.9667\n",
      "Epoch 166/200\n",
      "450/450 [==============================] - 0s 841us/step - loss: 4.8528e-04 - acc: 1.0000 - val_loss: 0.2936 - val_acc: 0.9667\n",
      "Epoch 167/200\n",
      "450/450 [==============================] - 0s 696us/step - loss: 4.7656e-04 - acc: 1.0000 - val_loss: 0.2942 - val_acc: 0.9667\n",
      "Epoch 168/200\n",
      "450/450 [==============================] - 0s 820us/step - loss: 4.6606e-04 - acc: 1.0000 - val_loss: 0.2941 - val_acc: 0.9667\n",
      "Epoch 169/200\n",
      "450/450 [==============================] - 0s 702us/step - loss: 4.5888e-04 - acc: 1.0000 - val_loss: 0.2945 - val_acc: 0.9667\n",
      "Epoch 170/200\n",
      "450/450 [==============================] - 0s 734us/step - loss: 4.5556e-04 - acc: 1.0000 - val_loss: 0.2938 - val_acc: 0.9667\n",
      "Epoch 171/200\n",
      "450/450 [==============================] - 0s 677us/step - loss: 4.5026e-04 - acc: 1.0000 - val_loss: 0.2947 - val_acc: 0.9667\n",
      "Epoch 172/200\n",
      "450/450 [==============================] - 0s 705us/step - loss: 4.4219e-04 - acc: 1.0000 - val_loss: 0.2949 - val_acc: 0.9667\n",
      "Epoch 173/200\n",
      "450/450 [==============================] - 0s 715us/step - loss: 4.3493e-04 - acc: 1.0000 - val_loss: 0.2950 - val_acc: 0.9667\n",
      "Epoch 174/200\n",
      "450/450 [==============================] - 0s 795us/step - loss: 4.3128e-04 - acc: 1.0000 - val_loss: 0.2950 - val_acc: 0.9667\n",
      "Epoch 175/200\n",
      "450/450 [==============================] - 0s 705us/step - loss: 4.2536e-04 - acc: 1.0000 - val_loss: 0.2942 - val_acc: 0.9667\n",
      "Epoch 176/200\n",
      "450/450 [==============================] - 0s 712us/step - loss: 4.2110e-04 - acc: 1.0000 - val_loss: 0.2948 - val_acc: 0.9667\n",
      "Epoch 177/200\n",
      "450/450 [==============================] - 0s 841us/step - loss: 4.1417e-04 - acc: 1.0000 - val_loss: 0.2954 - val_acc: 0.9667\n",
      "Epoch 178/200\n",
      "450/450 [==============================] - 0s 701us/step - loss: 4.0935e-04 - acc: 1.0000 - val_loss: 0.2955 - val_acc: 0.9600\n",
      "Epoch 179/200\n",
      "450/450 [==============================] - 0s 823us/step - loss: 4.0350e-04 - acc: 1.0000 - val_loss: 0.2951 - val_acc: 0.9667\n",
      "Epoch 180/200\n",
      "450/450 [==============================] - 0s 713us/step - loss: 3.9435e-04 - acc: 1.0000 - val_loss: 0.2953 - val_acc: 0.9667\n",
      "Epoch 181/200\n",
      "450/450 [==============================] - 0s 840us/step - loss: 3.9606e-04 - acc: 1.0000 - val_loss: 0.2952 - val_acc: 0.9667\n",
      "Epoch 182/200\n",
      "450/450 [==============================] - 0s 701us/step - loss: 3.8778e-04 - acc: 1.0000 - val_loss: 0.2954 - val_acc: 0.9667\n",
      "Epoch 183/200\n",
      "450/450 [==============================] - 0s 846us/step - loss: 3.8191e-04 - acc: 1.0000 - val_loss: 0.2957 - val_acc: 0.9667\n",
      "Epoch 184/200\n",
      "450/450 [==============================] - 0s 714us/step - loss: 3.7729e-04 - acc: 1.0000 - val_loss: 0.2953 - val_acc: 0.9667\n",
      "Epoch 185/200\n",
      "450/450 [==============================] - 0s 808us/step - loss: 3.7426e-04 - acc: 1.0000 - val_loss: 0.2953 - val_acc: 0.9667\n",
      "Epoch 186/200\n",
      "450/450 [==============================] - 0s 777us/step - loss: 3.6557e-04 - acc: 1.0000 - val_loss: 0.2953 - val_acc: 0.9667\n",
      "Epoch 187/200\n",
      "450/450 [==============================] - 0s 812us/step - loss: 3.6712e-04 - acc: 1.0000 - val_loss: 0.2956 - val_acc: 0.9667\n",
      "Epoch 188/200\n",
      "450/450 [==============================] - 0s 858us/step - loss: 3.5683e-04 - acc: 1.0000 - val_loss: 0.2959 - val_acc: 0.9667\n",
      "Epoch 189/200\n",
      "450/450 [==============================] - 0s 765us/step - loss: 3.6029e-04 - acc: 1.0000 - val_loss: 0.2960 - val_acc: 0.9667\n",
      "Epoch 190/200\n",
      "450/450 [==============================] - 0s 803us/step - loss: 3.5347e-04 - acc: 1.0000 - val_loss: 0.2958 - val_acc: 0.9667\n",
      "Epoch 191/200\n",
      "450/450 [==============================] - 0s 730us/step - loss: 3.4949e-04 - acc: 1.0000 - val_loss: 0.2957 - val_acc: 0.9667\n",
      "Epoch 192/200\n",
      "450/450 [==============================] - 0s 727us/step - loss: 3.4604e-04 - acc: 1.0000 - val_loss: 0.2956 - val_acc: 0.9667\n",
      "Epoch 193/200\n",
      "450/450 [==============================] - 0s 719us/step - loss: 3.3808e-04 - acc: 1.0000 - val_loss: 0.2959 - val_acc: 0.9667\n",
      "Epoch 194/200\n",
      "450/450 [==============================] - 0s 810us/step - loss: 3.4022e-04 - acc: 1.0000 - val_loss: 0.2958 - val_acc: 0.9667\n",
      "Epoch 195/200\n",
      "450/450 [==============================] - 0s 735us/step - loss: 3.3393e-04 - acc: 1.0000 - val_loss: 0.2958 - val_acc: 0.9667\n",
      "Epoch 196/200\n",
      "450/450 [==============================] - 0s 796us/step - loss: 3.3024e-04 - acc: 1.0000 - val_loss: 0.2961 - val_acc: 0.9600\n",
      "Epoch 197/200\n",
      "450/450 [==============================] - 0s 729us/step - loss: 3.2673e-04 - acc: 1.0000 - val_loss: 0.2958 - val_acc: 0.9600\n",
      "Epoch 198/200\n",
      "450/450 [==============================] - 0s 826us/step - loss: 3.2184e-04 - acc: 1.0000 - val_loss: 0.2959 - val_acc: 0.9667\n",
      "Epoch 199/200\n",
      "450/450 [==============================] - 0s 696us/step - loss: 3.1953e-04 - acc: 1.0000 - val_loss: 0.2957 - val_acc: 0.9667\n",
      "Epoch 200/200\n",
      "450/450 [==============================] - 0s 850us/step - loss: 3.1559e-04 - acc: 1.0000 - val_loss: 0.2959 - val_acc: 0.9667\n"
     ]
    }
   ],
   "source": [
    "# Deep Learning Parameters\n",
    "batch_size = 5 # Number of samples per gradient update.\n",
    "epochs = 200    # An epoch is an iteration over the entire x and y data provided.\n",
    "\n",
    "# Train Model\n",
    "hist = model_d.fit(train_set_d, train_classes_d_hot, verbose=1, \n",
    "                    batch_size=batch_size, epochs=epochs, validation_data=(test_set_d,test_classes_d_hot))"
   ]
  },
  {
   "cell_type": "code",
   "execution_count": 22,
   "metadata": {},
   "outputs": [
    {
     "data": {
      "image/png": "[encoded data removed]",
      "text/plain": [
       "<Figure size 576x288 with 2 Axes>"
      ]
     },
     "metadata": {
      "needs_background": "light"
     },
     "output_type": "display_data"
    }
   ],
   "source": [
    "# Plot Training Loss and Training Accuracy\n",
    "plt.figure(figsize=(8,4))\n",
    "plt.subplot(1, 2, 1)\n",
    "plt.title(\"Training loss\")\n",
    "plt.plot(range(epochs),hist.history[\"loss\"])\n",
    "\n",
    "plt.subplot(1, 2, 2)\n",
    "plt.title(\"Training Accuracy\")\n",
    "plt.plot(range(epochs),hist.history[\"acc\"])\n",
    "\n",
    "plt.tight_layout()"
   ]
  },
  {
   "cell_type": "markdown",
   "metadata": {},
   "source": [
    "## Make Predictions"
   ]
  },
  {
   "cell_type": "code",
   "execution_count": 23,
   "metadata": {},
   "outputs": [],
   "source": [
    "# Predict\n",
    "predictions = model_d.predict(test_set_d)\n",
    "predictions_round=predictions.round().astype('int')\n",
    "predictions_int=np.argmax(predictions_round,axis=2)\n",
    "predictions_labels=labelencoder.inverse_transform(np.ravel(predictions_int))"
   ]
  },
  {
   "cell_type": "markdown",
   "metadata": {},
   "source": [
    "## Evaluation"
   ]
  },
  {
   "cell_type": "code",
   "execution_count": 24,
   "metadata": {},
   "outputs": [
    {
     "name": "stdout",
     "output_type": "stream",
     "text": [
      "Recall:  [0.92 1.   1.   1.   0.92 0.96]\n",
      "Precision:  [1.         1.         1.         0.92592593 0.95833333 0.92307692]\n",
      "F1-Score:  [0.95833333 1.         1.         0.96153846 0.93877551 0.94117647]\n",
      "Accuracy:  145\n",
      "Number of samples: 150\n"
     ]
    }
   ],
   "source": [
    "# Recall - the ability of the classifier to find all the positive samples\n",
    "print(\"Recall: \", recall_score(test_classes, predictions_int,average=None))\n",
    "\n",
    "# Precision - The precision is intuitively the ability of the classifier not to label as positive a sample that is negatives\n",
    "print(\"Precision: \", precision_score(test_classes, predictions_int,average=None))\n",
    "\n",
    "# F1-Score - The F1 score can be interpreted as a weighted average of the precision and recall,\n",
    "print(\"F1-Score: \", f1_score(test_classes, predictions_int, average=None))\n",
    "\n",
    "# Accuracy - the number of correctly classified samples\n",
    "print(\"Accuracy: \", accuracy_score(test_classes, predictions_int,normalize=False))\n",
    "print(\"Number of samples:\",test_classes.shape[0])"
   ]
  },
  {
   "cell_type": "code",
   "execution_count": 25,
   "metadata": {},
   "outputs": [],
   "source": [
    "# Compute confusion matrix\n",
    "cnf_matrix = confusion_matrix(test_classes, predictions_int)\n",
    "np.set_printoptions(precision=2)"
   ]
  },
  {
   "cell_type": "code",
   "execution_count": 26,
   "metadata": {},
   "outputs": [],
   "source": [
    "# Function to Plot Confusion Matrix\n",
    "# http://scikit-learn.org/stable/auto_examples/model_selection/plot_confusion_matrix.html\n",
    "def plot_confusion_matrix(cm, classes,\n",
    "                          normalize=False,\n",
    "                          title='Confusion matrix',\n",
    "                          cmap=plt.cm.Blues):\n",
    "    \"\"\"\n",
    "    This function prints and plots the confusion matrix.\n",
    "    Normalization can be applied by setting `normalize=True`.\n",
    "    \n",
    "    if normalize:\n",
    "        cm = cm.astype('float') / cm.sum(axis=1)[:, np.newaxis]\n",
    "        print(\"Normalized confusion matrix\")\n",
    "    else:\n",
    "        print('Confusion matrix, without normalization')\n",
    "    \"\"\"\n",
    "    #print(cm)\n",
    "\n",
    "    plt.imshow(cm, interpolation='nearest', cmap=cmap)\n",
    "    plt.title(title)\n",
    "    plt.colorbar()\n",
    "    tick_marks = np.arange(len(classes))\n",
    "    plt.xticks(tick_marks, classes, rotation=45)\n",
    "    plt.yticks(tick_marks, classes)\n",
    "\n",
    "    fmt = '.2f' if normalize else 'd'\n",
    "    thresh = cm.max() / 2.\n",
    "    for i, j in itertools.product(range(cm.shape[0]), range(cm.shape[1])):\n",
    "        plt.text(j, i, format(cm[i, j], fmt),\n",
    "                 horizontalalignment=\"center\",\n",
    "                 color=\"white\" if cm[i, j] > thresh else \"black\")\n",
    "\n",
    "    plt.tight_layout()\n",
    "    plt.ylabel('True label')\n",
    "    plt.xlabel('Predicted label')"
   ]
  },
  {
   "cell_type": "code",
   "execution_count": 27,
   "metadata": {},
   "outputs": [
    {
     "data": {
      "image/png": "[encoded data removed]",
      "text/plain": [
       "<Figure size 1152x864 with 2 Axes>"
      ]
     },
     "metadata": {
      "needs_background": "light"
     },
     "output_type": "display_data"
    }
   ],
   "source": [
    "# Plot non-normalized confusion matrix\n",
    "plt.figure(figsize=(16,12))\n",
    "plot_confusion_matrix(cnf_matrix, classes=labelencoder.classes_,\n",
    "                      title='Confusion matrix, without normalization')"
   ]
  },
  {
   "cell_type": "code",
   "execution_count": 28,
   "metadata": {},
   "outputs": [],
   "source": [
    "# Find wrong predicted samples indexes\n",
    "wrong_predictions = [i for i, (e1, e2) in enumerate(zip(test_classes, predictions_int)) if e1 != e2]"
   ]
  },
  {
   "cell_type": "code",
   "execution_count": 29,
   "metadata": {},
   "outputs": [
    {
     "name": "stdout",
     "output_type": "stream",
     "text": [
      "['viola' 'cello' 'cello' 'trumpet' 'trumpet']\n",
      "['trumpet' 'viola' 'sax' 'sax' 'viola']\n",
      "['./audio/london_phill_dataset_multi/viola/viola_A4_15_pianissimo_arco-normal.mp3'\n",
      " './audio/london_phill_dataset_multi/cello/cello_A2_025_fortissimo_arco-normal.mp3'\n",
      " './audio/london_phill_dataset_multi/cello/cello_Gs3_05_forte_arco-normal.mp3'\n",
      " './audio/london_phill_dataset_multi/trumpet/trumpet_A3_05_forte_normal.mp3'\n",
      " './audio/london_phill_dataset_multi/trumpet/trumpet_Cs4_15_pianissimo_normal.mp3']\n"
     ]
    }
   ],
   "source": [
    "# Find wrong predicted audio files\n",
    "print(np.array(labels)[test_index[wrong_predictions]])\n",
    "print(predictions_labels[wrong_predictions].T)\n",
    "print(np.array(files)[test_index[wrong_predictions]])"
   ]
  },
  {
   "cell_type": "code",
   "execution_count": 30,
   "metadata": {},
   "outputs": [],
   "source": [
    "def plot_history(history):\n",
    "    loss_list = [s for s in history.history.keys() if 'loss' in s and 'val' not in s]\n",
    "    val_loss_list = [s for s in history.history.keys() if 'loss' in s and 'val' in s]\n",
    "    acc_list = [s for s in history.history.keys() if 'acc' in s and 'val' not in s]\n",
    "    val_acc_list = [s for s in history.history.keys() if 'acc' in s and 'val' in s]\n",
    "    \n",
    "    if len(loss_list) == 0:\n",
    "        print('Loss is missing in history')\n",
    "        return \n",
    "    \n",
    "    ## As loss always exists\n",
    "    epochs = range(1,len(history.history[loss_list[0]]) + 1)\n",
    "    \n",
    "    ## Loss\n",
    "    plt.figure(1)\n",
    "    for l in loss_list:\n",
    "        plt.plot(epochs, history.history[l], 'b', label='Training loss (' + str(str(format(history.history[l][-1],'.5f'))+')'))\n",
    "    for l in val_loss_list:\n",
    "        plt.plot(epochs, history.history[l], 'g', label='Validation loss (' + str(str(format(history.history[l][-1],'.5f'))+')'))\n",
    "    \n",
    "    plt.title('Loss')\n",
    "    plt.xlabel('Epochs')\n",
    "    plt.ylabel('Loss')\n",
    "    plt.legend()\n",
    "    \n",
    "    ## Accuracy\n",
    "    plt.figure(2)\n",
    "    for l in acc_list:\n",
    "        plt.plot(epochs, history.history[l], 'b', label='Training accuracy (' + str(format(history.history[l][-1],'.5f'))+')')\n",
    "    for l in val_acc_list:    \n",
    "        plt.plot(epochs, history.history[l], 'g', label='Validation accuracy (' + str(format(history.history[l][-1],'.5f'))+')')\n",
    "\n",
    "    plt.title('Accuracy')\n",
    "    plt.xlabel('Epochs')\n",
    "    plt.ylabel('Accuracy')\n",
    "    plt.legend()\n",
    "    plt.show()"
   ]
  },
  {
   "cell_type": "code",
   "execution_count": 31,
   "metadata": {},
   "outputs": [
    {
     "data": {
      "image/png": "[encoded data removed]",
      "text/plain": [
       "<Figure size 432x288 with 1 Axes>"
      ]
     },
     "metadata": {
      "needs_background": "light"
     },
     "output_type": "display_data"
    },
    {
     "data": {
      "image/png": "[encoded data removed]",
      "text/plain": [
       "<Figure size 432x288 with 1 Axes>"
      ]
     },
     "metadata": {
      "needs_background": "light"
     },
     "output_type": "display_data"
    }
   ],
   "source": [
    "plot_history(hist)"
   ]
  },
  {
   "cell_type": "code",
   "execution_count": null,
   "metadata": {},
   "outputs": [],
   "source": []
  }
 ],
 "metadata": {
  "kernelspec": {
   "display_name": "Python 3",
   "language": "python",
   "name": "python3"
  },
  "language_info": {
   "codemirror_mode": {
    "name": "ipython",
    "version": 3
   },
   "file_extension": ".py",
   "mimetype": "text/x-python",
   "name": "python",
   "nbconvert_exporter": "python",
   "pygments_lexer": "ipython3",
   "version": "3.6.6"
  }
 },
 "nbformat": 4,
 "nbformat_minor": 2
}
